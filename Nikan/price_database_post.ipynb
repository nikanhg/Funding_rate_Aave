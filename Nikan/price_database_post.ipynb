{
 "cells": [
  {
   "cell_type": "code",
   "execution_count": 46,
   "metadata": {},
   "outputs": [],
   "source": [
    "import requests\n",
    "import pandas as pd\n",
    "import mysql.connector\n",
    "from mysql.connector import Error\n",
    "import calendar\n",
    "import os"
   ]
  },
  {
   "cell_type": "code",
   "execution_count": 37,
   "metadata": {},
   "outputs": [
    {
     "name": "stdout",
     "output_type": "stream",
     "text": [
      "Index(['Unnamed: 0', 'timestamp', 'open', 'high', 'low', 'close', 'volume',\n",
      "       'close_time', 'quote_asset_volume', 'number_of_trades',\n",
      "       'taker_buy_base_asset_volume', 'taker_buy_quote_asset_volume',\n",
      "       'ignore'],\n",
      "      dtype='object')\n",
      "33088\n"
     ]
    },
    {
     "data": {
      "text/html": [
       "<div>\n",
       "<style scoped>\n",
       "    .dataframe tbody tr th:only-of-type {\n",
       "        vertical-align: middle;\n",
       "    }\n",
       "\n",
       "    .dataframe tbody tr th {\n",
       "        vertical-align: top;\n",
       "    }\n",
       "\n",
       "    .dataframe thead th {\n",
       "        text-align: right;\n",
       "    }\n",
       "</style>\n",
       "<table border=\"1\" class=\"dataframe\">\n",
       "  <thead>\n",
       "    <tr style=\"text-align: right;\">\n",
       "      <th></th>\n",
       "      <th>Unnamed: 0</th>\n",
       "      <th>timestamp</th>\n",
       "      <th>open</th>\n",
       "      <th>high</th>\n",
       "      <th>low</th>\n",
       "      <th>close</th>\n",
       "      <th>volume</th>\n",
       "      <th>close_time</th>\n",
       "      <th>quote_asset_volume</th>\n",
       "      <th>number_of_trades</th>\n",
       "      <th>taker_buy_base_asset_volume</th>\n",
       "      <th>taker_buy_quote_asset_volume</th>\n",
       "      <th>ignore</th>\n",
       "    </tr>\n",
       "  </thead>\n",
       "  <tbody>\n",
       "    <tr>\n",
       "      <th>0</th>\n",
       "      <td>0</td>\n",
       "      <td>2020-12-25 05:00:00</td>\n",
       "      <td>0.2000</td>\n",
       "      <td>3.0885</td>\n",
       "      <td>0.2000</td>\n",
       "      <td>2.5826</td>\n",
       "      <td>13125130.77</td>\n",
       "      <td>1608875999999</td>\n",
       "      <td>3.553052e+07</td>\n",
       "      <td>48768</td>\n",
       "      <td>6316317.77</td>\n",
       "      <td>1.724763e+07</td>\n",
       "      <td>0</td>\n",
       "    </tr>\n",
       "    <tr>\n",
       "      <th>1</th>\n",
       "      <td>1</td>\n",
       "      <td>2020-12-25 06:00:00</td>\n",
       "      <td>2.5824</td>\n",
       "      <td>2.6900</td>\n",
       "      <td>2.2249</td>\n",
       "      <td>2.5059</td>\n",
       "      <td>9270672.93</td>\n",
       "      <td>1608879599999</td>\n",
       "      <td>2.244087e+07</td>\n",
       "      <td>31099</td>\n",
       "      <td>4094773.68</td>\n",
       "      <td>9.861481e+06</td>\n",
       "      <td>0</td>\n",
       "    </tr>\n",
       "    <tr>\n",
       "      <th>2</th>\n",
       "      <td>2</td>\n",
       "      <td>2020-12-25 07:00:00</td>\n",
       "      <td>2.5152</td>\n",
       "      <td>2.8870</td>\n",
       "      <td>2.3609</td>\n",
       "      <td>2.6237</td>\n",
       "      <td>7923760.56</td>\n",
       "      <td>1608883199999</td>\n",
       "      <td>2.130043e+07</td>\n",
       "      <td>33001</td>\n",
       "      <td>4311917.31</td>\n",
       "      <td>1.160785e+07</td>\n",
       "      <td>0</td>\n",
       "    </tr>\n",
       "  </tbody>\n",
       "</table>\n",
       "</div>"
      ],
      "text/plain": [
       "   Unnamed: 0            timestamp    open    high     low   close  \\\n",
       "0           0  2020-12-25 05:00:00  0.2000  3.0885  0.2000  2.5826   \n",
       "1           1  2020-12-25 06:00:00  2.5824  2.6900  2.2249  2.5059   \n",
       "2           2  2020-12-25 07:00:00  2.5152  2.8870  2.3609  2.6237   \n",
       "\n",
       "        volume     close_time  quote_asset_volume  number_of_trades  \\\n",
       "0  13125130.77  1608875999999        3.553052e+07             48768   \n",
       "1   9270672.93  1608879599999        2.244087e+07             31099   \n",
       "2   7923760.56  1608883199999        2.130043e+07             33001   \n",
       "\n",
       "   taker_buy_base_asset_volume  taker_buy_quote_asset_volume  ignore  \n",
       "0                   6316317.77                  1.724763e+07       0  \n",
       "1                   4094773.68                  9.861481e+06       0  \n",
       "2                   4311917.31                  1.160785e+07       0  "
      ]
     },
     "execution_count": 37,
     "metadata": {},
     "output_type": "execute_result"
    }
   ],
   "source": [
    "test_csv = pd.read_csv('1INCHUSDT.csv')\n",
    "print(test_csv.columns)\n",
    "print(len(test_csv))\n",
    "test_csv.head(3)"
   ]
  },
  {
   "cell_type": "code",
   "execution_count": 38,
   "metadata": {},
   "outputs": [
    {
     "name": "stdout",
     "output_type": "stream",
     "text": [
      "2024-10-04 10:00:00\n",
      "2020-12-25 05:00:00\n"
     ]
    }
   ],
   "source": [
    "test_csv['timestamp'] = pd.to_datetime(test_csv['timestamp'])\n",
    "print(max(test_csv['timestamp']))\n",
    "print(min(test_csv['timestamp']))"
   ]
  },
  {
   "cell_type": "code",
   "execution_count": 39,
   "metadata": {},
   "outputs": [],
   "source": [
    "test_csv = test_csv.head(20)"
   ]
  },
  {
   "cell_type": "code",
   "execution_count": null,
   "metadata": {},
   "outputs": [],
   "source": [
    "import mysql.connector\n",
    "from mysql.connector import Error\n",
    "\n",
    "# MySQL database connection function\n",
    "def connect_to_database():\n",
    "    try:\n",
    "        # Establishing connection to the database\n",
    "        connection = mysql.connector.connect(\n",
    "            host='crypto-matter.c5eq66ogk1mf.eu-central-1.rds.amazonaws.com',\n",
    "            database='Crypto',\n",
    "            user='Jing',  # Replace with your actual first name\n",
    "            password='Crypto12!'\n",
    "        )\n",
    "\n",
    "        if connection.is_connected():\n",
    "            db_info = connection.get_server_info()\n",
    "            print(\"Connected to MySQL database, MySQL Server version: \", db_info)\n",
    "            return connection\n",
    "\n",
    "    except Error as e:\n",
    "        print(\"Error while connecting to MySQL\", e)\n",
    "        return None\n",
    "\n",
    "# Function to execute a SQL query and return the results as a list of tuples\n",
    "def execute_select_query(connection, query, params=None):\n",
    "    cursor = connection.cursor()\n",
    "    try:\n",
    "        if params:\n",
    "            cursor.execute(query, params)\n",
    "        else:\n",
    "            cursor.execute(query)\n",
    "        result = cursor.fetchall()\n",
    "        return result\n",
    "    except Error as e:\n",
    "        print(f\"Error executing query: {e}\")\n",
    "        return None\n",
    "\n",
    "# Example: Query to get all price data for a specific crypto_symbol\n",
    "def get_all_price_data(connection, crypto_symbol):\n",
    "    query = \"\"\"\n",
    "    SELECT * \n",
    "    FROM crypto_price \n",
    "    WHERE crypto_symbol = %s\n",
    "    \"\"\"\n",
    "    return execute_select_query(connection, query, (crypto_symbol,))\n",
    "\n",
    "# Example: Query to get highest and lowest prices for a crypto_symbol in a specific month\n",
    "def get_high_low_for_month(connection, crypto_symbol, year, month):\n",
    "    query = \"\"\"\n",
    "    SELECT \n",
    "        MAX(high) AS max_high, \n",
    "        MIN(low) AS min_low\n",
    "    FROM crypto_price \n",
    "    WHERE crypto_symbol = %s\n",
    "      AND YEAR(date) = %s \n",
    "      AND MONTH(date) = %s\n",
    "    \"\"\"\n",
    "    return execute_select_query(connection, query, (crypto_symbol, year, month))\n",
    "\n",
    "# Example: Query to get average closing price for a crypto_symbol in a specific date range\n",
    "def get_average_close_price(connection, crypto_symbol, start_date, end_date):\n",
    "    query = \"\"\"\n",
    "    SELECT \n",
    "        AVG(close) AS avg_close\n",
    "    FROM crypto_price \n",
    "    WHERE crypto_symbol = %s\n",
    "      AND date BETWEEN %s AND %s\n",
    "    \"\"\"\n",
    "    return execute_select_query(connection, query, (crypto_symbol, start_date, end_date))\n",
    "\n",
    "# Example: Query to get the most recent price for a crypto_symbol\n",
    "def get_most_recent_price(connection, crypto_symbol):\n",
    "    query = \"\"\"\n",
    "    SELECT * \n",
    "    FROM crypto_price \n",
    "    WHERE crypto_symbol = %s\n",
    "    ORDER BY date DESC\n",
    "    LIMIT 1\n",
    "    \"\"\"\n",
    "    return execute_select_query(connection, query, (crypto_symbol,))\n",
    "\n",
    "# Main function to test the queries\n",
    "def main():\n",
    "    # Connect to MySQL database\n",
    "    connection = connect_to_database()\n",
    "\n",
    "    if connection:\n",
    "        # Example 1: Get all price data for 'BTCUSDT'\n",
    "        all_data = get_all_price_data(connection, 'BTCUSDT')\n",
    "        print(\"All price data for BTCUSDT:\")\n",
    "        for row in all_data:\n",
    "            print(row)\n",
    "\n",
    "        # Example 2: Get highest and lowest prices for 'BTCUSDT' in August 2023\n",
    "        high_low = get_high_low_for_month(connection, 'BTCUSDT', 2023, 8)\n",
    "        print(\"\\nHighest and lowest prices for BTCUSDT in August 2023:\")\n",
    "        print(high_low)\n",
    "\n",
    "        # Example 3: Get\n"
   ]
  },
  {
   "cell_type": "code",
   "execution_count": 7,
   "metadata": {},
   "outputs": [],
   "source": [
    "# MySQL database connection function\n",
    "def connect_to_database():\n",
    "    try:\n",
    "        # Establishing connection to the database\n",
    "        connection = mysql.connector.connect(\n",
    "            host='crypto-matter.c5eq66ogk1mf.eu-central-1.rds.amazonaws.com',\n",
    "            database='Crypto',\n",
    "            user='Jing',  # Replace with your actual first name\n",
    "            password='Crypto12!'\n",
    "        )\n",
    "\n",
    "        if connection.is_connected():\n",
    "            db_info = connection.get_server_info()\n",
    "            print(\"Connected to MySQL database, MySQL Server version: \", db_info)\n",
    "            return connection\n",
    "\n",
    "    except Error as e:\n",
    "        print(\"Error while connecting to MySQL\", e)\n",
    "        return None"
   ]
  },
  {
   "cell_type": "code",
   "execution_count": 11,
   "metadata": {},
   "outputs": [
    {
     "name": "stdout",
     "output_type": "stream",
     "text": [
      "Connected to MySQL database, MySQL Server version:  8.0.39\n"
     ]
    }
   ],
   "source": [
    "connection = connect_to_database()"
   ]
  },
  {
   "cell_type": "code",
   "execution_count": 12,
   "metadata": {},
   "outputs": [
    {
     "data": {
      "text/plain": [
       "[bytearray(b'crypto_lending_borrowing'),\n",
       " bytearray(b'crypto_price'),\n",
       " bytearray(b'crypto_reference')]"
      ]
     },
     "execution_count": 12,
     "metadata": {},
     "output_type": "execute_result"
    }
   ],
   "source": [
    "# Function to get all table names in the database\n",
    "def get_table_names(connection):\n",
    "    cursor = connection.cursor()\n",
    "    cursor.execute(\"SHOW TABLES;\")\n",
    "    tables = cursor.fetchall()\n",
    "    return [table[0] for table in tables]\n",
    "\n",
    "get_table_names(connection)"
   ]
  },
  {
   "cell_type": "code",
   "execution_count": 48,
   "metadata": {},
   "outputs": [
    {
     "name": "stdout",
     "output_type": "stream",
     "text": [
      "Column: crypto_symbol, Data Type: b'varchar(10)'\n",
      "Column: date, Data Type: b'datetime'\n",
      "Column: high, Data Type: b'decimal(15,2)'\n",
      "Column: low, Data Type: b'decimal(15,2)'\n",
      "Column: close, Data Type: b'decimal(15,2)'\n",
      "Column: adj_close, Data Type: b'decimal(15,2)'\n",
      "Column: volume, Data Type: b'bigint'\n",
      "Column: market_cap, Data Type: b'bigint'\n",
      "Column: coin_supply, Data Type: b'bigint'\n"
     ]
    }
   ],
   "source": [
    "# Function to get column names and their data types for a specific table\n",
    "def get_column_names_and_data_types(connection, table_name):\n",
    "    cursor = connection.cursor()\n",
    "    \n",
    "    # Run SHOW COLUMNS to get both the column names and their data types\n",
    "    cursor.execute(f\"SHOW COLUMNS FROM {table_name};\")\n",
    "    \n",
    "    # Fetch the columns and their metadata\n",
    "    columns = cursor.fetchall()\n",
    "    \n",
    "    # Create a list of tuples with column name and data type\n",
    "    column_info = [(column[0], column[1]) for column in columns]\n",
    "    \n",
    "    return column_info\n",
    "\n",
    "# Example usage: get column names and data types for 'crypto_price' table\n",
    "column_info = get_column_names_and_data_types(connection, 'crypto_price')\n",
    "\n",
    "# Print the column names and data types\n",
    "for col_name, col_type in column_info:\n",
    "    print(f\"Column: {col_name}, Data Type: {col_type}\")\n"
   ]
  },
  {
   "cell_type": "code",
   "execution_count": null,
   "metadata": {},
   "outputs": [],
   "source": [
    "# Function to view data from a specific table\n",
    "def view_table_data(connection, table_name, limit=10):\n",
    "    cursor = connection.cursor()\n",
    "    query = f\"SELECT * FROM {table_name} LIMIT %s;\"\n",
    "    cursor.execute(query, (limit,))\n",
    "    data = cursor.fetchall()\n",
    "    return data\n",
    "\n"
   ]
  },
  {
   "cell_type": "code",
   "execution_count": 40,
   "metadata": {},
   "outputs": [
    {
     "name": "stdout",
     "output_type": "stream",
     "text": [
      "Row deleted from crypto_price where crypto_symbol = 1INCHUSDT\n"
     ]
    }
   ],
   "source": [
    "# Function to delete a row based on column value\n",
    "def delete_row_by_column_value(connection, table_name, column_name, column_value):\n",
    "    cursor = connection.cursor()\n",
    "    try:\n",
    "        # SQL DELETE query with placeholders\n",
    "        delete_query = f\"DELETE FROM {table_name} WHERE {column_name} = %s;\"\n",
    "        cursor.execute(delete_query, (column_value,))\n",
    "        connection.commit()  # Commit the transaction\n",
    "        print(f\"Row deleted from {table_name} where {column_name} = {column_value}\")\n",
    "    except Error as e:\n",
    "        print(f\"Error deleting data: {e}\")\n",
    "\n",
    "# Deleting the dummies\n",
    "delete_row_by_column_value(connection, 'crypto_price', 'crypto_symbol', '1INCHUSDT')"
   ]
  },
  {
   "cell_type": "code",
   "execution_count": null,
   "metadata": {},
   "outputs": [],
   "source": []
  },
  {
   "cell_type": "code",
   "execution_count": 34,
   "metadata": {},
   "outputs": [
    {
     "data": {
      "text/plain": [
       "Unnamed: 0                                        0\n",
       "timestamp                       2020-12-25 05:00:00\n",
       "open                                            0.2\n",
       "high                                         3.0885\n",
       "low                                             0.2\n",
       "close                                        2.5826\n",
       "volume                                  13125130.77\n",
       "close_time                            1608875999999\n",
       "quote_asset_volume                  35530516.326796\n",
       "number_of_trades                              48768\n",
       "taker_buy_base_asset_volume              6316317.77\n",
       "taker_buy_quote_asset_volume         17247626.52057\n",
       "ignore                                            0\n",
       "Name: 0, dtype: object"
      ]
     },
     "execution_count": 34,
     "metadata": {},
     "output_type": "execute_result"
    }
   ],
   "source": [
    "test_csv.iloc[0]"
   ]
  },
  {
   "cell_type": "code",
   "execution_count": 35,
   "metadata": {},
   "outputs": [],
   "source": [
    "# Function to store data into MySQL database (crypto_price table)\n",
    "def store_to_mysql(df, connection, table_name, crypto_symbol):\n",
    "    cursor = connection.cursor()\n",
    "\n",
    "    # Step 1: Check if the crypto_symbol exists in crypto_reference table\n",
    "    check_query = \"SELECT crypto_symbol FROM crypto_reference WHERE crypto_symbol = %s\"\n",
    "    cursor.execute(check_query, (crypto_symbol,))\n",
    "    result = cursor.fetchone()\n",
    "\n",
    "    # Step 2: If the crypto_symbol does not exist, insert it into the crypto_reference table\n",
    "    if result is None:\n",
    "        print(f\"{crypto_symbol} not found in crypto_reference, inserting now...\")\n",
    "        insert_reference_query = \"INSERT INTO crypto_reference (crypto_symbol, crypto_name) VALUES (%s, %s)\"\n",
    "        cursor.execute(insert_reference_query, (crypto_symbol, crypto_symbol))  # Assuming crypto_name is the same as the symbol\n",
    "\n",
    "    # Step 3: Insert data into crypto_price table, use ON DUPLICATE KEY UPDATE to prevent duplicates\n",
    "    insert_query = f\"\"\"\n",
    "    INSERT INTO {table_name} \n",
    "    (crypto_symbol, date, high, low, close, adj_close, volume, market_cap, coin_supply) \n",
    "    VALUES (%s, %s, %s, %s, %s, %s, %s, %s, %s)\n",
    "    ON DUPLICATE KEY UPDATE \n",
    "    high=VALUES(high), low=VALUES(low), close=VALUES(close), adj_close=VALUES(adj_close), volume=VALUES(volume), market_cap=VALUES(market_cap), coin_supply=VALUES(coin_supply)\n",
    "    \"\"\"\n",
    "\n",
    "    for row in df.itertuples(index=False):\n",
    "        # Convert timestamp to string in the format MySQL expects ('YYYY-MM-DD HH:MM:SS')\n",
    "        timestamp_str = row.timestamp.strftime('%Y-%m-%d %H:%M:%S')\n",
    "\n",
    "        # Ensure the values passed match the types expected in the SQL table\n",
    "        cursor.execute(insert_query, (\n",
    "            crypto_symbol,               # crypto_symbol\n",
    "            timestamp_str,               # date\n",
    "            round(row.high, 2),          # high (decimal)\n",
    "            round(row.low, 2),           # low (decimal)\n",
    "            round(row.close, 2),         # close (decimal)\n",
    "            round(row.close, 2),         # adj_close (use close if no adj_close column)\n",
    "            int(row.volume),             # volume (bigint)\n",
    "            None,                        # market_cap (assumed None as it's not in the CSV)\n",
    "            None                         # coin_supply (assumed None as it's not in the CSV)\n",
    "        ))\n",
    "\n",
    "    connection.commit()\n",
    "    print(f\"{len(df)} records successfully inserted into {table_name} table\")\n"
   ]
  },
  {
   "cell_type": "code",
   "execution_count": 42,
   "metadata": {},
   "outputs": [
    {
     "name": "stdout",
     "output_type": "stream",
     "text": [
      "20 records successfully inserted into crypto_price table\n"
     ]
    }
   ],
   "source": [
    "store_to_mysql(test_csv, connection, 'crypto_price', '1INCHUSDT')"
   ]
  },
  {
   "cell_type": "code",
   "execution_count": 43,
   "metadata": {},
   "outputs": [
    {
     "data": {
      "text/plain": [
       "[('1INCHUSDT',\n",
       "  datetime.datetime(2020, 12, 25, 5, 0),\n",
       "  Decimal('3.09'),\n",
       "  Decimal('0.20'),\n",
       "  Decimal('2.58'),\n",
       "  Decimal('2.58'),\n",
       "  13125130,\n",
       "  None,\n",
       "  None),\n",
       " ('1INCHUSDT',\n",
       "  datetime.datetime(2020, 12, 25, 6, 0),\n",
       "  Decimal('2.69'),\n",
       "  Decimal('2.22'),\n",
       "  Decimal('2.51'),\n",
       "  Decimal('2.51'),\n",
       "  9270672,\n",
       "  None,\n",
       "  None),\n",
       " ('1INCHUSDT',\n",
       "  datetime.datetime(2020, 12, 25, 7, 0),\n",
       "  Decimal('2.89'),\n",
       "  Decimal('2.36'),\n",
       "  Decimal('2.62'),\n",
       "  Decimal('2.62'),\n",
       "  7923760,\n",
       "  None,\n",
       "  None),\n",
       " ('1INCHUSDT',\n",
       "  datetime.datetime(2020, 12, 25, 8, 0),\n",
       "  Decimal('2.82'),\n",
       "  Decimal('2.46'),\n",
       "  Decimal('2.61'),\n",
       "  Decimal('2.61'),\n",
       "  6625565,\n",
       "  None,\n",
       "  None),\n",
       " ('1INCHUSDT',\n",
       "  datetime.datetime(2020, 12, 25, 9, 0),\n",
       "  Decimal('2.75'),\n",
       "  Decimal('2.56'),\n",
       "  Decimal('2.64'),\n",
       "  Decimal('2.64'),\n",
       "  3739132,\n",
       "  None,\n",
       "  None),\n",
       " ('1INCHUSDT',\n",
       "  datetime.datetime(2020, 12, 25, 10, 0),\n",
       "  Decimal('2.98'),\n",
       "  Decimal('2.63'),\n",
       "  Decimal('2.77'),\n",
       "  Decimal('2.77'),\n",
       "  7946712,\n",
       "  None,\n",
       "  None),\n",
       " ('1INCHUSDT',\n",
       "  datetime.datetime(2020, 12, 25, 11, 0),\n",
       "  Decimal('2.87'),\n",
       "  Decimal('2.54'),\n",
       "  Decimal('2.65'),\n",
       "  Decimal('2.65'),\n",
       "  5894097,\n",
       "  None,\n",
       "  None),\n",
       " ('1INCHUSDT',\n",
       "  datetime.datetime(2020, 12, 25, 12, 0),\n",
       "  Decimal('2.80'),\n",
       "  Decimal('2.37'),\n",
       "  Decimal('2.41'),\n",
       "  Decimal('2.41'),\n",
       "  5144173,\n",
       "  None,\n",
       "  None),\n",
       " ('1INCHUSDT',\n",
       "  datetime.datetime(2020, 12, 25, 13, 0),\n",
       "  Decimal('2.50'),\n",
       "  Decimal('2.24'),\n",
       "  Decimal('2.31'),\n",
       "  Decimal('2.31'),\n",
       "  6747314,\n",
       "  None,\n",
       "  None),\n",
       " ('1INCHUSDT',\n",
       "  datetime.datetime(2020, 12, 25, 14, 0),\n",
       "  Decimal('2.32'),\n",
       "  Decimal('1.90'),\n",
       "  Decimal('2.05'),\n",
       "  Decimal('2.05'),\n",
       "  10682039,\n",
       "  None,\n",
       "  None)]"
      ]
     },
     "execution_count": 43,
     "metadata": {},
     "output_type": "execute_result"
    }
   ],
   "source": [
    "view_table_data(connection, 'crypto_price')"
   ]
  },
  {
   "cell_type": "code",
   "execution_count": 47,
   "metadata": {},
   "outputs": [
    {
     "name": "stdout",
     "output_type": "stream",
     "text": [
      "1INCHUSDT\n",
      "AAVEUSDT\n",
      "ARBUSDT\n",
      "BALUSDT\n",
      "BATUSDT\n",
      "BTCUSDT\n",
      "BUSDUSDT\n",
      "CAKEUSDT\n",
      "CRVUSDT\n",
      "DAIUSDT\n",
      "ENJUSDT\n",
      "ENSUSDT\n",
      "ETHUSDT\n",
      "FDUSDUSDT\n",
      "FXSUSDT\n",
      "GHSTUSDT\n",
      "GNOUSDT\n",
      "KNCUSDT\n",
      "LDOUSDT\n",
      "LENDUSDT\n",
      "LINKUSDT\n",
      "MANAUSDT\n",
      "METISUSDT\n",
      "MKRUSDT\n",
      "OPUSDT\n",
      "RENUSDT\n",
      "REPUSDT\n",
      "RPLUSDT\n",
      "SNXUSDT\n",
      "STGUSDT\n",
      "SUSDUSDT\n",
      "SUSHIUSDT\n",
      "TUSDUSDT\n",
      "UNIUSDT\n",
      "USDCUSDT\n",
      "WBTCUSDT\n",
      "YFIUSDT\n",
      "ZRXUSDT\n"
     ]
    }
   ],
   "source": [
    "# looping through csv files\n",
    "\n",
    "directory_path = \"prices\"\n",
    "\n",
    "for filename in os.listdir(directory_path):\n",
    "    if filename.endswith(\".csv\"):\n",
    "          try:\n",
    "               file_path = os.path.join(directory_path, filename)\n",
    "               file_name_without_extension = filename.split('.')[0]\n",
    "               name = file_name_without_extension\n",
    "               print(name)\n",
    "\n",
    "               # Read the CSV file into a DataFrame\n",
    "               df = pd.read_csv(file_path)\n",
    "               df['timestamp'] = pd.to_datetime(df['timestamp'])\n",
    "               store_to_mysql(df, connection, 'crypto_price', name)\n",
    "\n",
    "          except Exception as e:\n",
    "               print(f\"An error occurred while processing {filename}: {e}\")\n",
    "               continue\n"
   ]
  },
  {
   "cell_type": "code",
   "execution_count": null,
   "metadata": {},
   "outputs": [],
   "source": []
  }
 ],
 "metadata": {
  "kernelspec": {
   "display_name": "base",
   "language": "python",
   "name": "python3"
  },
  "language_info": {
   "codemirror_mode": {
    "name": "ipython",
    "version": 3
   },
   "file_extension": ".py",
   "mimetype": "text/x-python",
   "name": "python",
   "nbconvert_exporter": "python",
   "pygments_lexer": "ipython3",
   "version": "3.11.5"
  }
 },
 "nbformat": 4,
 "nbformat_minor": 2
}
