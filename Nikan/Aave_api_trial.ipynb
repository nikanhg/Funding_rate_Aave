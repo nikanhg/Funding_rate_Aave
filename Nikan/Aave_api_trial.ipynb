{
 "cells": [
  {
   "cell_type": "code",
   "execution_count": null,
   "metadata": {},
   "outputs": [],
   "source": [
    "import requests\n",
    "\n",
    "# Base URL for Aave API\n",
    "base_url = \"https://aave-api-v2.aave.com/data/rates-history\"\n",
    "\n",
    "# Parameters for the API request\n",
    "params = {\n",
    "    'reserveId': '0x6b175474e89094c44da98b954eedeac495271d0f0x24a42fd28c976a61df5d00d0599c34c4f90748c8',  # The address of the reserve (e.g., DAI, USDC)\n",
    "    'from': '1116507720',  # Start time in Unix timestamp (optional)\n",
    "    'to': '1589893320',  # End time in Unix timestamp (optional)\n",
    "}\n",
    "\n",
    "# Send GET request to Aave API to get historical rates\n",
    "response = requests.get(base_url, params=params)\n",
    "\n",
    "# Check if the request was successful\n",
    "if response.status_code == 200:\n",
    "    # Parse and display the JSON response\n",
    "    historical_data = response.json()\n",
    "    print(historical_data)\n",
    "else:\n",
    "    print(f\"Failed to retrieve data: {response.status_code}\")\n"
   ]
  }
 ],
 "metadata": {
  "language_info": {
   "name": "python"
  }
 },
 "nbformat": 4,
 "nbformat_minor": 2
}
