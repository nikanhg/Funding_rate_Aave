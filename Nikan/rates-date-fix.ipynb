{
 "cells": [
  {
   "cell_type": "code",
   "execution_count": 23,
   "metadata": {},
   "outputs": [],
   "source": [
    "import pandas as pd\n",
    "import numpy as np"
   ]
  },
  {
   "cell_type": "code",
   "execution_count": 24,
   "metadata": {},
   "outputs": [
    {
     "data": {
      "text/html": [
       "<div>\n",
       "<style scoped>\n",
       "    .dataframe tbody tr th:only-of-type {\n",
       "        vertical-align: middle;\n",
       "    }\n",
       "\n",
       "    .dataframe tbody tr th {\n",
       "        vertical-align: top;\n",
       "    }\n",
       "\n",
       "    .dataframe thead th {\n",
       "        text-align: right;\n",
       "    }\n",
       "</style>\n",
       "<table border=\"1\" class=\"dataframe\">\n",
       "  <thead>\n",
       "    <tr style=\"text-align: right;\">\n",
       "      <th></th>\n",
       "      <th>Unnamed: 0</th>\n",
       "      <th>Symbol</th>\n",
       "      <th>Timestamp</th>\n",
       "      <th>liquidityRate_avg</th>\n",
       "      <th>variableBorrowRate_avg</th>\n",
       "      <th>utilizationRate_avg</th>\n",
       "      <th>stableBorrowRate_avg</th>\n",
       "    </tr>\n",
       "  </thead>\n",
       "  <tbody>\n",
       "    <tr>\n",
       "      <th>0</th>\n",
       "      <td>0</td>\n",
       "      <td>DAI</td>\n",
       "      <td>2020-11-01 16:00:00</td>\n",
       "      <td>0.000899</td>\n",
       "      <td>0.003996</td>\n",
       "      <td>0.083333</td>\n",
       "      <td>0.042083</td>\n",
       "    </tr>\n",
       "    <tr>\n",
       "      <th>1</th>\n",
       "      <td>1</td>\n",
       "      <td>DAI</td>\n",
       "      <td>2020-11-01 17:00:00</td>\n",
       "      <td>0.000000</td>\n",
       "      <td>0.000000</td>\n",
       "      <td>0.250000</td>\n",
       "      <td>0.046250</td>\n",
       "    </tr>\n",
       "    <tr>\n",
       "      <th>2</th>\n",
       "      <td>2</td>\n",
       "      <td>DAI</td>\n",
       "      <td>2020-11-01 18:00:00</td>\n",
       "      <td>0.000000</td>\n",
       "      <td>0.000000</td>\n",
       "      <td>0.250000</td>\n",
       "      <td>0.046250</td>\n",
       "    </tr>\n",
       "  </tbody>\n",
       "</table>\n",
       "</div>"
      ],
      "text/plain": [
       "   Unnamed: 0 Symbol            Timestamp  liquidityRate_avg  \\\n",
       "0           0    DAI  2020-11-01 16:00:00           0.000899   \n",
       "1           1    DAI  2020-11-01 17:00:00           0.000000   \n",
       "2           2    DAI  2020-11-01 18:00:00           0.000000   \n",
       "\n",
       "   variableBorrowRate_avg  utilizationRate_avg  stableBorrowRate_avg  \n",
       "0                0.003996             0.083333              0.042083  \n",
       "1                0.000000             0.250000              0.046250  \n",
       "2                0.000000             0.250000              0.046250  "
      ]
     },
     "execution_count": 24,
     "metadata": {},
     "output_type": "execute_result"
    }
   ],
   "source": [
    "rates_df = pd.read_csv('../data/rates_data_v3.csv')\n",
    "rates_df.head(3)"
   ]
  },
  {
   "cell_type": "code",
   "execution_count": 25,
   "metadata": {},
   "outputs": [
    {
     "data": {
      "text/plain": [
       "0          2020-11-01 16:00:00\n",
       "1          2020-11-01 17:00:00\n",
       "2          2020-11-01 18:00:00\n",
       "3          2020-11-01 19:00:00\n",
       "4          2020-11-01 20:00:00\n",
       "                  ...         \n",
       "2141197    2024-09-24 02:00:00\n",
       "2141198    2024-09-24 03:00:00\n",
       "2141199    2024-09-24 04:00:00\n",
       "2141200    2024-09-24 05:00:00\n",
       "2141201    2024-09-24 06:00:00\n",
       "Name: Timestamp, Length: 2141202, dtype: object"
      ]
     },
     "execution_count": 25,
     "metadata": {},
     "output_type": "execute_result"
    }
   ],
   "source": [
    "rates_df['Timestamp']"
   ]
  },
  {
   "cell_type": "code",
   "execution_count": 26,
   "metadata": {},
   "outputs": [
    {
     "data": {
      "text/plain": [
       "year\n",
       "2023    595680\n",
       "2022    563581\n",
       "2024    476369\n",
       "2021    473347\n",
       "2020     32225\n",
       "Name: count, dtype: int64"
      ]
     },
     "execution_count": 26,
     "metadata": {},
     "output_type": "execute_result"
    }
   ],
   "source": [
    "# Loop through each date, attempt conversion, and print non-convertible ones\n",
    "rates_df['year'] = rates_df['Timestamp'].apply(lambda x:x[0:4])\n",
    "rates_df['year'] = rates_df['year'].apply(lambda x: int(x))\n",
    "rates_df['year'].value_counts(dropna=False)\n",
    "# it seems there is no problem with years"
   ]
  },
  {
   "cell_type": "code",
   "execution_count": 27,
   "metadata": {},
   "outputs": [
    {
     "data": {
      "text/plain": [
       "month\n",
       "8     191197\n",
       "7     188558\n",
       "5     186744\n",
       "3     185290\n",
       "9     182858\n",
       "6     181299\n",
       "1     180749\n",
       "10    180144\n",
       "4     180108\n",
       "12    177302\n",
       "2     166550\n",
       "11    140403\n",
       "Name: count, dtype: int64"
      ]
     },
     "execution_count": 27,
     "metadata": {},
     "output_type": "execute_result"
    }
   ],
   "source": [
    "rates_df['month'] = rates_df['Timestamp'].apply(lambda x:x[5:7])\n",
    "# the problem might be here because of 00 , 01, ..\n",
    "rates_df['month'] = rates_df['month'].apply(lambda x: int(x) + 1)\n",
    "rates_df['month'].value_counts(dropna=False)"
   ]
  },
  {
   "cell_type": "code",
   "execution_count": 28,
   "metadata": {},
   "outputs": [
    {
     "name": "stdout",
     "output_type": "stream",
     "text": [
      "31\n"
     ]
    },
    {
     "data": {
      "text/plain": [
       "day\n",
       "3     70582\n",
       "4     70512\n",
       "5     70512\n",
       "7     70498\n",
       "8     70491\n",
       "9     70488\n",
       "10    70476\n",
       "12    70476\n",
       "6     70468\n",
       "13    70464\n",
       "11    70442\n",
       "21    70402\n",
       "20    70398\n",
       "19    70381\n",
       "22    70374\n",
       "14    70371\n",
       "18    70369\n",
       "16    70368\n",
       "15    70368\n",
       "17    70361\n",
       "23    70346\n",
       "24    70314\n",
       "26    70296\n",
       "25    70288\n",
       "27    70288\n",
       "28    70214\n",
       "2     70055\n",
       "1     69570\n",
       "29    65879\n",
       "30    64143\n",
       "31    41008\n",
       "Name: count, dtype: int64"
      ]
     },
     "execution_count": 28,
     "metadata": {},
     "output_type": "execute_result"
    }
   ],
   "source": [
    "rates_df['day'] = rates_df['Timestamp'].apply(lambda x:x[8:10])\n",
    "rates_df['day'] = rates_df['day'].apply(lambda x: int(x))\n",
    "print(len(rates_df['day'].value_counts(dropna=False)))\n",
    "rates_df['day'].value_counts(dropna=False)\n",
    "# this also seems fine"
   ]
  },
  {
   "cell_type": "code",
   "execution_count": 29,
   "metadata": {},
   "outputs": [
    {
     "name": "stdout",
     "output_type": "stream",
     "text": [
      "24\n"
     ]
    },
    {
     "data": {
      "text/plain": [
       "hour\n",
       "0     89226\n",
       "1     89226\n",
       "23    89225\n",
       "22    89224\n",
       "2     89223\n",
       "3     89222\n",
       "21    89222\n",
       "16    89221\n",
       "20    89221\n",
       "17    89219\n",
       "4     89219\n",
       "18    89219\n",
       "19    89218\n",
       "5     89217\n",
       "15    89216\n",
       "14    89214\n",
       "10    89213\n",
       "12    89212\n",
       "6     89211\n",
       "11    89211\n",
       "7     89209\n",
       "9     89209\n",
       "8     89207\n",
       "13    89198\n",
       "Name: count, dtype: int64"
      ]
     },
     "execution_count": 29,
     "metadata": {},
     "output_type": "execute_result"
    }
   ],
   "source": [
    "rates_df['hour'] = rates_df['Timestamp'].apply(lambda x:x[11:13])\n",
    "rates_df['hour'] = rates_df['hour'].apply(lambda x: int(x))\n",
    "print(len(rates_df['hour'].value_counts(dropna=False)))\n",
    "rates_df['hour'].value_counts(dropna=False)\n",
    "# this also seems fine"
   ]
  },
  {
   "cell_type": "code",
   "execution_count": 30,
   "metadata": {},
   "outputs": [],
   "source": [
    "rates_df['datetime'] = pd.to_datetime(rates_df[['year', 'month', 'day', 'hour']])\n",
    "# The whole problem was because of the fact that months started from 0 instead of 1"
   ]
  },
  {
   "cell_type": "code",
   "execution_count": 33,
   "metadata": {},
   "outputs": [
    {
     "data": {
      "text/html": [
       "<div>\n",
       "<style scoped>\n",
       "    .dataframe tbody tr th:only-of-type {\n",
       "        vertical-align: middle;\n",
       "    }\n",
       "\n",
       "    .dataframe tbody tr th {\n",
       "        vertical-align: top;\n",
       "    }\n",
       "\n",
       "    .dataframe thead th {\n",
       "        text-align: right;\n",
       "    }\n",
       "</style>\n",
       "<table border=\"1\" class=\"dataframe\">\n",
       "  <thead>\n",
       "    <tr style=\"text-align: right;\">\n",
       "      <th></th>\n",
       "      <th>Unnamed: 0</th>\n",
       "      <th>Symbol</th>\n",
       "      <th>Timestamp</th>\n",
       "      <th>liquidityRate_avg</th>\n",
       "      <th>variableBorrowRate_avg</th>\n",
       "      <th>utilizationRate_avg</th>\n",
       "      <th>stableBorrowRate_avg</th>\n",
       "      <th>year</th>\n",
       "      <th>month</th>\n",
       "      <th>day</th>\n",
       "      <th>hour</th>\n",
       "      <th>datetime</th>\n",
       "    </tr>\n",
       "  </thead>\n",
       "  <tbody>\n",
       "  </tbody>\n",
       "</table>\n",
       "</div>"
      ],
      "text/plain": [
       "Empty DataFrame\n",
       "Columns: [Unnamed: 0, Symbol, Timestamp, liquidityRate_avg, variableBorrowRate_avg, utilizationRate_avg, stableBorrowRate_avg, year, month, day, hour, datetime]\n",
       "Index: []"
      ]
     },
     "execution_count": 33,
     "metadata": {},
     "output_type": "execute_result"
    }
   ],
   "source": [
    "# testing the fact that month 9 should not have 31 days:\n",
    "rates_df[(rates_df['month'] == 9) & (rates_df['day'] == 31)]"
   ]
  },
  {
   "cell_type": "code",
   "execution_count": 34,
   "metadata": {},
   "outputs": [
    {
     "data": {
      "text/plain": [
       "0"
      ]
     },
     "execution_count": 34,
     "metadata": {},
     "output_type": "execute_result"
    }
   ],
   "source": [
    "rates_df['datetime'].isna().sum()"
   ]
  },
  {
   "cell_type": "code",
   "execution_count": 36,
   "metadata": {},
   "outputs": [
    {
     "name": "stdout",
     "output_type": "stream",
     "text": [
      "0\n"
     ]
    }
   ],
   "source": [
    "# replacing\n",
    "rates_df['Timestamp'] = rates_df['datetime']\n",
    "rates_df.drop('datetime', inplace=True, axis=1)\n",
    "print(rates_df['Timestamp'].isna().sum())"
   ]
  },
  {
   "cell_type": "code",
   "execution_count": 38,
   "metadata": {},
   "outputs": [
    {
     "name": "stdout",
     "output_type": "stream",
     "text": [
      "Index(['Symbol', 'Timestamp', 'liquidityRate_avg', 'variableBorrowRate_avg',\n",
      "       'utilizationRate_avg', 'stableBorrowRate_avg'],\n",
      "      dtype='object')\n",
      "2141202\n"
     ]
    },
    {
     "data": {
      "text/html": [
       "<div>\n",
       "<style scoped>\n",
       "    .dataframe tbody tr th:only-of-type {\n",
       "        vertical-align: middle;\n",
       "    }\n",
       "\n",
       "    .dataframe tbody tr th {\n",
       "        vertical-align: top;\n",
       "    }\n",
       "\n",
       "    .dataframe thead th {\n",
       "        text-align: right;\n",
       "    }\n",
       "</style>\n",
       "<table border=\"1\" class=\"dataframe\">\n",
       "  <thead>\n",
       "    <tr style=\"text-align: right;\">\n",
       "      <th></th>\n",
       "      <th>Symbol</th>\n",
       "      <th>Timestamp</th>\n",
       "      <th>liquidityRate_avg</th>\n",
       "      <th>variableBorrowRate_avg</th>\n",
       "      <th>utilizationRate_avg</th>\n",
       "      <th>stableBorrowRate_avg</th>\n",
       "    </tr>\n",
       "  </thead>\n",
       "  <tbody>\n",
       "    <tr>\n",
       "      <th>0</th>\n",
       "      <td>DAI</td>\n",
       "      <td>2020-12-01 16:00:00</td>\n",
       "      <td>0.000899</td>\n",
       "      <td>0.003996</td>\n",
       "      <td>0.083333</td>\n",
       "      <td>0.042083</td>\n",
       "    </tr>\n",
       "    <tr>\n",
       "      <th>1</th>\n",
       "      <td>DAI</td>\n",
       "      <td>2020-12-01 17:00:00</td>\n",
       "      <td>0.000000</td>\n",
       "      <td>0.000000</td>\n",
       "      <td>0.250000</td>\n",
       "      <td>0.046250</td>\n",
       "    </tr>\n",
       "    <tr>\n",
       "      <th>2</th>\n",
       "      <td>DAI</td>\n",
       "      <td>2020-12-01 18:00:00</td>\n",
       "      <td>0.000000</td>\n",
       "      <td>0.000000</td>\n",
       "      <td>0.250000</td>\n",
       "      <td>0.046250</td>\n",
       "    </tr>\n",
       "  </tbody>\n",
       "</table>\n",
       "</div>"
      ],
      "text/plain": [
       "  Symbol           Timestamp  liquidityRate_avg  variableBorrowRate_avg  \\\n",
       "0    DAI 2020-12-01 16:00:00           0.000899                0.003996   \n",
       "1    DAI 2020-12-01 17:00:00           0.000000                0.000000   \n",
       "2    DAI 2020-12-01 18:00:00           0.000000                0.000000   \n",
       "\n",
       "   utilizationRate_avg  stableBorrowRate_avg  \n",
       "0             0.083333              0.042083  \n",
       "1             0.250000              0.046250  \n",
       "2             0.250000              0.046250  "
      ]
     },
     "execution_count": 38,
     "metadata": {},
     "output_type": "execute_result"
    }
   ],
   "source": [
    "# cleaning\n",
    "rates_df.drop(['Unnamed: 0', 'year', 'month', 'day', 'hour'], inplace=True, axis=1)\n",
    "print(rates_df.columns)\n",
    "print(len(rates_df))\n",
    "rates_df.head(3)"
   ]
  },
  {
   "cell_type": "code",
   "execution_count": 41,
   "metadata": {},
   "outputs": [
    {
     "data": {
      "text/plain": [
       "pandas._libs.tslibs.timestamps.Timestamp"
      ]
     },
     "execution_count": 41,
     "metadata": {},
     "output_type": "execute_result"
    }
   ],
   "source": [
    "# checking type\n",
    "type(rates_df['Timestamp'][1000])"
   ]
  },
  {
   "cell_type": "code",
   "execution_count": 42,
   "metadata": {},
   "outputs": [],
   "source": [
    "rates_df.to_csv('../data/rates_data_v4.csv')"
   ]
  },
  {
   "cell_type": "markdown",
   "metadata": {},
   "source": [
    "### End of Notebook"
   ]
  }
 ],
 "metadata": {
  "kernelspec": {
   "display_name": "base",
   "language": "python",
   "name": "python3"
  },
  "language_info": {
   "codemirror_mode": {
    "name": "ipython",
    "version": 3
   },
   "file_extension": ".py",
   "mimetype": "text/x-python",
   "name": "python",
   "nbconvert_exporter": "python",
   "pygments_lexer": "ipython3",
   "version": "3.11.5"
  }
 },
 "nbformat": 4,
 "nbformat_minor": 2
}
