{
 "cells": [
  {
   "cell_type": "code",
   "execution_count": 5,
   "metadata": {},
   "outputs": [],
   "source": [
    "%load_ext autoreload\n",
    "%autoreload 2\n",
    "\n",
    "import pandas as pd\n",
    "import numpy as np\n",
    "import LSTM_preprocessing as pre"
   ]
  },
  {
   "cell_type": "code",
   "execution_count": 6,
   "metadata": {},
   "outputs": [
    {
     "name": "stdout",
     "output_type": "stream",
     "text": [
      "Error while connecting to MySQL 2003 (HY000): Can't connect to MySQL server on 'crypto-matter.c5eq66ogk1mf.eu-central-1.rds.amazonaws.com:3306' (10060)\n"
     ]
    }
   ],
   "source": [
    "connection = pre.connect_to_database()\n",
    "if connection:\n",
    "    # Query merged data\n",
    "    merged_df = pre.query_merged_crypto_data(connection)\n",
    "    # converting US bond yield from hourly to yearly under continous compounding assumptions\n",
    "    merged_df['yield'] = np.exp(merged_df['yield']*365*24)-1\n",
    "\n",
    "    if merged_df is not None and not merged_df.empty:\n",
    "        # Display first few rows of the DataFrame\n",
    "        print(\"\\nMerged DataFrame:\")\n",
    "        print(merged_df.head())\n",
    "    else:\n",
    "        print(\"\\nNo data found after merging.\")\n",
    "\n",
    "    # Close the connection\n",
    "    pre.query_quit(connection)"
   ]
  },
  {
   "cell_type": "code",
   "execution_count": null,
   "metadata": {},
   "outputs": [],
   "source": []
  }
 ],
 "metadata": {
  "kernelspec": {
   "display_name": "base",
   "language": "python",
   "name": "python3"
  },
  "language_info": {
   "codemirror_mode": {
    "name": "ipython",
    "version": 3
   },
   "file_extension": ".py",
   "mimetype": "text/x-python",
   "name": "python",
   "nbconvert_exporter": "python",
   "pygments_lexer": "ipython3",
   "version": "3.11.5"
  }
 },
 "nbformat": 4,
 "nbformat_minor": 2
}
