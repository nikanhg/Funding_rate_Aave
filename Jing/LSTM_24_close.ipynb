{
 "cells": [
  {
   "cell_type": "code",
   "execution_count": 56,
   "metadata": {},
   "outputs": [],
   "source": [
    "import pandas as pd\n",
    "import numpy as np\n",
    "import LSTM_preprocessing as pre\n",
    "from sklearn.preprocessing import StandardScaler\n",
    "from sklearn.preprocessing import MinMaxScaler\n",
    "#import mysql.connector\n",
    "#from mysql.connector import Error\n",
    "import warnings\n",
    "warnings.filterwarnings(\"ignore\")"
   ]
  },
  {
   "cell_type": "code",
   "execution_count": 57,
   "metadata": {},
   "outputs": [
    {
     "name": "stdout",
     "output_type": "stream",
     "text": [
      "Connected to MySQL database, MySQL Server version:  8.0.39\n",
      "\n",
      "Merged DataFrame:\n",
      "   id crypto_symbol                date lending_rate borrowing_rate  \\\n",
      "0   1       BATUSDT 2020-12-02 14:00:00   -50.000000     -50.000000   \n",
      "1   2       BATUSDT 2020-12-02 15:00:00   -50.000000     -50.000000   \n",
      "2   3       BATUSDT 2020-12-02 16:00:00   -50.000000     -50.000000   \n",
      "3   4       BATUSDT 2020-12-02 17:00:00   -50.000000     -50.000000   \n",
      "4   5       BATUSDT 2020-12-02 18:00:00   -50.000000     -50.000000   \n",
      "\n",
      "  utilization_rate stable_borrow_rate crypto_symbol                date  high  \\\n",
      "0       -50.000000           0.030000       BATUSDT 2020-12-02 14:00:00  0.24   \n",
      "1       -50.000000           0.030000       BATUSDT 2020-12-02 15:00:00  0.24   \n",
      "2         0.013598           0.030000       BATUSDT 2020-12-02 16:00:00  0.24   \n",
      "3         0.014834           0.030000       BATUSDT 2020-12-02 17:00:00  0.24   \n",
      "4         0.014834           0.030000       BATUSDT 2020-12-02 18:00:00  0.25   \n",
      "\n",
      "    low close adj_close   volume market_cap coin_supply  \n",
      "0  0.24  0.24      0.24  1294545       None        None  \n",
      "1  0.24  0.24      0.24   936344       None        None  \n",
      "2  0.24  0.24      0.24   724626       None        None  \n",
      "3  0.24  0.24      0.24   710071       None        None  \n",
      "4  0.24  0.24      0.24  1124485       None        None  \n",
      "MySQL connection is closed\n"
     ]
    }
   ],
   "source": [
    "connection = pre.connect_to_database()\n",
    "\n",
    "if connection:\n",
    "    # Query merged data\n",
    "    merged_df = pre.query_merged_crypto_data(connection)\n",
    "\n",
    "    if merged_df is not None and not merged_df.empty:\n",
    "        # Display first few rows of the DataFrame\n",
    "        print(\"\\nMerged DataFrame:\")\n",
    "        print(merged_df.head())\n",
    "\n",
    "    else:\n",
    "        print(\"\\nNo data found after merging.\")\n",
    "\n",
    "    # Close the connection\n",
    "    pre.query_quit(connection)"
   ]
  },
  {
   "cell_type": "code",
   "execution_count": 58,
   "metadata": {},
   "outputs": [],
   "source": [
    "merged_df = pd.read_csv(\"E:\\Funding_rate_Aave\\merged_crypto_data.csv\")\n",
    "\n",
    "# Drop the second occurrence of a specific column\n",
    "merged_df = merged_df.loc[:, ~merged_df.columns.duplicated()]\n",
    "# data without NA rows if we needed \n",
    "filtered_df = merged_df[(merged_df['borrowing_rate'] != -50)&(merged_df['lending_rate'] != -50)&(merged_df['utilization_rate'] != -50)]\n",
    "filtered_df.reset_index(inplace=True, drop=True)\n",
    "# date formatting\n",
    "filtered_df['date'] = pd.to_datetime(filtered_df['date'])\n",
    "# taking the columns we want and converting them to floats\n",
    "filtered_df = filtered_df[['crypto_symbol', 'date', 'lending_rate',\t'borrowing_rate','utilization_rate','close', 'volume']]\n",
    "filtered_df[['lending_rate',\t'borrowing_rate','utilization_rate','close', 'volume']] = filtered_df[['lending_rate','borrowing_rate','utilization_rate','close', 'volume']].astype(float)\n"
   ]
  },
  {
   "cell_type": "code",
   "execution_count": 59,
   "metadata": {},
   "outputs": [
    {
     "name": "stdout",
     "output_type": "stream",
     "text": [
      "418650\n",
      "rows with valid returns: 411877\n",
      "input size (86797, 48, 5)\n",
      "output size (86797, 24, 5)\n",
      "Number of NaNs in input: 0\n",
      "Number of NaNs in output: 0\n"
     ]
    }
   ],
   "source": [
    "# Initialize empty lists to store aggregated inputs and targets\n",
    "all_inputs = []\n",
    "all_targets = []\n",
    "\n",
    "# looping through symbols\n",
    "symbols = filtered_df['crypto_symbol'].unique()\n",
    "s = symbols[0]\n",
    "\n",
    "sim_df = filtered_df\n",
    "sim_df.reset_index(inplace=True, drop=True)\n",
    "print(len(sim_df))\n",
    "# First Loop: Calculate intervals for each column without modifying the DataFrame\n",
    "\n",
    "# getting the returns\n",
    "reduced_df = sim_df.copy()\n",
    "reduced_df['returns'] = pre.calculate_hourly_returns(reduced_df, 'date', 'close')\n",
    "reduced_df = reduced_df[reduced_df['returns'].notna()]\n",
    "print('rows with valid returns:', len(reduced_df))\n",
    "reduced_df.reset_index(inplace=True, drop=True)\n",
    "\n",
    "intervals = {}  \n",
    "for i in symbols:\n",
    "    # Filter rows where 'crypto_symbol' == i\n",
    "    df_filtered = reduced_df[reduced_df['crypto_symbol'] == i]\n",
    "    \n",
    "    intervals[i] = {} \n",
    "    \n",
    "    # Calculate IQR bounds for the filtered rows\n",
    "    for column in ['lending_rate', 'borrowing_rate', 'utilization_rate']:\n",
    "        lower, upper = pre.calculate_iqr_bounds(df_filtered[column])\n",
    "        intervals[i][column] = {'lower_bound': lower, 'upper_bound': upper}\n",
    "    \n",
    "    # Filter rows based on the pre-calculated intervals\n",
    "    for column in ['lending_rate', 'borrowing_rate', 'utilization_rate']:\n",
    "        lower_bound = intervals[i][column]['lower_bound']\n",
    "        upper_bound = intervals[i][column]['upper_bound']\n",
    "        # Apply filtering on the filtered DataFrame\n",
    "        df_filtered = df_filtered[(df_filtered[column] > lower_bound) & (df_filtered[column] < upper_bound)]\n",
    "    \n",
    "    # Update the reduced_df with the filtered results for this 'crypto_symbol'\n",
    "    reduced_df = reduced_df[reduced_df['crypto_symbol'] != i]  # Remove rows for the current symbol\n",
    "    reduced_df = pd.concat([reduced_df, df_filtered])  # Add back the filtered rows\n",
    "\n",
    "reduced_df.reset_index(inplace=True, drop=True)\n",
    "\n",
    "\n",
    "# MinMax scaling\n",
    "scaler = MinMaxScaler(feature_range=(0, 1))  # Default range is (0, 1)\n",
    "\n",
    "scaled_df = reduced_df.copy()\n",
    "scaled_df['lending_rate'] = scaler.fit_transform(reduced_df[['lending_rate']])\n",
    "scaled_df['borrowing_rate'] = scaler.fit_transform(reduced_df[['borrowing_rate']])\n",
    "scaled_df['utilization_rate'] = scaler.fit_transform(reduced_df[['utilization_rate']])\n",
    "scaled_df['close'] = scaler.fit_transform(reduced_df[['close']])\n",
    "scaled_df['volume'] = scaler.fit_transform(reduced_df[['volume']])\n",
    "scaled_df['returns'] = scaler.fit_transform(reduced_df[['returns']])\n",
    "\n",
    "inputs, targets = pre.extract_valid_windows(\n",
    "     scaled_df,\n",
    "     'date', \n",
    "     48, 24, \n",
    "     ['lending_rate', 'borrowing_rate', 'utilization_rate', 'close', 'volume'], \n",
    "     ['lending_rate', 'borrowing_rate', 'utilization_rate', 'close', 'volume']\n",
    "     )\n",
    "\n",
    "\n",
    "print('input size', inputs.shape)\n",
    "print('output size', targets.shape)\n",
    "\n",
    "# Count NaNs in input and output\n",
    "input_nans = np.isnan(inputs).sum()\n",
    "output_nans = np.isnan(targets).sum()\n",
    "\n",
    "print(f\"Number of NaNs in input: {input_nans}\")\n",
    "print(f\"Number of NaNs in output: {output_nans}\")\n"
   ]
  },
  {
   "cell_type": "code",
   "execution_count": 60,
   "metadata": {},
   "outputs": [
    {
     "name": "stdout",
     "output_type": "stream",
     "text": [
      "(69437, 48, 5)\n",
      "(17360, 48, 5)\n",
      "(69437, 24, 5)\n",
      "(17360, 24, 5)\n",
      "Epoch 1/20\n",
      "1736/1736 [==============================] - 13s 7ms/step - loss: 3.7881e-04 - mae: 0.0078 - val_loss: 1.0870e-04 - val_mae: 0.0039\n",
      "Epoch 2/20\n",
      "1736/1736 [==============================] - 11s 6ms/step - loss: 1.9344e-04 - mae: 0.0057 - val_loss: 1.1451e-04 - val_mae: 0.0042\n",
      "Epoch 3/20\n",
      "1736/1736 [==============================] - 11s 6ms/step - loss: 1.7969e-04 - mae: 0.0054 - val_loss: 8.2645e-05 - val_mae: 0.0027\n",
      "Epoch 4/20\n",
      "1736/1736 [==============================] - 11s 6ms/step - loss: 1.7826e-04 - mae: 0.0054 - val_loss: 1.1328e-04 - val_mae: 0.0042\n",
      "Epoch 5/20\n",
      "1736/1736 [==============================] - 11s 6ms/step - loss: 1.7184e-04 - mae: 0.0053 - val_loss: 1.0916e-04 - val_mae: 0.0032\n",
      "Epoch 6/20\n",
      "1736/1736 [==============================] - 11s 6ms/step - loss: 1.6962e-04 - mae: 0.0052 - val_loss: 9.0305e-05 - val_mae: 0.0038\n",
      "Epoch 7/20\n",
      "1736/1736 [==============================] - 11s 6ms/step - loss: 1.7309e-04 - mae: 0.0052 - val_loss: 9.5851e-05 - val_mae: 0.0035\n",
      "Epoch 8/20\n",
      "1736/1736 [==============================] - 11s 6ms/step - loss: 1.6843e-04 - mae: 0.0052 - val_loss: 8.3086e-05 - val_mae: 0.0025\n",
      "Epoch 9/20\n",
      "1736/1736 [==============================] - 11s 6ms/step - loss: 1.6527e-04 - mae: 0.0051 - val_loss: 9.7402e-05 - val_mae: 0.0033\n",
      "Epoch 10/20\n",
      "1736/1736 [==============================] - 11s 6ms/step - loss: 1.7135e-04 - mae: 0.0052 - val_loss: 8.5232e-05 - val_mae: 0.0028\n",
      "Epoch 11/20\n",
      "1736/1736 [==============================] - 11s 6ms/step - loss: 1.6399e-04 - mae: 0.0051 - val_loss: 9.3043e-05 - val_mae: 0.0030\n",
      "Epoch 12/20\n",
      "1736/1736 [==============================] - 11s 6ms/step - loss: 1.6556e-04 - mae: 0.0051 - val_loss: 1.1126e-04 - val_mae: 0.0039\n",
      "Epoch 13/20\n",
      "1736/1736 [==============================] - 11s 6ms/step - loss: 1.6438e-04 - mae: 0.0050 - val_loss: 7.8937e-05 - val_mae: 0.0023\n",
      "Epoch 14/20\n",
      "1736/1736 [==============================] - 11s 6ms/step - loss: 1.6236e-04 - mae: 0.0050 - val_loss: 8.3805e-05 - val_mae: 0.0028\n",
      "Epoch 15/20\n",
      "1736/1736 [==============================] - 11s 6ms/step - loss: 1.6516e-04 - mae: 0.0050 - val_loss: 7.6781e-05 - val_mae: 0.0022\n",
      "Epoch 16/20\n",
      "1736/1736 [==============================] - 11s 6ms/step - loss: 1.6395e-04 - mae: 0.0050 - val_loss: 7.6703e-05 - val_mae: 0.0025\n",
      "Epoch 17/20\n",
      "1736/1736 [==============================] - 11s 6ms/step - loss: 1.6120e-04 - mae: 0.0050 - val_loss: 8.2938e-05 - val_mae: 0.0028\n",
      "Epoch 18/20\n",
      "1736/1736 [==============================] - 11s 6ms/step - loss: 1.6175e-04 - mae: 0.0050 - val_loss: 8.5436e-05 - val_mae: 0.0037\n",
      "Epoch 19/20\n",
      "1736/1736 [==============================] - 11s 6ms/step - loss: 1.6230e-04 - mae: 0.0050 - val_loss: 8.4802e-05 - val_mae: 0.0025\n",
      "Epoch 20/20\n",
      "1736/1736 [==============================] - 11s 6ms/step - loss: 1.5890e-04 - mae: 0.0049 - val_loss: 7.5041e-05 - val_mae: 0.0022\n",
      "543/543 [==============================] - 2s 3ms/step - loss: 6.9378e-05 - mae: 0.0021\n",
      "Test Loss: 6.937816215213388e-05, Test MAE: 0.002124969381839037\n",
      "543/543 [==============================] - 2s 3ms/step\n"
     ]
    }
   ],
   "source": [
    "from sklearn.preprocessing import MinMaxScaler\n",
    "from tensorflow.keras.models import Sequential\n",
    "from tensorflow.keras.layers import LSTM, Dense, Dropout\n",
    "from sklearn.model_selection import train_test_split\n",
    "\n",
    "X_train, X_test, y_train, y_test = train_test_split(inputs, targets, test_size=0.2, random_state=42)\n",
    "print(X_train.shape)\n",
    "print(X_test.shape)\n",
    "print(y_train.shape)\n",
    "print(y_test.shape)\n",
    "\n",
    "\n",
    "# 3. establish the \n",
    "model = Sequential([\n",
    "    LSTM(48, activation='tanh', input_shape=(inputs.shape[1], inputs.shape[2]), return_sequences=True),\n",
    "    Dropout(0.2),\n",
    "    LSTM(48, activation='tanh'),\n",
    "    Dropout(0.2),\n",
    "    Dense(targets.shape[1] * targets.shape[2]), \n",
    "])\n",
    "\n",
    "model.compile(optimizer='adam', loss='mse', metrics=['mae'])\n",
    "\n",
    "# 4. train model\n",
    "history = model.fit(X_train, y_train.reshape(y_train.shape[0], -1), epochs=20, batch_size=32, validation_split=0.2)\n",
    "\n",
    "# 5. validate the model\n",
    "test_loss, test_mae = model.evaluate(X_test, y_test.reshape(y_test.shape[0], -1))\n",
    "print(f\"Test Loss: {test_loss}, Test MAE: {test_mae}\")\n",
    "\n",
    "# 6. calculate predictions\n",
    "predictions = model.predict(X_test)\n",
    "\n",
    "\n",
    "\n"
   ]
  },
  {
   "cell_type": "code",
   "execution_count": 61,
   "metadata": {},
   "outputs": [
    {
     "name": "stdout",
     "output_type": "stream",
     "text": [
      "Model saved to trained_lstm_model_24_close.h5\n"
     ]
    }
   ],
   "source": [
    "model_save_path = \"trained_lstm_model_24_close.h5\"\n",
    "model.save(model_save_path)\n",
    "print(f\"Model saved to {model_save_path}\")"
   ]
  },
  {
   "cell_type": "code",
   "execution_count": 62,
   "metadata": {},
   "outputs": [],
   "source": [
    "a,b = predictions.shape"
   ]
  },
  {
   "cell_type": "code",
   "execution_count": 63,
   "metadata": {},
   "outputs": [],
   "source": [
    "y_predictions = predictions.reshape(a,int(b/5),5)"
   ]
  },
  {
   "cell_type": "code",
   "execution_count": 64,
   "metadata": {},
   "outputs": [],
   "source": [
    "# Split into two separate outputs\n",
    "# lending_rate\n",
    "output_1 = targets[:, :, 0].reshape(targets.shape[0], targets.shape[1], 1)  # First column\n",
    "# borrowing rate\n",
    "output_2 = targets[:, :, 1].reshape(targets.shape[0], targets.shape[1], 1)  # Second column\n",
    "# lets predict seperatly\n"
   ]
  },
  {
   "cell_type": "code",
   "execution_count": 65,
   "metadata": {},
   "outputs": [
    {
     "name": "stdout",
     "output_type": "stream",
     "text": [
      "Training data shape: (52077, 48, 5)\n",
      "Validation data shape: (17360, 48, 5)\n",
      "Test data shape: (17360, 48, 5)\n",
      "Training labels shape: (52077, 24, 1)\n",
      "Validation labels shape: (17360, 24, 1)\n",
      "Test labels shape: (17360, 24, 1)\n",
      "Epoch 1/30\n",
      "521/521 [==============================] - 5s 8ms/step - loss: 5.2437e-04 - mae: 0.0088 - val_loss: 1.2876e-04 - val_mae: 0.0025\n",
      "Epoch 2/30\n",
      "521/521 [==============================] - 4s 7ms/step - loss: 2.5022e-04 - mae: 0.0060 - val_loss: 1.2286e-04 - val_mae: 0.0023\n",
      "Epoch 3/30\n",
      "521/521 [==============================] - 4s 7ms/step - loss: 2.1651e-04 - mae: 0.0054 - val_loss: 1.2366e-04 - val_mae: 0.0023\n",
      "Epoch 4/30\n",
      "521/521 [==============================] - 4s 7ms/step - loss: 2.0813e-04 - mae: 0.0052 - val_loss: 1.5305e-04 - val_mae: 0.0060\n",
      "Epoch 5/30\n",
      "521/521 [==============================] - 4s 7ms/step - loss: 2.0029e-04 - mae: 0.0051 - val_loss: 1.2039e-04 - val_mae: 0.0022\n",
      "Epoch 6/30\n",
      "521/521 [==============================] - 4s 7ms/step - loss: 1.9936e-04 - mae: 0.0050 - val_loss: 1.2031e-04 - val_mae: 0.0025\n",
      "Epoch 7/30\n",
      "521/521 [==============================] - 4s 7ms/step - loss: 1.9198e-04 - mae: 0.0049 - val_loss: 1.2752e-04 - val_mae: 0.0042\n",
      "Epoch 8/30\n",
      "521/521 [==============================] - 4s 7ms/step - loss: 1.8967e-04 - mae: 0.0048 - val_loss: 1.3704e-04 - val_mae: 0.0035\n",
      "Epoch 9/30\n",
      "521/521 [==============================] - 4s 7ms/step - loss: 1.9015e-04 - mae: 0.0049 - val_loss: 1.4221e-04 - val_mae: 0.0057\n",
      "Epoch 10/30\n",
      "521/521 [==============================] - 4s 7ms/step - loss: 1.8240e-04 - mae: 0.0047 - val_loss: 1.3724e-04 - val_mae: 0.0029\n",
      "Epoch 11/30\n",
      "521/521 [==============================] - 4s 7ms/step - loss: 1.8174e-04 - mae: 0.0046 - val_loss: 1.4432e-04 - val_mae: 0.0038\n",
      "Epoch 12/30\n",
      "521/521 [==============================] - 4s 7ms/step - loss: 1.8034e-04 - mae: 0.0045 - val_loss: 1.4974e-04 - val_mae: 0.0039\n",
      "Epoch 13/30\n",
      "521/521 [==============================] - 4s 7ms/step - loss: 1.8358e-04 - mae: 0.0047 - val_loss: 1.7474e-04 - val_mae: 0.0051\n",
      "Epoch 14/30\n",
      "521/521 [==============================] - 4s 7ms/step - loss: 1.8560e-04 - mae: 0.0047 - val_loss: 1.1876e-04 - val_mae: 0.0019\n",
      "Epoch 15/30\n",
      "521/521 [==============================] - 4s 7ms/step - loss: 1.8120e-04 - mae: 0.0046 - val_loss: 1.2335e-04 - val_mae: 0.0024\n",
      "Epoch 16/30\n",
      "521/521 [==============================] - 4s 7ms/step - loss: 1.7820e-04 - mae: 0.0045 - val_loss: 1.2980e-04 - val_mae: 0.0025\n",
      "Epoch 17/30\n",
      "521/521 [==============================] - 4s 7ms/step - loss: 1.8082e-04 - mae: 0.0046 - val_loss: 1.5403e-04 - val_mae: 0.0031\n",
      "Epoch 18/30\n",
      "521/521 [==============================] - 4s 7ms/step - loss: 1.7832e-04 - mae: 0.0045 - val_loss: 1.1968e-04 - val_mae: 0.0019\n",
      "Epoch 19/30\n",
      "521/521 [==============================] - 4s 7ms/step - loss: 1.7749e-04 - mae: 0.0045 - val_loss: 1.2473e-04 - val_mae: 0.0024\n",
      "Epoch 20/30\n",
      "521/521 [==============================] - 4s 7ms/step - loss: 1.7955e-04 - mae: 0.0046 - val_loss: 1.1865e-04 - val_mae: 0.0020\n",
      "Epoch 21/30\n",
      "521/521 [==============================] - 4s 7ms/step - loss: 1.7445e-04 - mae: 0.0044 - val_loss: 1.2100e-04 - val_mae: 0.0023\n",
      "Epoch 22/30\n",
      "521/521 [==============================] - 4s 7ms/step - loss: 1.7915e-04 - mae: 0.0045 - val_loss: 1.2271e-04 - val_mae: 0.0033\n",
      "Epoch 23/30\n",
      "521/521 [==============================] - 4s 7ms/step - loss: 1.7394e-04 - mae: 0.0044 - val_loss: 1.2020e-04 - val_mae: 0.0027\n",
      "Epoch 24/30\n",
      "521/521 [==============================] - 4s 7ms/step - loss: 1.7995e-04 - mae: 0.0046 - val_loss: 1.3854e-04 - val_mae: 0.0044\n",
      "Epoch 25/30\n",
      "521/521 [==============================] - 4s 7ms/step - loss: 1.7434e-04 - mae: 0.0044 - val_loss: 1.2561e-04 - val_mae: 0.0030\n",
      "Epoch 26/30\n",
      "521/521 [==============================] - 4s 7ms/step - loss: 1.7122e-04 - mae: 0.0043 - val_loss: 1.2211e-04 - val_mae: 0.0023\n",
      "Epoch 27/30\n",
      "521/521 [==============================] - 4s 7ms/step - loss: 1.7388e-04 - mae: 0.0044 - val_loss: 1.2561e-04 - val_mae: 0.0033\n",
      "Epoch 28/30\n",
      "521/521 [==============================] - 4s 7ms/step - loss: 1.7771e-04 - mae: 0.0046 - val_loss: 1.4387e-04 - val_mae: 0.0033\n",
      "Epoch 29/30\n",
      "521/521 [==============================] - 4s 7ms/step - loss: 1.7724e-04 - mae: 0.0044 - val_loss: 1.5273e-04 - val_mae: 0.0050\n",
      "Epoch 30/30\n",
      "521/521 [==============================] - 4s 7ms/step - loss: 1.7280e-04 - mae: 0.0044 - val_loss: 1.2470e-04 - val_mae: 0.0032\n"
     ]
    },
    {
     "data": {
      "image/png": "[encoded data removed]",
      "text/plain": [
       "<Figure size 640x480 with 1 Axes>"
      ]
     },
     "metadata": {},
     "output_type": "display_data"
    },
    {
     "name": "stdout",
     "output_type": "stream",
     "text": [
      "543/543 [==============================] - 2s 3ms/step\n"
     ]
    }
   ],
   "source": [
    "import numpy as np\n",
    "import tensorflow as tf\n",
    "from tensorflow.keras.models import Sequential\n",
    "from tensorflow.keras.layers import LSTM, Dropout, Dense\n",
    "from sklearn.model_selection import train_test_split\n",
    "import matplotlib.pyplot as plt\n",
    "\n",
    "def train_and_evaluate(inputs, outputs, test_size=0.2, valid_size=0.25, random_state=42, epochs=30, batch_size=100):\n",
    "    # Clearing the TensorFlow session to ensure the model starts with fresh weights and biases\n",
    "    tf.keras.backend.clear_session()\n",
    "\n",
    "    # Setting the seed for reproducibility\n",
    "    np.random.seed(random_state)\n",
    "    tf.random.set_seed(random_state)\n",
    "\n",
    "    # Splitting the data into train+validation and test sets\n",
    "    X_train_valid, X_test, y_train_valid, y_test = train_test_split(\n",
    "        inputs, outputs, test_size=test_size, random_state=random_state)\n",
    "\n",
    "    # Splitting the train+validation set into separate training and validation sets\n",
    "    X_train, X_valid, y_train, y_valid = train_test_split(\n",
    "        X_train_valid, y_train_valid, test_size=valid_size, random_state=random_state)\n",
    "\n",
    "    # Printing the shapes of the datasets\n",
    "    print(\"Training data shape:\", X_train.shape)\n",
    "    print(\"Validation data shape:\", X_valid.shape)\n",
    "    print(\"Test data shape:\", X_test.shape)\n",
    "    print(\"Training labels shape:\", y_train.shape)\n",
    "    print(\"Validation labels shape:\", y_valid.shape)\n",
    "    print(\"Test labels shape:\", y_test.shape)\n",
    "\n",
    "    # Model definition\n",
    "    model = Sequential([\n",
    "        LSTM(48, activation='tanh', input_shape=(inputs.shape[1], inputs.shape[2]), return_sequences=True),\n",
    "        Dropout(0.2),\n",
    "        LSTM(48, activation='tanh'),\n",
    "        Dropout(0.2),\n",
    "        Dense(outputs.shape[1] * outputs.shape[2]),\n",
    "    ])\n",
    "\n",
    "    # Compiling the model\n",
    "    model.compile(optimizer='adam', loss='mse', metrics=['mae'])\n",
    "\n",
    "    # Training the model\n",
    "    history = model.fit(\n",
    "        X_train, y_train.reshape(y_train.shape[0], -1),\n",
    "        epochs=epochs,\n",
    "        batch_size=batch_size,\n",
    "        validation_data=(X_valid, y_valid.reshape(y_valid.shape[0], -1))\n",
    "    )\n",
    "\n",
    "    # Plotting training and validation loss\n",
    "    plt.plot(history.history['loss'], label='Train Loss')\n",
    "    plt.plot(history.history['val_loss'], label='Validation Loss')\n",
    "    plt.title('Model Loss')\n",
    "    plt.ylabel('Loss')\n",
    "    plt.xlabel('Epoch')\n",
    "    plt.legend()\n",
    "    plt.show()\n",
    "\n",
    "    # Making predictions on the test set\n",
    "    test_predictions = model.predict(X_test)\n",
    "    return y_test, test_predictions\n",
    "\n",
    "\n",
    "y_test, test_predictions = train_and_evaluate(inputs, output_1)\n"
   ]
  },
  {
   "cell_type": "code",
   "execution_count": 70,
   "metadata": {},
   "outputs": [],
   "source": [
    "import seaborn as sns\n",
    "import matplotlib.pyplot as plt\n",
    "from sklearn.metrics import confusion_matrix, accuracy_score, precision_score, recall_score, f1_score, classification_report\n",
    "\n",
    "\n",
    "def rate_growth(data, prediction, threshold_factor=0.1):\n",
    "    # Calculate changes for data\n",
    "    changes_data = data[:, 23, 0] - data[:, 0, 0]\n",
    "    std_data = np.std(changes_data)\n",
    "    threshold_data = threshold_factor * std_data\n",
    "    \n",
    "    changes_prediction = prediction[:, 23, 0] - prediction[:, 0, 0]\n",
    "    std_prediction = np.std(changes_prediction)\n",
    "    threshold_prediction = threshold_factor * std_prediction\n",
    "\n",
    "    # Classify growth for data\n",
    "    growth_data = []\n",
    "    for change in changes_data:\n",
    "        if change > threshold_data:\n",
    "            growth_data.append(1)\n",
    "        elif change < -threshold_data:\n",
    "            growth_data.append(-1)\n",
    "        else:\n",
    "            growth_data.append(0)\n",
    "\n",
    "    # Calculate changes for prediction\n",
    "\n",
    "    # Classify growth for prediction\n",
    "    growth_prediction = []\n",
    "    for change in changes_prediction:\n",
    "        if change > threshold_data:\n",
    "            growth_prediction.append(1)\n",
    "        elif change < -threshold_data:\n",
    "            growth_prediction.append(-1)\n",
    "        else:\n",
    "            growth_prediction.append(0)\n",
    "\n",
    "    return growth_data, growth_prediction\n",
    "\n",
    "def classification_metrics(y_true, y_pred):\n",
    "    # Calculate the confusion matrix\n",
    "    conf_matrix = confusion_matrix(y_true, y_pred)\n",
    "    \n",
    "    # Visualization of the confusion matrix using Seaborn\n",
    "    plt.figure(figsize=(8, 6))\n",
    "    sns.heatmap(conf_matrix, annot=True, fmt='d', cmap='Blues', xticklabels=['-1', '0', '1'], yticklabels=['-1', '0', '1'])\n",
    "    plt.xlabel('Predicted Labels')\n",
    "    plt.ylabel('True Labels')\n",
    "    plt.title('Confusion Matrix')\n",
    "    plt.show()\n",
    "    \n",
    "    # Calculate metrics\n",
    "    accuracy = accuracy_score(y_true, y_pred)\n",
    "    precision = precision_score(y_true, y_pred, average='macro', zero_division=0)\n",
    "    recall = recall_score(y_true, y_pred, average='macro', zero_division=0)\n",
    "    f1 = f1_score(y_true, y_pred, average='macro', zero_division=0)\n",
    "    \n",
    "    # Printing classification metrics\n",
    "    print(\"Classification Metrics:\")\n",
    "    print(\"Accuracy: {:.2f}\".format(accuracy))\n",
    "    print(\"Precision: {:.2f}\".format(precision))\n",
    "    print(\"Recall: {:.2f}\".format(recall))\n",
    "    print(\"F1 Score: {:.2f}\".format(f1))\n",
    "    \n",
    "    # Detailed classification report\n",
    "    print(\"\\nDetailed Classification Report:\")\n",
    "    print(classification_report(y_true, y_pred, target_names=['-1', '0', '1']))"
   ]
  },
  {
   "cell_type": "code",
   "execution_count": 71,
   "metadata": {},
   "outputs": [
    {
     "data": {
      "image/png": "[encoded data removed]",
      "text/plain": [
       "<Figure size 800x600 with 2 Axes>"
      ]
     },
     "metadata": {},
     "output_type": "display_data"
    },
    {
     "name": "stdout",
     "output_type": "stream",
     "text": [
      "Classification Metrics:\n",
      "Accuracy: 0.88\n",
      "Precision: 0.41\n",
      "Recall: 0.42\n",
      "F1 Score: 0.41\n",
      "\n",
      "Detailed Classification Report:\n",
      "              precision    recall  f1-score   support\n",
      "\n",
      "          -1       0.23      0.29      0.26       777\n",
      "           0       0.94      0.94      0.94     15909\n",
      "           1       0.05      0.03      0.03       674\n",
      "\n",
      "    accuracy                           0.88     17360\n",
      "   macro avg       0.41      0.42      0.41     17360\n",
      "weighted avg       0.87      0.88      0.88     17360\n",
      "\n"
     ]
    }
   ],
   "source": [
    "growth_data, growth_prediction = rate_growth(y_test, y_predictions)\n",
    "classification_metrics(growth_data, growth_prediction)"
   ]
  },
  {
   "cell_type": "code",
   "execution_count": 68,
   "metadata": {},
   "outputs": [
    {
     "data": {
      "text/plain": [
       "(17360, 24, 1)"
      ]
     },
     "execution_count": 68,
     "metadata": {},
     "output_type": "execute_result"
    }
   ],
   "source": [
    "y_test.shape"
   ]
  },
  {
   "cell_type": "code",
   "execution_count": 69,
   "metadata": {},
   "outputs": [
    {
     "data": {
      "text/plain": [
       "(17360, 24, 5)"
      ]
     },
     "execution_count": 69,
     "metadata": {},
     "output_type": "execute_result"
    }
   ],
   "source": [
    "y_predictions.shape"
   ]
  },
  {
   "cell_type": "code",
   "execution_count": null,
   "metadata": {},
   "outputs": [],
   "source": []
  }
 ],
 "metadata": {
  "kernelspec": {
   "display_name": "tensorflow",
   "language": "python",
   "name": "python3"
  },
  "language_info": {
   "codemirror_mode": {
    "name": "ipython",
    "version": 3
   },
   "file_extension": ".py",
   "mimetype": "text/x-python",
   "name": "python",
   "nbconvert_exporter": "python",
   "pygments_lexer": "ipython3",
   "version": "3.8.10"
  }
 },
 "nbformat": 4,
 "nbformat_minor": 2
}
