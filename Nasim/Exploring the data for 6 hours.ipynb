{
 "cells": [
  {
   "cell_type": "code",
   "execution_count": 1,
   "id": "df6348bb",
   "metadata": {},
   "outputs": [],
   "source": [
    "import pandas as pd\n",
    "import numpy as np"
   ]
  },
  {
   "cell_type": "code",
   "execution_count": 2,
   "id": "a68d96a3",
   "metadata": {},
   "outputs": [
    {
     "data": {
      "text/html": [
       "<div>\n",
       "<style scoped>\n",
       "    .dataframe tbody tr th:only-of-type {\n",
       "        vertical-align: middle;\n",
       "    }\n",
       "\n",
       "    .dataframe tbody tr th {\n",
       "        vertical-align: top;\n",
       "    }\n",
       "\n",
       "    .dataframe thead th {\n",
       "        text-align: right;\n",
       "    }\n",
       "</style>\n",
       "<table border=\"1\" class=\"dataframe\">\n",
       "  <thead>\n",
       "    <tr style=\"text-align: right;\">\n",
       "      <th></th>\n",
       "      <th>Symbol</th>\n",
       "      <th>Timestamp</th>\n",
       "      <th>liquidityRate_avg</th>\n",
       "      <th>variableBorrowRate_avg</th>\n",
       "      <th>utilizationRate_avg</th>\n",
       "      <th>stableBorrowRate_avg</th>\n",
       "    </tr>\n",
       "  </thead>\n",
       "  <tbody>\n",
       "    <tr>\n",
       "      <th>0</th>\n",
       "      <td>DAI</td>\n",
       "      <td>2021-06-26 12:00:00</td>\n",
       "      <td>0.030049</td>\n",
       "      <td>0.044036</td>\n",
       "      <td>0.741302</td>\n",
       "      <td>0.118596</td>\n",
       "    </tr>\n",
       "    <tr>\n",
       "      <th>1</th>\n",
       "      <td>DAI</td>\n",
       "      <td>2021-06-26 18:00:00</td>\n",
       "      <td>0.022864</td>\n",
       "      <td>0.033511</td>\n",
       "      <td>0.740801</td>\n",
       "      <td>0.118584</td>\n",
       "    </tr>\n",
       "    <tr>\n",
       "      <th>2</th>\n",
       "      <td>DAI</td>\n",
       "      <td>2021-06-27 00:00:00</td>\n",
       "      <td>0.026457</td>\n",
       "      <td>0.038576</td>\n",
       "      <td>0.743568</td>\n",
       "      <td>0.118653</td>\n",
       "    </tr>\n",
       "    <tr>\n",
       "      <th>3</th>\n",
       "      <td>DAI</td>\n",
       "      <td>2021-06-27 06:00:00</td>\n",
       "      <td>0.023205</td>\n",
       "      <td>0.033815</td>\n",
       "      <td>0.745587</td>\n",
       "      <td>0.118703</td>\n",
       "    </tr>\n",
       "    <tr>\n",
       "      <th>4</th>\n",
       "      <td>DAI</td>\n",
       "      <td>2021-06-27 12:00:00</td>\n",
       "      <td>0.026452</td>\n",
       "      <td>0.038146</td>\n",
       "      <td>0.747147</td>\n",
       "      <td>0.118741</td>\n",
       "    </tr>\n",
       "    <tr>\n",
       "      <th>...</th>\n",
       "      <td>...</td>\n",
       "      <td>...</td>\n",
       "      <td>...</td>\n",
       "      <td>...</td>\n",
       "      <td>...</td>\n",
       "      <td>...</td>\n",
       "    </tr>\n",
       "    <tr>\n",
       "      <th>304069</th>\n",
       "      <td>FRAX</td>\n",
       "      <td>2024-09-05 18:00:00</td>\n",
       "      <td>0.000000</td>\n",
       "      <td>0.000000</td>\n",
       "      <td>1.821209</td>\n",
       "      <td>0.000000</td>\n",
       "    </tr>\n",
       "    <tr>\n",
       "      <th>304070</th>\n",
       "      <td>FRAX</td>\n",
       "      <td>2024-09-06 00:00:00</td>\n",
       "      <td>0.000000</td>\n",
       "      <td>0.000000</td>\n",
       "      <td>1.821209</td>\n",
       "      <td>0.000000</td>\n",
       "    </tr>\n",
       "    <tr>\n",
       "      <th>304071</th>\n",
       "      <td>FRAX</td>\n",
       "      <td>2024-09-06 06:00:00</td>\n",
       "      <td>0.000000</td>\n",
       "      <td>0.000000</td>\n",
       "      <td>1.821209</td>\n",
       "      <td>0.000000</td>\n",
       "    </tr>\n",
       "    <tr>\n",
       "      <th>304072</th>\n",
       "      <td>FRAX</td>\n",
       "      <td>2024-09-06 12:00:00</td>\n",
       "      <td>0.000000</td>\n",
       "      <td>0.000000</td>\n",
       "      <td>1.821209</td>\n",
       "      <td>0.000000</td>\n",
       "    </tr>\n",
       "    <tr>\n",
       "      <th>304073</th>\n",
       "      <td>FRAX</td>\n",
       "      <td>2024-09-06 18:00:00</td>\n",
       "      <td>0.000000</td>\n",
       "      <td>0.000000</td>\n",
       "      <td>1.821209</td>\n",
       "      <td>0.000000</td>\n",
       "    </tr>\n",
       "  </tbody>\n",
       "</table>\n",
       "<p>304074 rows × 6 columns</p>\n",
       "</div>"
      ],
      "text/plain": [
       "       Symbol            Timestamp  liquidityRate_avg  variableBorrowRate_avg  \\\n",
       "0         DAI  2021-06-26 12:00:00           0.030049                0.044036   \n",
       "1         DAI  2021-06-26 18:00:00           0.022864                0.033511   \n",
       "2         DAI  2021-06-27 00:00:00           0.026457                0.038576   \n",
       "3         DAI  2021-06-27 06:00:00           0.023205                0.033815   \n",
       "4         DAI  2021-06-27 12:00:00           0.026452                0.038146   \n",
       "...       ...                  ...                ...                     ...   \n",
       "304069   FRAX  2024-09-05 18:00:00           0.000000                0.000000   \n",
       "304070   FRAX  2024-09-06 00:00:00           0.000000                0.000000   \n",
       "304071   FRAX  2024-09-06 06:00:00           0.000000                0.000000   \n",
       "304072   FRAX  2024-09-06 12:00:00           0.000000                0.000000   \n",
       "304073   FRAX  2024-09-06 18:00:00           0.000000                0.000000   \n",
       "\n",
       "        utilizationRate_avg  stableBorrowRate_avg  \n",
       "0                  0.741302              0.118596  \n",
       "1                  0.740801              0.118584  \n",
       "2                  0.743568              0.118653  \n",
       "3                  0.745587              0.118703  \n",
       "4                  0.747147              0.118741  \n",
       "...                     ...                   ...  \n",
       "304069             1.821209              0.000000  \n",
       "304070             1.821209              0.000000  \n",
       "304071             1.821209              0.000000  \n",
       "304072             1.821209              0.000000  \n",
       "304073             1.821209              0.000000  \n",
       "\n",
       "[304074 rows x 6 columns]"
      ]
     },
     "execution_count": 2,
     "metadata": {},
     "output_type": "execute_result"
    }
   ],
   "source": [
    "df_rates = pd.read_csv('rates_data.csv') \n",
    "df_rates"
   ]
  },
  {
   "cell_type": "code",
   "execution_count": 8,
   "id": "7c1a51b0",
   "metadata": {},
   "outputs": [
    {
     "name": "stdout",
     "output_type": "stream",
     "text": [
      "Unique symbols in the 'symbols' column: ['DAI' 'TUSD' 'USDC' 'USDT' 'SUSD' 'BAT' 'LINK' 'KNC' 'MKR' 'MANA' 'ZRX'\n",
      " 'SNX' 'WBTC' 'BUSD' 'ENJ' 'REN' 'YFI' 'AAVE' 'UNI' 'AUSDT' 'AWBTC'\n",
      " 'AWETH' 'AYFI' 'AZRX' 'AUNI' 'AAAVE' 'ABAT' 'ABUSD' 'ADAI' 'AENJ' 'AKNC'\n",
      " 'ALINK' 'AMANA' 'AMKR' 'AREN' 'ASNX' 'ASUSD' 'ATUSD' 'AUSDC' 'ACRV'\n",
      " 'AGUSD' 'ABAL' 'AXSUSHI' 'ARENFIL' 'ARAI' 'AAMPL' 'AUSDP' 'ADPI' 'AFRAX'\n",
      " 'AFEI' 'ASTETH' 'AENS' 'AUST' 'ACVX' 'A1INCH' 'ALUSD' 'AAMMWETH'\n",
      " 'AAMMDAI' 'AAMMUSDC' 'AAMMUSDT' 'AAMMWBTC' 'WETH' 'LUSD' 'CRV' 'BAL'\n",
      " 'ENS' '1INCH' 'FRAX']\n"
     ]
    }
   ],
   "source": [
    "# Display the unique symbols\n",
    "unique_symbols = df_rates['Symbol'].unique()\n",
    "print(f\"Unique symbols in the 'symbols' column: {unique_symbols}\")"
   ]
  },
  {
   "cell_type": "code",
   "execution_count": 15,
   "id": "a01a25f1",
   "metadata": {},
   "outputs": [
    {
     "name": "stdout",
     "output_type": "stream",
     "text": [
      "68\n"
     ]
    }
   ],
   "source": [
    "# Count the number of unique symbols in the 'symbols' column\n",
    "unique_symbols_count = df_rates['Symbol'].nunique()\n",
    "\n",
    "# Print the count\n",
    "print(unique_symbols_count)"
   ]
  },
  {
   "cell_type": "code",
   "execution_count": 3,
   "id": "5b554a8c",
   "metadata": {},
   "outputs": [
    {
     "name": "stdout",
     "output_type": "stream",
     "text": [
      "Symbol                        0\n",
      "Timestamp                     0\n",
      "liquidityRate_avg         43289\n",
      "variableBorrowRate_avg    44462\n",
      "utilizationRate_avg          94\n",
      "stableBorrowRate_avg      82155\n",
      "dtype: int64\n"
     ]
    }
   ],
   "source": [
    "# Count the number of zeros in each column\n",
    "zero_counts = (df_rates == 0).sum()\n",
    "\n",
    "# Display the counts\n",
    "print(zero_counts)"
   ]
  },
  {
   "cell_type": "code",
   "execution_count": 4,
   "id": "837d800c",
   "metadata": {},
   "outputs": [
    {
     "name": "stdout",
     "output_type": "stream",
     "text": [
      "Symbol                       50\n",
      "Timestamp                  4688\n",
      "liquidityRate_avg         60354\n",
      "variableBorrowRate_avg    60344\n",
      "utilizationRate_avg       59672\n",
      "stableBorrowRate_avg      59182\n",
      "dtype: int64\n"
     ]
    }
   ],
   "source": [
    "# Remove rows with any zeros in the DataFrame\n",
    "df_no_zeros = df_rates[(df_rates != 0).all(axis=1)]\n",
    "\n",
    "# Check the number of unique symbols in each column\n",
    "unique_symbols = df_no_zeros.nunique()\n",
    "\n",
    "# Display the counts\n",
    "\n",
    "print(unique_symbols)"
   ]
  },
  {
   "cell_type": "code",
   "execution_count": 19,
   "id": "62e669ec",
   "metadata": {},
   "outputs": [],
   "source": [
    "rates_symbols = df_no_zeros['Symbol'].unique()\n",
    "rates_symbols = [x.lower() for x in rates_symbols]"
   ]
  },
  {
   "cell_type": "code",
   "execution_count": 20,
   "id": "406cfd14",
   "metadata": {},
   "outputs": [
    {
     "name": "stdout",
     "output_type": "stream",
     "text": [
      "Index(['Unnamed: 0', 'timestamp', 'open', 'high', 'low', 'close', 'volume',\n",
      "       'close_time', 'quote_asset_volume', 'number_of_trades',\n",
      "       'taker_buy_base_asset_volume', 'taker_buy_quote_asset_volume', 'ignore',\n",
      "       'symbol'],\n",
      "      dtype='object')\n",
      "1187631\n"
     ]
    }
   ],
   "source": [
    "import glob\n",
    "import os \n",
    "\n",
    "path = 'prices/*.csv'\n",
    "csv_files = glob.glob(path)\n",
    "df_price = pd.concat([\n",
    "    pd.read_csv(file).assign(symbol=os.path.splitext(os.path.basename(file))[0])\n",
    "    for file in csv_files\n",
    "], ignore_index=True)\n",
    "print(df_price.columns)\n",
    "print(len(df_price))"
   ]
  },
  {
   "cell_type": "code",
   "execution_count": 21,
   "id": "a297f880",
   "metadata": {},
   "outputs": [
    {
     "data": {
      "text/plain": [
       "38"
      ]
     },
     "execution_count": 21,
     "metadata": {},
     "output_type": "execute_result"
    }
   ],
   "source": [
    "prices_symbols = df_price['symbol'].unique()\n",
    "prices_symbols = [x.replace('USDT','') for x in prices_symbols]\n",
    "prices_symbols = [x.lower() for x in prices_symbols]\n",
    "len(prices_symbols)"
   ]
  },
  {
   "cell_type": "code",
   "execution_count": 22,
   "id": "14200f2a",
   "metadata": {},
   "outputs": [
    {
     "name": "stdout",
     "output_type": "stream",
     "text": [
      "17\n",
      "['bal', 'yfi', 'enj', 'dai', 'ren', 'mkr', 'knc', 'tusd', 'usdc', 'zrx', 'wbtc', 'bat', 'link', 'uni', 'crv', 'busd', 'mana']\n"
     ]
    }
   ],
   "source": [
    "common_symbols = list(set(prices_symbols).intersection(rates_symbols))\n",
    "print(len(common_symbols))\n",
    "print(common_symbols)"
   ]
  },
  {
   "cell_type": "code",
   "execution_count": null,
   "id": "8a249e7e",
   "metadata": {},
   "outputs": [],
   "source": []
  }
 ],
 "metadata": {
  "kernelspec": {
   "display_name": "Python 3 (ipykernel)",
   "language": "python",
   "name": "python3"
  },
  "language_info": {
   "codemirror_mode": {
    "name": "ipython",
    "version": 3
   },
   "file_extension": ".py",
   "mimetype": "text/x-python",
   "name": "python",
   "nbconvert_exporter": "python",
   "pygments_lexer": "ipython3",
   "version": "3.11.3"
  }
 },
 "nbformat": 4,
 "nbformat_minor": 5
}
