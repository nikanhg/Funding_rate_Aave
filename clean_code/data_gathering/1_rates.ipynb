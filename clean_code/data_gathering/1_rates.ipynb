{
 "cells": [
  {
   "cell_type": "markdown",
   "metadata": {},
   "source": [
    "## **Gathering the Lending and Borrowing Rates**\n",
    "**1. Fetching Symbols from Aave:** In this section, we retrieve the list of symbols available on the Aave platform. We use the Aave API to fetch the available symbols and store them in a list. We also check if the request was successful and handle any errors.\n",
    "\n",
    "**2. Fetching Rates History for Symbols:** We define a function to fetch the average rates for a given reserve ID from the Aave API. This function sends a GET request with the reserve ID and retrieves the rates history data.\n",
    "\n",
    "**3. Mapping Rates to Symbols:** We map the rates data to the corresponding symbols using the reserve ID for the Aave V2 market. We iterate through the reserves, create the reserve ID, and fetch the rates history for each symbol. The fetched rates data is stored in a dictionary.\n",
    "\n",
    "**4. Extracting and Formatting Rates Data:** We extract the relevant data (liquidity rates, borrow rates, utilization rates, and stable borrow rates) from the fetched rates history and format it into a DataFrame. We also create timestamps for each data point and ensure the data is correctly structured.\n",
    "\n",
    "**5. Fixing Date Format:** We fix any issues with the date format in the DataFrame. This involves extracting and converting the year, month, day, and hour components from the timestamps and creating a new datetime column.\n",
    "\n",
    "**6. Cleaning and Preparing Data:** We clean the DataFrame by dropping unnecessary columns and ensuring the data is correctly formatted. We also handle any missing or zero values by replacing them with a placeholder value (-50).\n",
    "\n",
    "**7. Filtering and Mapping Symbols:** We filter the symbols to include only those that are acceptable for our analysis. We also map the rates symbols to their corresponding price symbols from Binance.\n",
    "\n",
    "**8. Sending Rates Data to the Database:** We establish a connection to the MySQL database and prepare the data for insertion. We create an insert statement and execute it to insert the rates data into the `crypto_lending_borrowing` table. Finally, we commit the transaction and close the database connection."
   ]
  },
  {
   "cell_type": "code",
   "execution_count": null,
   "metadata": {},
   "outputs": [],
   "source": [
    "import requests\n",
    "import pandas as pd\n",
    "import numpy as np\n",
    "import mysql.connector\n",
    "from mysql.connector import Error\n",
    "import calendar\n",
    "import os\n",
    "import glob"
   ]
  },
  {
   "cell_type": "code",
   "execution_count": null,
   "metadata": {},
   "outputs": [
    {
     "name": "stdout",
     "output_type": "stream",
     "text": [
      "237\n",
      "['DAI', 'TUSD', 'USDC', 'USDT', 'SUSD', 'LEND', 'BAT', 'ETH', 'LINK', 'KNC', 'REP', 'MKR', 'MANA', 'ZRX', 'SNX', 'WBTC', 'BUSD', 'ENJ', 'REN', 'YFI', 'AAVE', 'UNI', 'AUSDT', 'AWBTC', 'AWETH', 'AYFI', 'AZRX', 'AUNI', 'AAAVE', 'ABAT', 'ABUSD', 'ADAI', 'AENJ', 'AKNC', 'ALINK', 'AMANA', 'AMKR', 'AREN', 'ASNX', 'ASUSD', 'ATUSD', 'AUSDC', 'ACRV', 'AGUSD', 'ABAL', 'AXSUSHI', 'ARENFIL', 'ARAI', 'AAMPL', 'AUSDP', 'ADPI', 'AFRAX', 'AFEI', 'ASTETH', 'AENS', 'AUST', 'ACVX', 'A1INCH', 'ALUSD', 'AAMMWETH', 'AAMMDAI', 'AAMMUSDC', 'AAMMUSDT', 'AAMMWBTC', 'AAMMUNIDAIWETH', 'AAMMUNIWBTCWETH', 'AAMMUNIAAVEWETH', 'AAMMUNIBATWETH', 'AAMMUNIDAIUSDC', 'AAMMUNICRVWETH', 'AAMMUNILINKWETH', 'AAMMUNIMKRWETH', 'AAMMUNIRENWETH', 'AAMMUNISNXWETH', 'AAMMUNIUNIWETH', 'AAMMUNIUSDCWETH', 'AAMMUNIWBTCUSDC', 'AAMMUNIYFIWETH', 'AAMMBPTWBTCWETH', 'AAMMBPTBALWETH', 'AAMMGUNIDAIUSDC', 'AAMMGUNIUSDCUSDT', 'AMDAI', 'AMUSDC', 'AMUSDT', 'AMWBTC', 'AMWETH', 'AMWMATIC', 'AMAAVE', 'AMGHST', 'AMBAL', 'AMDPI', 'AMCRV', 'AMSUSHI', 'AMLINK', 'WETH.E', 'DAI.E', 'USDT.E', 'USDC.E', 'AAVE.E', 'WBTC.E', 'WAVAX', 'DAI', 'LINK', 'USDC', 'WBTC', 'WETH', 'USDT', 'AAVE', 'WMATIC', 'CRV', 'SUSHI', 'GHST', 'BAL', 'DPI', 'EURS', 'jEUR', 'EURA', 'miMATIC', 'stMATIC', 'MaticX', 'wstETH', 'USDC', 'DAI.e', 'LINK.e', 'USDC', 'WBTC.e', 'WETH.e', 'USDt', 'AAVE.e', 'WAVAX', 'sAVAX', 'FRAX', 'MAI', 'BTC.b', 'DAI', 'LINK', 'USDC', 'WBTC', 'WETH', 'USDT', 'AAVE', 'EURS', 'wstETH', 'MAI', 'rETH', 'LUSD', 'USDC', 'FRAX', 'ARB', 'weETH', 'GHO', 'DAI', 'LINK', 'USDC', 'WBTC', 'WETH', 'USDT', 'AAVE', 'sUSD', 'OP', 'wstETH', 'LUSD', 'MAI', 'rETH', 'USDC', 'DAI', 'LINK', 'USDC', 'BTC', 'ETH', 'fUSDT', 'AAVE', 'WFTM', 'CRV', 'SUSHI', 'WETH', 'wstETH', 'WBTC', 'USDC', 'DAI', 'LINK', 'AAVE', 'cbETH', 'USDT', 'rETH', 'LUSD', 'CRV', 'MKR', 'SNX', 'BAL', 'UNI', 'LDO', 'ENS', '1INCH', 'FRAX', 'GHO', 'RPL', 'sDAI', 'STG', 'KNC', 'FXS', 'crvUSD', 'PYUSD', 'weETH', 'osETH', 'USDe', 'ETHx', 'sUSDe', 'WETH', 'cbETH', 'USDbC', 'wstETH', 'USDC', 'weETH', 'm.DAI', 'Metis', 'm.USDC', 'm.USDT', 'WETH', 'WETH', 'wstETH', 'GNO', 'USDC', 'WXDAI', 'EURe', 'sDAI', 'WETH', 'USDC', 'wstETH', 'Cake', 'WBNB', 'BTCB', 'ETH', 'USDC', 'USDT', 'FDUSD']\n"
     ]
    }
   ],
   "source": [
    "# Aave API endpoint for market data\n",
    "url = \"https://aave-api-v2.aave.com/data/markets-data\"\n",
    "# Send a GET request to the Aave API\n",
    "response = requests.get(url)\n",
    "symbols = []\n",
    "# Check if the request was successful\n",
    "if response.status_code == 200:\n",
    "    count = 0\n",
    "    res = response.json()\n",
    "    for s in res['reserves']:\n",
    "        symbols.append(s['symbol'])\n",
    "else:\n",
    "    print(\"Failed to retrieve data from Aave API\")\n",
    "\n",
    "print(len(symbols))\n",
    "print(symbols)"
   ]
  },
  {
   "cell_type": "code",
   "execution_count": null,
   "metadata": {},
   "outputs": [],
   "source": [
    "# Aave API endpoint for rates history\n",
    "rates_url = \"https://aave-api-v2.aave.com/data/rates-history\"\n",
    "\n",
    "# Aave API endpoint for markets data\n",
    "markets_url = \"https://aave-api-v2.aave.com/data/markets-data\"\n",
    "\n",
    "# LendingPoolAddressesProvider for Aave V2 on Ethereum\n",
    "lending_pool_provider_v2 = \"0xb53c1a33016b2dc2ff3653530bff1848a515c8c5\""
   ]
  },
  {
   "cell_type": "code",
   "execution_count": null,
   "metadata": {},
   "outputs": [],
   "source": [
    "# Function to fetch average rates for a given reserveId\n",
    "def fetch_average_rates(reserveId):\n",
    "    params = {\n",
    "        \"reserveId\": reserveId,\n",
    "        \"from\": 1580412380,  # 2020,1,30\n",
    "        \"resolutionInHours\": 1\n",
    "    }\n",
    "    response = requests.get(rates_url, params=params)\n",
    "    if response.status_code == 200:\n",
    "        return response.json()\n",
    "    else:\n",
    "        print(f\"Failed to retrieve rates for {reserveId}\")\n",
    "        return None"
   ]
  },
  {
   "cell_type": "code",
   "execution_count": null,
   "metadata": {},
   "outputs": [],
   "source": [
    "# Map the rates to symbols (using the reserveId for Aave V2 market)\n",
    "rates_data = {}\n",
    "for reserve in markets_data['reserves']:\n",
    "    asset_address = reserve['underlyingAsset']  # assetAddress\n",
    "    reserve_id = asset_address + lending_pool_provider_v2  # Create the reserveId\n",
    "    symbol = reserve['symbol']  # Symbol for the asset\n",
    "    rates_history = fetch_average_rates(reserve_id)\n",
    "\n",
    "    if rates_history:\n",
    "        rates_data[symbol] = rates_history\n"
   ]
  },
  {
   "cell_type": "code",
   "execution_count": null,
   "metadata": {},
   "outputs": [],
   "source": [
    "symbols = []\n",
    "liquidity_rates = []\n",
    "borrow_rates = []\n",
    "utilization_rates = []\n",
    "stableborrow_rates = []\n",
    "timestamps = []\n",
    "\n",
    "# Extract data\n",
    "for symbol, rates in rates_data.items():\n",
    "  for rate in rates:\n",
    "    symbols.append(symbol.split()[-1])  # Extract symbol from \"Rates for SYMBOL\"\n",
    "    liquidity_rates.append(rate['liquidityRate_avg'])\n",
    "    borrow_rates.append(rate['variableBorrowRate_avg'])\n",
    "    utilization_rates.append(rate['utilizationRate_avg'])\n",
    "    stableborrow_rates.append(rate['stableBorrowRate_avg'])\n",
    "\n",
    "    # Create timestamp\n",
    "    year = rate['x']['year']\n",
    "    month = rate['x']['month']\n",
    "    date = rate['x']['date']\n",
    "    hours = rate['x']['hours']\n",
    "    timestamp = f\"{year}-{month:02d}-{date:02d} {hours:02d}:00:00\"  # Format as YYYY-MM-DD HH:MM:SS\n",
    "    timestamps.append(timestamp)\n",
    "\n",
    "# Create DataFrame\n",
    "df = pd.DataFrame({\n",
    "    'Symbol': symbols,\n",
    "    'Timestamp': timestamps,\n",
    "    'liquidityRate_avg': liquidity_rates,\n",
    "    'variableBorrowRate_avg': borrow_rates,\n",
    "    'utilizationRate_avg' : utilization_rates,\n",
    "    'stableBorrowRate_avg' : stableborrow_rates\n",
    "})\n"
   ]
  },
  {
   "cell_type": "code",
   "execution_count": null,
   "metadata": {},
   "outputs": [
    {
     "name": "stdout",
     "output_type": "stream",
     "text": [
      "2020-10-30 18:00:00\n",
      "2024-09-30 18:00:00\n"
     ]
    }
   ],
   "source": [
    "print(df['Timestamp'].min())\n",
    "print(df['Timestamp'].max())"
   ]
  },
  {
   "cell_type": "markdown",
   "metadata": {},
   "source": [
    "### Fixing the date format"
   ]
  },
  {
   "cell_type": "code",
   "execution_count": null,
   "metadata": {},
   "outputs": [],
   "source": [
    "rates_df = df.copy()"
   ]
  },
  {
   "cell_type": "code",
   "execution_count": null,
   "metadata": {},
   "outputs": [],
   "source": [
    "# Loop through each date, attempt conversion, and print non-convertible ones\n",
    "rates_df['year'] = rates_df['Timestamp'].apply(lambda x:x[0:4])\n",
    "rates_df['year'] = rates_df['year'].apply(lambda x: int(x))\n",
    "# rates_df['year'].value_counts(dropna=False)\n",
    "# it seems there is no problem with years"
   ]
  },
  {
   "cell_type": "code",
   "execution_count": null,
   "metadata": {},
   "outputs": [],
   "source": [
    "rates_df['month'] = rates_df['Timestamp'].apply(lambda x:x[5:7])\n",
    "# the problem might be here because of 00 , 01, ..\n",
    "rates_df['month'] = rates_df['month'].apply(lambda x: int(x) + 1)\n",
    "# rates_df['month'].value_counts(dropna=False)"
   ]
  },
  {
   "cell_type": "code",
   "execution_count": null,
   "metadata": {},
   "outputs": [],
   "source": [
    "rates_df['day'] = rates_df['Timestamp'].apply(lambda x:x[8:10])\n",
    "rates_df['day'] = rates_df['day'].apply(lambda x: int(x))\n",
    "# print(len(rates_df['day'].value_counts(dropna=False)))\n",
    "# rates_df['day'].value_counts(dropna=False)\n",
    "# this also seems fine"
   ]
  },
  {
   "cell_type": "code",
   "execution_count": null,
   "metadata": {},
   "outputs": [],
   "source": [
    "rates_df['hour'] = rates_df['Timestamp'].apply(lambda x:x[11:13])\n",
    "rates_df['hour'] = rates_df['hour'].apply(lambda x: int(x))\n",
    "# print(len(rates_df['hour'].value_counts(dropna=False)))\n",
    "# rates_df['hour'].value_counts(dropna=False)\n",
    "# this also seems fine"
   ]
  },
  {
   "cell_type": "code",
   "execution_count": null,
   "metadata": {},
   "outputs": [],
   "source": [
    "rates_df['datetime'] = pd.to_datetime(rates_df[['year', 'month', 'day', 'hour']])\n",
    "# The whole problem was because of the fact that months started from 0 instead of 1"
   ]
  },
  {
   "cell_type": "code",
   "execution_count": null,
   "metadata": {},
   "outputs": [
    {
     "data": {
      "text/html": [
       "<div>\n",
       "<style scoped>\n",
       "    .dataframe tbody tr th:only-of-type {\n",
       "        vertical-align: middle;\n",
       "    }\n",
       "\n",
       "    .dataframe tbody tr th {\n",
       "        vertical-align: top;\n",
       "    }\n",
       "\n",
       "    .dataframe thead th {\n",
       "        text-align: right;\n",
       "    }\n",
       "</style>\n",
       "<table border=\"1\" class=\"dataframe\">\n",
       "  <thead>\n",
       "    <tr style=\"text-align: right;\">\n",
       "      <th></th>\n",
       "      <th>Unnamed: 0</th>\n",
       "      <th>Symbol</th>\n",
       "      <th>Timestamp</th>\n",
       "      <th>liquidityRate_avg</th>\n",
       "      <th>variableBorrowRate_avg</th>\n",
       "      <th>utilizationRate_avg</th>\n",
       "      <th>stableBorrowRate_avg</th>\n",
       "      <th>year</th>\n",
       "      <th>month</th>\n",
       "      <th>day</th>\n",
       "      <th>hour</th>\n",
       "      <th>datetime</th>\n",
       "    </tr>\n",
       "  </thead>\n",
       "  <tbody>\n",
       "  </tbody>\n",
       "</table>\n",
       "</div>"
      ],
      "text/plain": [
       "Empty DataFrame\n",
       "Columns: [Unnamed: 0, Symbol, Timestamp, liquidityRate_avg, variableBorrowRate_avg, utilizationRate_avg, stableBorrowRate_avg, year, month, day, hour, datetime]\n",
       "Index: []"
      ]
     },
     "metadata": {},
     "output_type": "display_data"
    }
   ],
   "source": [
    "# testing the fact that month 9 should not have 31 days:\n",
    "rates_df[(rates_df['month'] == 9) & (rates_df['day'] == 31)]"
   ]
  },
  {
   "cell_type": "code",
   "execution_count": null,
   "metadata": {},
   "outputs": [
    {
     "name": "stdout",
     "output_type": "stream",
     "text": [
      "0\n"
     ]
    }
   ],
   "source": [
    "# replacing\n",
    "rates_df['Timestamp'] = rates_df['datetime']\n",
    "rates_df.drop('datetime', inplace=True, axis=1)\n",
    "print(rates_df['Timestamp'].isna().sum())"
   ]
  },
  {
   "cell_type": "code",
   "execution_count": null,
   "metadata": {},
   "outputs": [
    {
     "name": "stdout",
     "output_type": "stream",
     "text": [
      "Index(['Symbol', 'Timestamp', 'liquidityRate_avg', 'variableBorrowRate_avg',\n",
      "       'utilizationRate_avg', 'stableBorrowRate_avg'],\n",
      "      dtype='object')\n",
      "2141202\n"
     ]
    },
    {
     "data": {
      "text/html": [
       "<div>\n",
       "<style scoped>\n",
       "    .dataframe tbody tr th:only-of-type {\n",
       "        vertical-align: middle;\n",
       "    }\n",
       "\n",
       "    .dataframe tbody tr th {\n",
       "        vertical-align: top;\n",
       "    }\n",
       "\n",
       "    .dataframe thead th {\n",
       "        text-align: right;\n",
       "    }\n",
       "</style>\n",
       "<table border=\"1\" class=\"dataframe\">\n",
       "  <thead>\n",
       "    <tr style=\"text-align: right;\">\n",
       "      <th></th>\n",
       "      <th>Symbol</th>\n",
       "      <th>Timestamp</th>\n",
       "      <th>liquidityRate_avg</th>\n",
       "      <th>variableBorrowRate_avg</th>\n",
       "      <th>utilizationRate_avg</th>\n",
       "      <th>stableBorrowRate_avg</th>\n",
       "    </tr>\n",
       "  </thead>\n",
       "  <tbody>\n",
       "    <tr>\n",
       "      <th>0</th>\n",
       "      <td>DAI</td>\n",
       "      <td>2020-12-01 16:00:00</td>\n",
       "      <td>0.000899</td>\n",
       "      <td>0.003996</td>\n",
       "      <td>0.083333</td>\n",
       "      <td>0.042083</td>\n",
       "    </tr>\n",
       "    <tr>\n",
       "      <th>1</th>\n",
       "      <td>DAI</td>\n",
       "      <td>2020-12-01 17:00:00</td>\n",
       "      <td>0.000000</td>\n",
       "      <td>0.000000</td>\n",
       "      <td>0.250000</td>\n",
       "      <td>0.046250</td>\n",
       "    </tr>\n",
       "    <tr>\n",
       "      <th>2</th>\n",
       "      <td>DAI</td>\n",
       "      <td>2020-12-01 18:00:00</td>\n",
       "      <td>0.000000</td>\n",
       "      <td>0.000000</td>\n",
       "      <td>0.250000</td>\n",
       "      <td>0.046250</td>\n",
       "    </tr>\n",
       "  </tbody>\n",
       "</table>\n",
       "</div>"
      ],
      "text/plain": [
       "  Symbol           Timestamp  liquidityRate_avg  variableBorrowRate_avg  \\\n",
       "0    DAI 2020-12-01 16:00:00           0.000899                0.003996   \n",
       "1    DAI 2020-12-01 17:00:00           0.000000                0.000000   \n",
       "2    DAI 2020-12-01 18:00:00           0.000000                0.000000   \n",
       "\n",
       "   utilizationRate_avg  stableBorrowRate_avg  \n",
       "0             0.083333              0.042083  \n",
       "1             0.250000              0.046250  \n",
       "2             0.250000              0.046250  "
      ]
     },
     "metadata": {},
     "output_type": "display_data"
    }
   ],
   "source": [
    "# cleaning\n",
    "rates_df.drop(['Unnamed: 0', 'year', 'month', 'day', 'hour'], inplace=True, axis=1)\n",
    "print(rates_df.columns)\n",
    "print(len(rates_df))\n",
    "rates_df.head(3)"
   ]
  },
  {
   "cell_type": "code",
   "execution_count": null,
   "metadata": {},
   "outputs": [
    {
     "data": {
      "text/plain": [
       "pandas._libs.tslibs.timestamps.Timestamp"
      ]
     },
     "metadata": {},
     "output_type": "display_data"
    }
   ],
   "source": [
    "# checking type\n",
    "type(rates_df['Timestamp'][1000])"
   ]
  },
  {
   "cell_type": "markdown",
   "metadata": {},
   "source": [
    "### Sending the rates to the database"
   ]
  },
  {
   "cell_type": "code",
   "execution_count": null,
   "metadata": {},
   "outputs": [
    {
     "name": "stdout",
     "output_type": "stream",
     "text": [
      "Connected to MySQL database, MySQL Server version:  8.0.39\n"
     ]
    }
   ],
   "source": [
    "# MySQL database connection function\n",
    "def connect_to_database():\n",
    "    try:\n",
    "        # Establishing connection to the database\n",
    "        connection = mysql.connector.connect(\n",
    "            host='crypto-matter.c5eq66ogk1mf.eu-central-1.rds.amazonaws.com',\n",
    "            database='Crypto',\n",
    "            user='Jing', \n",
    "            password='Crypto12!'\n",
    "        )\n",
    "\n",
    "        if connection.is_connected():\n",
    "            db_info = connection.get_server_info()\n",
    "            print(\"Connected to MySQL database, MySQL Server version: \", db_info)\n",
    "            return connection\n",
    "\n",
    "    except Error as e:\n",
    "        print(\"Error while connecting to MySQL\", e)\n",
    "        return None\n",
    "\n",
    "connection = connect_to_database()"
   ]
  },
  {
   "cell_type": "code",
   "execution_count": null,
   "metadata": {},
   "outputs": [
    {
     "name": "stdout",
     "output_type": "stream",
     "text": [
      "2141202\n"
     ]
    },
    {
     "data": {
      "text/html": [
       "<div>\n",
       "<style scoped>\n",
       "    .dataframe tbody tr th:only-of-type {\n",
       "        vertical-align: middle;\n",
       "    }\n",
       "\n",
       "    .dataframe tbody tr th {\n",
       "        vertical-align: top;\n",
       "    }\n",
       "\n",
       "    .dataframe thead th {\n",
       "        text-align: right;\n",
       "    }\n",
       "</style>\n",
       "<table border=\"1\" class=\"dataframe\">\n",
       "  <thead>\n",
       "    <tr style=\"text-align: right;\">\n",
       "      <th></th>\n",
       "      <th>Unnamed: 0</th>\n",
       "      <th>Symbol</th>\n",
       "      <th>Timestamp</th>\n",
       "      <th>liquidityRate_avg</th>\n",
       "      <th>variableBorrowRate_avg</th>\n",
       "      <th>utilizationRate_avg</th>\n",
       "      <th>stableBorrowRate_avg</th>\n",
       "    </tr>\n",
       "  </thead>\n",
       "  <tbody>\n",
       "    <tr>\n",
       "      <th>0</th>\n",
       "      <td>0</td>\n",
       "      <td>DAI</td>\n",
       "      <td>2020-12-01 16:00:00</td>\n",
       "      <td>0.000899</td>\n",
       "      <td>0.003996</td>\n",
       "      <td>0.083333</td>\n",
       "      <td>0.042083</td>\n",
       "    </tr>\n",
       "    <tr>\n",
       "      <th>1</th>\n",
       "      <td>1</td>\n",
       "      <td>DAI</td>\n",
       "      <td>2020-12-01 17:00:00</td>\n",
       "      <td>0.000000</td>\n",
       "      <td>0.000000</td>\n",
       "      <td>0.250000</td>\n",
       "      <td>0.046250</td>\n",
       "    </tr>\n",
       "    <tr>\n",
       "      <th>2</th>\n",
       "      <td>2</td>\n",
       "      <td>DAI</td>\n",
       "      <td>2020-12-01 18:00:00</td>\n",
       "      <td>0.000000</td>\n",
       "      <td>0.000000</td>\n",
       "      <td>0.250000</td>\n",
       "      <td>0.046250</td>\n",
       "    </tr>\n",
       "  </tbody>\n",
       "</table>\n",
       "</div>"
      ],
      "text/plain": [
       "   Unnamed: 0 Symbol            Timestamp  liquidityRate_avg  \\\n",
       "0           0    DAI  2020-12-01 16:00:00           0.000899   \n",
       "1           1    DAI  2020-12-01 17:00:00           0.000000   \n",
       "2           2    DAI  2020-12-01 18:00:00           0.000000   \n",
       "\n",
       "   variableBorrowRate_avg  utilizationRate_avg  stableBorrowRate_avg  \n",
       "0                0.003996             0.083333              0.042083  \n",
       "1                0.000000             0.250000              0.046250  \n",
       "2                0.000000             0.250000              0.046250  "
      ]
     },
     "metadata": {},
     "output_type": "display_data"
    }
   ],
   "source": [
    "df_rates = rates_df.copy()\n",
    "print(len(df_rates))\n",
    "df_rates.head(3)"
   ]
  },
  {
   "cell_type": "code",
   "execution_count": null,
   "metadata": {},
   "outputs": [
    {
     "data": {
      "text/plain": [
       "[bytearray(b'US_Bond_Yield'),\n",
       " bytearray(b'crypto_lending_borrowing'),\n",
       " bytearray(b'crypto_price'),\n",
       " bytearray(b'crypto_reference')]"
      ]
     },
     "metadata": {},
     "output_type": "display_data"
    }
   ],
   "source": [
    "# Function to get all table names in the database\n",
    "def get_table_names(connection):\n",
    "    cursor = connection.cursor()\n",
    "    cursor.execute(\"SHOW TABLES;\")\n",
    "    tables = cursor.fetchall()\n",
    "    return [table[0] for table in tables]\n",
    "\n",
    "get_table_names(connection)"
   ]
  },
  {
   "cell_type": "code",
   "execution_count": null,
   "metadata": {},
   "outputs": [
    {
     "data": {
      "text/html": [
       "<div>\n",
       "<style scoped>\n",
       "    .dataframe tbody tr th:only-of-type {\n",
       "        vertical-align: middle;\n",
       "    }\n",
       "\n",
       "    .dataframe tbody tr th {\n",
       "        vertical-align: top;\n",
       "    }\n",
       "\n",
       "    .dataframe thead th {\n",
       "        text-align: right;\n",
       "    }\n",
       "</style>\n",
       "<table border=\"1\" class=\"dataframe\">\n",
       "  <thead>\n",
       "    <tr style=\"text-align: right;\">\n",
       "      <th></th>\n",
       "      <th>matching</th>\n",
       "      <th>rates</th>\n",
       "      <th>prices</th>\n",
       "    </tr>\n",
       "  </thead>\n",
       "  <tbody>\n",
       "    <tr>\n",
       "      <th>0</th>\n",
       "      <td>dai</td>\n",
       "      <td>DAI</td>\n",
       "      <td>NaN</td>\n",
       "    </tr>\n",
       "    <tr>\n",
       "      <th>1</th>\n",
       "      <td>tusd</td>\n",
       "      <td>TUSD</td>\n",
       "      <td>NaN</td>\n",
       "    </tr>\n",
       "    <tr>\n",
       "      <th>2</th>\n",
       "      <td>usdc</td>\n",
       "      <td>USDC</td>\n",
       "      <td>NaN</td>\n",
       "    </tr>\n",
       "  </tbody>\n",
       "</table>\n",
       "</div>"
      ],
      "text/plain": [
       "  matching rates prices\n",
       "0      dai   DAI    NaN\n",
       "1     tusd  TUSD    NaN\n",
       "2     usdc  USDC    NaN"
      ]
     },
     "metadata": {},
     "output_type": "display_data"
    }
   ],
   "source": [
    "symbols = pd.DataFrame(columns = ['matching','rates','prices'])\n",
    "rates_symbols = df_rates['Symbol'].unique()\n",
    "symbols['rates'] = rates_symbols\n",
    "symbols['matching'] = [x.lower() for x in rates_symbols]\n",
    "symbols.head(3)"
   ]
  },
  {
   "cell_type": "code",
   "execution_count": null,
   "metadata": {},
   "outputs": [
    {
     "name": "stdout",
     "output_type": "stream",
     "text": [
      "Index(['Unnamed: 0', 'timestamp', 'open', 'high', 'low', 'close', 'volume',\n",
      "       'close_time', 'quote_asset_volume', 'number_of_trades',\n",
      "       'taker_buy_base_asset_volume', 'taker_buy_quote_asset_volume', 'ignore',\n",
      "       'symbol'],\n",
      "      dtype='object')\n",
      "1187631\n"
     ]
    }
   ],
   "source": [
    "path = 'prices/*.csv'\n",
    "csv_files = glob.glob(path)\n",
    "df_price = pd.concat([\n",
    "    pd.read_csv(file).assign(symbol=os.path.splitext(os.path.basename(file))[0])\n",
    "    for file in csv_files\n",
    "], ignore_index=True)\n",
    "print(df_price.columns)\n",
    "print(len(df_price))\n"
   ]
  },
  {
   "cell_type": "code",
   "execution_count": null,
   "metadata": {},
   "outputs": [
    {
     "data": {
      "text/plain": [
       "38"
      ]
     },
     "metadata": {},
     "output_type": "display_data"
    }
   ],
   "source": [
    "prices_symbols = df_price['symbol'].unique()\n",
    "len(prices_symbols)"
   ]
  },
  {
   "cell_type": "code",
   "execution_count": null,
   "metadata": {},
   "outputs": [
    {
     "data": {
      "text/html": [
       "<div>\n",
       "<style scoped>\n",
       "    .dataframe tbody tr th:only-of-type {\n",
       "        vertical-align: middle;\n",
       "    }\n",
       "\n",
       "    .dataframe tbody tr th {\n",
       "        vertical-align: top;\n",
       "    }\n",
       "\n",
       "    .dataframe thead th {\n",
       "        text-align: right;\n",
       "    }\n",
       "</style>\n",
       "<table border=\"1\" class=\"dataframe\">\n",
       "  <thead>\n",
       "    <tr style=\"text-align: right;\">\n",
       "      <th></th>\n",
       "      <th>matching</th>\n",
       "      <th>rates</th>\n",
       "      <th>prices</th>\n",
       "    </tr>\n",
       "  </thead>\n",
       "  <tbody>\n",
       "    <tr>\n",
       "      <th>0</th>\n",
       "      <td>dai</td>\n",
       "      <td>DAI</td>\n",
       "      <td>DAIUSDT</td>\n",
       "    </tr>\n",
       "    <tr>\n",
       "      <th>1</th>\n",
       "      <td>tusd</td>\n",
       "      <td>TUSD</td>\n",
       "      <td>TUSDUSDT</td>\n",
       "    </tr>\n",
       "    <tr>\n",
       "      <th>2</th>\n",
       "      <td>usdc</td>\n",
       "      <td>USDC</td>\n",
       "      <td>USDCUSDT</td>\n",
       "    </tr>\n",
       "  </tbody>\n",
       "</table>\n",
       "</div>"
      ],
      "text/plain": [
       "  matching rates    prices\n",
       "0      dai   DAI   DAIUSDT\n",
       "1     tusd  TUSD  TUSDUSDT\n",
       "2     usdc  USDC  USDCUSDT"
      ]
     },
     "metadata": {},
     "output_type": "display_data"
    }
   ],
   "source": [
    "for price_symbol in prices_symbols:\n",
    "     x = price_symbol.replace('USDT','')\n",
    "     x = x.lower()\n",
    "     if x in symbols['matching'].values:\n",
    "          index = symbols[symbols['matching'] == x].index\n",
    "          symbols.loc[index, 'prices'] = price_symbol\n",
    "symbols.head(3)"
   ]
  },
  {
   "cell_type": "code",
   "execution_count": null,
   "metadata": {},
   "outputs": [
    {
     "data": {
      "text/plain": [
       "16"
      ]
     },
     "metadata": {},
     "output_type": "display_data"
    }
   ],
   "source": [
    "accpetable_tokens = ['bat', 'link', 'knc', 'mkr', 'mana', 'zrx', 'snx', 'wbtc', 'enj', 'ren', 'yfi', 'uni', 'crv', 'bal', 'ens', '1inch']\n",
    "len(accpetable_tokens)"
   ]
  },
  {
   "cell_type": "code",
   "execution_count": null,
   "metadata": {},
   "outputs": [
    {
     "name": "stdout",
     "output_type": "stream",
     "text": [
      "16\n"
     ]
    },
    {
     "data": {
      "text/html": [
       "<div>\n",
       "<style scoped>\n",
       "    .dataframe tbody tr th:only-of-type {\n",
       "        vertical-align: middle;\n",
       "    }\n",
       "\n",
       "    .dataframe tbody tr th {\n",
       "        vertical-align: top;\n",
       "    }\n",
       "\n",
       "    .dataframe thead th {\n",
       "        text-align: right;\n",
       "    }\n",
       "</style>\n",
       "<table border=\"1\" class=\"dataframe\">\n",
       "  <thead>\n",
       "    <tr style=\"text-align: right;\">\n",
       "      <th></th>\n",
       "      <th>matching</th>\n",
       "      <th>rates</th>\n",
       "      <th>prices</th>\n",
       "    </tr>\n",
       "  </thead>\n",
       "  <tbody>\n",
       "    <tr>\n",
       "      <th>5</th>\n",
       "      <td>bat</td>\n",
       "      <td>BAT</td>\n",
       "      <td>BATUSDT</td>\n",
       "    </tr>\n",
       "    <tr>\n",
       "      <th>6</th>\n",
       "      <td>link</td>\n",
       "      <td>LINK</td>\n",
       "      <td>LINKUSDT</td>\n",
       "    </tr>\n",
       "    <tr>\n",
       "      <th>7</th>\n",
       "      <td>knc</td>\n",
       "      <td>KNC</td>\n",
       "      <td>KNCUSDT</td>\n",
       "    </tr>\n",
       "  </tbody>\n",
       "</table>\n",
       "</div>"
      ],
      "text/plain": [
       "  matching rates    prices\n",
       "5      bat   BAT   BATUSDT\n",
       "6     link  LINK  LINKUSDT\n",
       "7      knc   KNC   KNCUSDT"
      ]
     },
     "metadata": {},
     "output_type": "display_data"
    }
   ],
   "source": [
    "symbols = symbols[symbols['matching'].isin(accpetable_tokens)]\n",
    "print(len(symbols))\n",
    "symbols.head(3)"
   ]
  },
  {
   "cell_type": "code",
   "execution_count": null,
   "metadata": {},
   "outputs": [
    {
     "name": "stdout",
     "output_type": "stream",
     "text": [
      "515214\n"
     ]
    }
   ],
   "source": [
    "df_rates_filtered = df_rates[df_rates['Symbol'].isin(symbols['rates'].to_list())]\n",
    "df_rates_filtered.reset_index(inplace=True, drop=True)\n",
    "print(len(df_rates_filtered))"
   ]
  },
  {
   "cell_type": "code",
   "execution_count": null,
   "metadata": {},
   "outputs": [
    {
     "name": "stdout",
     "output_type": "stream",
     "text": [
      "BATUSDT\n"
     ]
    }
   ],
   "source": [
    "def replace_symbol(symbol):\n",
    "     return symbols[symbols['rates'] == symbol]['prices'].values[0]\n",
    "print(replace_symbol('BAT'))"
   ]
  },
  {
   "cell_type": "code",
   "execution_count": null,
   "metadata": {},
   "outputs": [],
   "source": [
    "df_rates_filtered['Symbol'] = df_rates_filtered['Symbol'].apply(replace_symbol)\n",
    "# df_rates_filtered['Symbol'].value_counts(dropna=False)"
   ]
  },
  {
   "cell_type": "code",
   "execution_count": null,
   "metadata": {},
   "outputs": [
    {
     "name": "stdout",
     "output_type": "stream",
     "text": [
      "215011\n",
      "Unnamed: 0                0\n",
      "Symbol                    0\n",
      "Timestamp                 0\n",
      "liquidityRate_avg         0\n",
      "variableBorrowRate_avg    0\n",
      "utilizationRate_avg       0\n",
      "stableBorrowRate_avg      0\n",
      "dtype: int64\n"
     ]
    },
    {
     "name": "stderr",
     "output_type": "stream",
     "text": [
      "C:\\Users\\hgnik\\AppData\\Local\\Temp\\ipykernel_43048\\1387197028.py:1: SettingWithCopyWarning: \n",
      "A value is trying to be set on a copy of a slice from a DataFrame\n",
      "\n",
      "See the caveats in the documentation: https://pandas.pydata.org/pandas-docs/stable/user_guide/indexing.html#returning-a-view-versus-a-copy\n",
      "  df_rates_filtered.replace(0, -50, inplace=True)\n"
     ]
    }
   ],
   "source": [
    "# we change the zero and NA's to -50\n",
    "df_rates_filtered.replace(0, -50, inplace=True)\n",
    "count_minus_50 = (df_rates_filtered == -50).sum().sum()\n",
    "print(count_minus_50)\n",
    "print(df_rates_filtered.isna().sum())"
   ]
  },
  {
   "cell_type": "code",
   "execution_count": null,
   "metadata": {},
   "outputs": [],
   "source": [
    "# Convert the 'timestamp' column to datetime format, if it's not already\n",
    "df_rates_filtered.reset_index(inplace=True, drop=True)\n",
    "df_rates_filtered['date'] = pd.to_datetime(df_rates_filtered['Timestamp'])\n",
    "\n",
    "# Format the datetime to MySQL's expected string format\n",
    "df_rates_filtered['date'] = df_rates_filtered['date'].dt.strftime('%Y-%m-%d %H:%M:%S')"
   ]
  },
  {
   "cell_type": "code",
   "execution_count": null,
   "metadata": {},
   "outputs": [],
   "source": [
    "cursor = connection.cursor()\n",
    "unique_symbols = df_rates_filtered['Symbol'].unique()"
   ]
  },
  {
   "cell_type": "code",
   "execution_count": null,
   "metadata": {},
   "outputs": [],
   "source": [
    "insert_statement = \"\"\"\n",
    "    INSERT IGNORE INTO crypto_lending_borrowing (crypto_symbol, date, lending_rate, borrowing_rate, utilization_rate, stable_borrow_rate)\n",
    "    VALUES (%s, %s, %s, %s, %s, %s)\n",
    "\"\"\"\n",
    "\n",
    "data = df_rates_filtered[['Symbol', 'date', 'liquidityRate_avg', 'variableBorrowRate_avg', 'utilizationRate_avg', 'stableBorrowRate_avg']].values.tolist()\n",
    "cursor.executemany(insert_statement, data)\n",
    "\n",
    "# Commit and close connection\n",
    "connection.commit()\n",
    "cursor.close()\n",
    "connection.close()"
   ]
  },
  {
   "cell_type": "code",
   "execution_count": null,
   "metadata": {},
   "outputs": [
    {
     "name": "stdout",
     "output_type": "stream",
     "text": [
      "Connected to MySQL database, MySQL Server version:  8.0.39\n"
     ]
    },
    {
     "data": {
      "text/plain": [
       "[(1,\n",
       "  'BATUSDT',\n",
       "  datetime.datetime(2020, 12, 2, 14, 0),\n",
       "  Decimal('-50.000000'),\n",
       "  Decimal('-50.000000'),\n",
       "  Decimal('-50.000000'),\n",
       "  Decimal('0.030000')),\n",
       " (2,\n",
       "  'BATUSDT',\n",
       "  datetime.datetime(2020, 12, 2, 15, 0),\n",
       "  Decimal('-50.000000'),\n",
       "  Decimal('-50.000000'),\n",
       "  Decimal('-50.000000'),\n",
       "  Decimal('0.030000')),\n",
       " (3,\n",
       "  'BATUSDT',\n",
       "  datetime.datetime(2020, 12, 2, 16, 0),\n",
       "  Decimal('-50.000000'),\n",
       "  Decimal('-50.000000'),\n",
       "  Decimal('0.013598'),\n",
       "  Decimal('0.030000')),\n",
       " (4,\n",
       "  'BATUSDT',\n",
       "  datetime.datetime(2020, 12, 2, 17, 0),\n",
       "  Decimal('-50.000000'),\n",
       "  Decimal('-50.000000'),\n",
       "  Decimal('0.014834'),\n",
       "  Decimal('0.030000')),\n",
       " (5,\n",
       "  'BATUSDT',\n",
       "  datetime.datetime(2020, 12, 2, 18, 0),\n",
       "  Decimal('-50.000000'),\n",
       "  Decimal('-50.000000'),\n",
       "  Decimal('0.014834'),\n",
       "  Decimal('0.030000')),\n",
       " (6,\n",
       "  'BATUSDT',\n",
       "  datetime.datetime(2020, 12, 2, 19, 0),\n",
       "  Decimal('-50.000000'),\n",
       "  Decimal('-50.000000'),\n",
       "  Decimal('0.014834'),\n",
       "  Decimal('0.030000')),\n",
       " (7,\n",
       "  'BATUSDT',\n",
       "  datetime.datetime(2020, 12, 2, 20, 0),\n",
       "  Decimal('-50.000000'),\n",
       "  Decimal('-50.000000'),\n",
       "  Decimal('0.014834'),\n",
       "  Decimal('0.030000')),\n",
       " (8,\n",
       "  'BATUSDT',\n",
       "  datetime.datetime(2020, 12, 2, 21, 0),\n",
       "  Decimal('-50.000000'),\n",
       "  Decimal('-50.000000'),\n",
       "  Decimal('0.014834'),\n",
       "  Decimal('0.030000')),\n",
       " (9,\n",
       "  'BATUSDT',\n",
       "  datetime.datetime(2020, 12, 2, 22, 0),\n",
       "  Decimal('-50.000000'),\n",
       "  Decimal('-50.000000'),\n",
       "  Decimal('0.014834'),\n",
       "  Decimal('0.030000')),\n",
       " (10,\n",
       "  'BATUSDT',\n",
       "  datetime.datetime(2020, 12, 2, 23, 0),\n",
       "  Decimal('-50.000000'),\n",
       "  Decimal('-50.000000'),\n",
       "  Decimal('0.014834'),\n",
       "  Decimal('0.030000')),\n",
       " (11,\n",
       "  'BATUSDT',\n",
       "  datetime.datetime(2020, 12, 3, 0, 0),\n",
       "  Decimal('-50.000000'),\n",
       "  Decimal('-50.000000'),\n",
       "  Decimal('0.014834'),\n",
       "  Decimal('0.030000')),\n",
       " (12,\n",
       "  'BATUSDT',\n",
       "  datetime.datetime(2020, 12, 3, 1, 0),\n",
       "  Decimal('-50.000000'),\n",
       "  Decimal('-50.000000'),\n",
       "  Decimal('0.014834'),\n",
       "  Decimal('0.030000')),\n",
       " (13,\n",
       "  'BATUSDT',\n",
       "  datetime.datetime(2020, 12, 3, 2, 0),\n",
       "  Decimal('-50.000000'),\n",
       "  Decimal('-50.000000'),\n",
       "  Decimal('0.014834'),\n",
       "  Decimal('0.030000')),\n",
       " (14,\n",
       "  'BATUSDT',\n",
       "  datetime.datetime(2020, 12, 3, 3, 0),\n",
       "  Decimal('-50.000000'),\n",
       "  Decimal('-50.000000'),\n",
       "  Decimal('0.014834'),\n",
       "  Decimal('0.030000')),\n",
       " (15,\n",
       "  'BATUSDT',\n",
       "  datetime.datetime(2020, 12, 3, 4, 0),\n",
       "  Decimal('-50.000000'),\n",
       "  Decimal('-50.000000'),\n",
       "  Decimal('0.014834'),\n",
       "  Decimal('0.030000')),\n",
       " (16,\n",
       "  'BATUSDT',\n",
       "  datetime.datetime(2020, 12, 3, 5, 0),\n",
       "  Decimal('-50.000000'),\n",
       "  Decimal('-50.000000'),\n",
       "  Decimal('0.014834'),\n",
       "  Decimal('0.030000')),\n",
       " (17,\n",
       "  'BATUSDT',\n",
       "  datetime.datetime(2020, 12, 3, 6, 0),\n",
       "  Decimal('-50.000000'),\n",
       "  Decimal('-50.000000'),\n",
       "  Decimal('0.014834'),\n",
       "  Decimal('0.030000')),\n",
       " (18,\n",
       "  'BATUSDT',\n",
       "  datetime.datetime(2020, 12, 3, 7, 0),\n",
       "  Decimal('-50.000000'),\n",
       "  Decimal('-50.000000'),\n",
       "  Decimal('0.014834'),\n",
       "  Decimal('0.030000')),\n",
       " (19,\n",
       "  'BATUSDT',\n",
       "  datetime.datetime(2020, 12, 3, 8, 0),\n",
       "  Decimal('-50.000000'),\n",
       "  Decimal('-50.000000'),\n",
       "  Decimal('0.014834'),\n",
       "  Decimal('0.030000')),\n",
       " (20,\n",
       "  'BATUSDT',\n",
       "  datetime.datetime(2020, 12, 3, 9, 0),\n",
       "  Decimal('-50.000000'),\n",
       "  Decimal('-50.000000'),\n",
       "  Decimal('0.014834'),\n",
       "  Decimal('0.030000')),\n",
       " (21,\n",
       "  'BATUSDT',\n",
       "  datetime.datetime(2020, 12, 3, 10, 0),\n",
       "  Decimal('-50.000000'),\n",
       "  Decimal('-50.000000'),\n",
       "  Decimal('0.014834'),\n",
       "  Decimal('0.030000')),\n",
       " (22,\n",
       "  'BATUSDT',\n",
       "  datetime.datetime(2020, 12, 3, 11, 0),\n",
       "  Decimal('0.000344'),\n",
       "  Decimal('0.029157'),\n",
       "  Decimal('0.012362'),\n",
       "  Decimal('0.031099')),\n",
       " (23,\n",
       "  'BATUSDT',\n",
       "  datetime.datetime(2020, 12, 3, 12, 0),\n",
       "  Decimal('0.000179'),\n",
       "  Decimal('0.015617'),\n",
       "  Decimal('0.007912'),\n",
       "  Decimal('0.032033')),\n",
       " (24,\n",
       "  'BATUSDT',\n",
       "  datetime.datetime(2020, 12, 3, 13, 0),\n",
       "  Decimal('0.000008'),\n",
       "  Decimal('0.001246'),\n",
       "  Decimal('0.008011'),\n",
       "  Decimal('0.031780')),\n",
       " (25,\n",
       "  'BATUSDT',\n",
       "  datetime.datetime(2020, 12, 3, 14, 0),\n",
       "  Decimal('0.000008'),\n",
       "  Decimal('0.001246'),\n",
       "  Decimal('0.008011'),\n",
       "  Decimal('0.031780')),\n",
       " (26,\n",
       "  'BATUSDT',\n",
       "  datetime.datetime(2020, 12, 3, 15, 0),\n",
       "  Decimal('0.000008'),\n",
       "  Decimal('0.001246'),\n",
       "  Decimal('0.008011'),\n",
       "  Decimal('0.031780')),\n",
       " (27,\n",
       "  'BATUSDT',\n",
       "  datetime.datetime(2020, 12, 3, 16, 0),\n",
       "  Decimal('0.000001'),\n",
       "  Decimal('0.000212'),\n",
       "  Decimal('0.001363'),\n",
       "  Decimal('0.030303')),\n",
       " (28,\n",
       "  'BATUSDT',\n",
       "  datetime.datetime(2020, 12, 3, 17, 0),\n",
       "  Decimal('0.000000'),\n",
       "  Decimal('0.000005'),\n",
       "  Decimal('0.000033'),\n",
       "  Decimal('0.030007')),\n",
       " (29,\n",
       "  'BATUSDT',\n",
       "  datetime.datetime(2020, 12, 3, 18, 0),\n",
       "  Decimal('0.000000'),\n",
       "  Decimal('0.000005'),\n",
       "  Decimal('0.000033'),\n",
       "  Decimal('0.030007')),\n",
       " (30,\n",
       "  'BATUSDT',\n",
       "  datetime.datetime(2020, 12, 3, 19, 0),\n",
       "  Decimal('0.000000'),\n",
       "  Decimal('0.000005'),\n",
       "  Decimal('0.000033'),\n",
       "  Decimal('0.030007'))]"
      ]
     },
     "metadata": {},
     "output_type": "display_data"
    }
   ],
   "source": [
    "connection = connect_to_database()\n",
    "# Function to view data from a specific table\n",
    "def view_table_data(connection, table_name, limit=300):\n",
    "    cursor = connection.cursor()\n",
    "    query = f\"SELECT * FROM {table_name} LIMIT %s;\"\n",
    "    cursor.execute(query, (limit,))\n",
    "    data = cursor.fetchall()\n",
    "    return data\n",
    "\n",
    "view_table_data(connection,'crypto_lending_borrowing', limit=30)"
   ]
  },
  {
   "cell_type": "markdown",
   "metadata": {},
   "source": [
    "### End of Notebook"
   ]
  }
 ],
 "metadata": {
  "kernelspec": {
   "display_name": "base",
   "language": "python",
   "name": "python3"
  },
  "language_info": {
   "name": "python",
   "version": "3.11.5"
  }
 },
 "nbformat": 4,
 "nbformat_minor": 2
}
