{
 "cells": [
  {
   "cell_type": "code",
   "execution_count": 1,
   "metadata": {},
   "outputs": [],
   "source": [
    "import requests\n",
    "import pandas as pd\n",
    "import mysql.connector\n",
    "from mysql.connector import Error\n",
    "import calendar\n",
    "import os"
   ]
  },
  {
   "cell_type": "code",
   "execution_count": 2,
   "metadata": {},
   "outputs": [
    {
     "name": "stdout",
     "output_type": "stream",
     "text": [
      "Connected to MySQL database, MySQL Server version:  8.0.39\n"
     ]
    }
   ],
   "source": [
    "# MySQL database connection function\n",
    "def connect_to_database():\n",
    "    try:\n",
    "        # Establishing connection to the database\n",
    "        connection = mysql.connector.connect(\n",
    "            host='crypto-matter.c5eq66ogk1mf.eu-central-1.rds.amazonaws.com',\n",
    "            database='Crypto',\n",
    "            user='Jing',  # Replace with your actual first name\n",
    "            password='Crypto12!'\n",
    "        )\n",
    "\n",
    "        if connection.is_connected():\n",
    "            db_info = connection.get_server_info()\n",
    "            print(\"Connected to MySQL database, MySQL Server version: \", db_info)\n",
    "            return connection\n",
    "\n",
    "    except Error as e:\n",
    "        print(\"Error while connecting to MySQL\", e)\n",
    "        return None\n",
    "\n",
    "connection = connect_to_database()"
   ]
  },
  {
   "cell_type": "code",
   "execution_count": 3,
   "metadata": {},
   "outputs": [
    {
     "name": "stdout",
     "output_type": "stream",
     "text": [
      "2141202\n"
     ]
    },
    {
     "data": {
      "text/html": [
       "<div>\n",
       "<style scoped>\n",
       "    .dataframe tbody tr th:only-of-type {\n",
       "        vertical-align: middle;\n",
       "    }\n",
       "\n",
       "    .dataframe tbody tr th {\n",
       "        vertical-align: top;\n",
       "    }\n",
       "\n",
       "    .dataframe thead th {\n",
       "        text-align: right;\n",
       "    }\n",
       "</style>\n",
       "<table border=\"1\" class=\"dataframe\">\n",
       "  <thead>\n",
       "    <tr style=\"text-align: right;\">\n",
       "      <th></th>\n",
       "      <th>Unnamed: 0</th>\n",
       "      <th>Symbol</th>\n",
       "      <th>Timestamp</th>\n",
       "      <th>liquidityRate_avg</th>\n",
       "      <th>variableBorrowRate_avg</th>\n",
       "      <th>utilizationRate_avg</th>\n",
       "      <th>stableBorrowRate_avg</th>\n",
       "    </tr>\n",
       "  </thead>\n",
       "  <tbody>\n",
       "    <tr>\n",
       "      <th>0</th>\n",
       "      <td>0</td>\n",
       "      <td>DAI</td>\n",
       "      <td>2020-12-01 16:00:00</td>\n",
       "      <td>0.000899</td>\n",
       "      <td>0.003996</td>\n",
       "      <td>0.083333</td>\n",
       "      <td>0.042083</td>\n",
       "    </tr>\n",
       "    <tr>\n",
       "      <th>1</th>\n",
       "      <td>1</td>\n",
       "      <td>DAI</td>\n",
       "      <td>2020-12-01 17:00:00</td>\n",
       "      <td>0.000000</td>\n",
       "      <td>0.000000</td>\n",
       "      <td>0.250000</td>\n",
       "      <td>0.046250</td>\n",
       "    </tr>\n",
       "    <tr>\n",
       "      <th>2</th>\n",
       "      <td>2</td>\n",
       "      <td>DAI</td>\n",
       "      <td>2020-12-01 18:00:00</td>\n",
       "      <td>0.000000</td>\n",
       "      <td>0.000000</td>\n",
       "      <td>0.250000</td>\n",
       "      <td>0.046250</td>\n",
       "    </tr>\n",
       "  </tbody>\n",
       "</table>\n",
       "</div>"
      ],
      "text/plain": [
       "   Unnamed: 0 Symbol            Timestamp  liquidityRate_avg  \\\n",
       "0           0    DAI  2020-12-01 16:00:00           0.000899   \n",
       "1           1    DAI  2020-12-01 17:00:00           0.000000   \n",
       "2           2    DAI  2020-12-01 18:00:00           0.000000   \n",
       "\n",
       "   variableBorrowRate_avg  utilizationRate_avg  stableBorrowRate_avg  \n",
       "0                0.003996             0.083333              0.042083  \n",
       "1                0.000000             0.250000              0.046250  \n",
       "2                0.000000             0.250000              0.046250  "
      ]
     },
     "execution_count": 3,
     "metadata": {},
     "output_type": "execute_result"
    }
   ],
   "source": [
    "df_rates = pd.read_csv('../data/rates_data_v4.csv')\n",
    "print(len(df_rates))\n",
    "df_rates.head(3)"
   ]
  },
  {
   "cell_type": "code",
   "execution_count": 4,
   "metadata": {},
   "outputs": [
    {
     "data": {
      "text/plain": [
       "[bytearray(b'US_Bond_Yield'),\n",
       " bytearray(b'crypto_lending_borrowing'),\n",
       " bytearray(b'crypto_price'),\n",
       " bytearray(b'crypto_reference')]"
      ]
     },
     "execution_count": 4,
     "metadata": {},
     "output_type": "execute_result"
    }
   ],
   "source": [
    "# Function to get all table names in the database\n",
    "def get_table_names(connection):\n",
    "    cursor = connection.cursor()\n",
    "    cursor.execute(\"SHOW TABLES;\")\n",
    "    tables = cursor.fetchall()\n",
    "    return [table[0] for table in tables]\n",
    "\n",
    "get_table_names(connection)"
   ]
  },
  {
   "cell_type": "code",
   "execution_count": 5,
   "metadata": {},
   "outputs": [
    {
     "data": {
      "text/html": [
       "<div>\n",
       "<style scoped>\n",
       "    .dataframe tbody tr th:only-of-type {\n",
       "        vertical-align: middle;\n",
       "    }\n",
       "\n",
       "    .dataframe tbody tr th {\n",
       "        vertical-align: top;\n",
       "    }\n",
       "\n",
       "    .dataframe thead th {\n",
       "        text-align: right;\n",
       "    }\n",
       "</style>\n",
       "<table border=\"1\" class=\"dataframe\">\n",
       "  <thead>\n",
       "    <tr style=\"text-align: right;\">\n",
       "      <th></th>\n",
       "      <th>matching</th>\n",
       "      <th>rates</th>\n",
       "      <th>prices</th>\n",
       "    </tr>\n",
       "  </thead>\n",
       "  <tbody>\n",
       "    <tr>\n",
       "      <th>0</th>\n",
       "      <td>dai</td>\n",
       "      <td>DAI</td>\n",
       "      <td>NaN</td>\n",
       "    </tr>\n",
       "    <tr>\n",
       "      <th>1</th>\n",
       "      <td>tusd</td>\n",
       "      <td>TUSD</td>\n",
       "      <td>NaN</td>\n",
       "    </tr>\n",
       "    <tr>\n",
       "      <th>2</th>\n",
       "      <td>usdc</td>\n",
       "      <td>USDC</td>\n",
       "      <td>NaN</td>\n",
       "    </tr>\n",
       "  </tbody>\n",
       "</table>\n",
       "</div>"
      ],
      "text/plain": [
       "  matching rates prices\n",
       "0      dai   DAI    NaN\n",
       "1     tusd  TUSD    NaN\n",
       "2     usdc  USDC    NaN"
      ]
     },
     "execution_count": 5,
     "metadata": {},
     "output_type": "execute_result"
    }
   ],
   "source": [
    "symbols = pd.DataFrame(columns = ['matching','rates','prices'])\n",
    "rates_symbols = df_rates['Symbol'].unique()\n",
    "symbols['rates'] = rates_symbols\n",
    "symbols['matching'] = [x.lower() for x in rates_symbols]\n",
    "symbols.head(3)"
   ]
  },
  {
   "cell_type": "code",
   "execution_count": 9,
   "metadata": {},
   "outputs": [
    {
     "name": "stdout",
     "output_type": "stream",
     "text": [
      "Index(['Unnamed: 0', 'timestamp', 'open', 'high', 'low', 'close', 'volume',\n",
      "       'close_time', 'quote_asset_volume', 'number_of_trades',\n",
      "       'taker_buy_base_asset_volume', 'taker_buy_quote_asset_volume', 'ignore',\n",
      "       'symbol'],\n",
      "      dtype='object')\n",
      "1187631\n"
     ]
    }
   ],
   "source": [
    "import pandas as pd\n",
    "import glob\n",
    "import os \n",
    "\n",
    "path = 'prices/*.csv'\n",
    "csv_files = glob.glob(path)\n",
    "df_price = pd.concat([\n",
    "    pd.read_csv(file).assign(symbol=os.path.splitext(os.path.basename(file))[0])\n",
    "    for file in csv_files\n",
    "], ignore_index=True)\n",
    "print(df_price.columns)\n",
    "print(len(df_price))\n"
   ]
  },
  {
   "cell_type": "code",
   "execution_count": 10,
   "metadata": {},
   "outputs": [
    {
     "data": {
      "text/plain": [
       "38"
      ]
     },
     "execution_count": 10,
     "metadata": {},
     "output_type": "execute_result"
    }
   ],
   "source": [
    "prices_symbols = df_price['symbol'].unique()\n",
    "len(prices_symbols)"
   ]
  },
  {
   "cell_type": "code",
   "execution_count": 11,
   "metadata": {},
   "outputs": [
    {
     "data": {
      "text/html": [
       "<div>\n",
       "<style scoped>\n",
       "    .dataframe tbody tr th:only-of-type {\n",
       "        vertical-align: middle;\n",
       "    }\n",
       "\n",
       "    .dataframe tbody tr th {\n",
       "        vertical-align: top;\n",
       "    }\n",
       "\n",
       "    .dataframe thead th {\n",
       "        text-align: right;\n",
       "    }\n",
       "</style>\n",
       "<table border=\"1\" class=\"dataframe\">\n",
       "  <thead>\n",
       "    <tr style=\"text-align: right;\">\n",
       "      <th></th>\n",
       "      <th>matching</th>\n",
       "      <th>rates</th>\n",
       "      <th>prices</th>\n",
       "    </tr>\n",
       "  </thead>\n",
       "  <tbody>\n",
       "    <tr>\n",
       "      <th>0</th>\n",
       "      <td>dai</td>\n",
       "      <td>DAI</td>\n",
       "      <td>DAIUSDT</td>\n",
       "    </tr>\n",
       "    <tr>\n",
       "      <th>1</th>\n",
       "      <td>tusd</td>\n",
       "      <td>TUSD</td>\n",
       "      <td>TUSDUSDT</td>\n",
       "    </tr>\n",
       "    <tr>\n",
       "      <th>2</th>\n",
       "      <td>usdc</td>\n",
       "      <td>USDC</td>\n",
       "      <td>USDCUSDT</td>\n",
       "    </tr>\n",
       "  </tbody>\n",
       "</table>\n",
       "</div>"
      ],
      "text/plain": [
       "  matching rates    prices\n",
       "0      dai   DAI   DAIUSDT\n",
       "1     tusd  TUSD  TUSDUSDT\n",
       "2     usdc  USDC  USDCUSDT"
      ]
     },
     "execution_count": 11,
     "metadata": {},
     "output_type": "execute_result"
    }
   ],
   "source": [
    "for price_symbol in prices_symbols:\n",
    "     x = price_symbol.replace('USDT','')\n",
    "     x = x.lower()\n",
    "     if x in symbols['matching'].values:\n",
    "          index = symbols[symbols['matching'] == x].index\n",
    "          symbols.loc[index, 'prices'] = price_symbol\n",
    "symbols.head(3)"
   ]
  },
  {
   "cell_type": "code",
   "execution_count": 12,
   "metadata": {},
   "outputs": [
    {
     "data": {
      "text/plain": [
       "16"
      ]
     },
     "execution_count": 12,
     "metadata": {},
     "output_type": "execute_result"
    }
   ],
   "source": [
    "accpetable_tokens = ['bat', 'link', 'knc', 'mkr', 'mana', 'zrx', 'snx', 'wbtc', 'enj', 'ren', 'yfi', 'uni', 'crv', 'bal', 'ens', '1inch']\n",
    "len(accpetable_tokens)"
   ]
  },
  {
   "cell_type": "code",
   "execution_count": 13,
   "metadata": {},
   "outputs": [
    {
     "name": "stdout",
     "output_type": "stream",
     "text": [
      "16\n"
     ]
    },
    {
     "data": {
      "text/html": [
       "<div>\n",
       "<style scoped>\n",
       "    .dataframe tbody tr th:only-of-type {\n",
       "        vertical-align: middle;\n",
       "    }\n",
       "\n",
       "    .dataframe tbody tr th {\n",
       "        vertical-align: top;\n",
       "    }\n",
       "\n",
       "    .dataframe thead th {\n",
       "        text-align: right;\n",
       "    }\n",
       "</style>\n",
       "<table border=\"1\" class=\"dataframe\">\n",
       "  <thead>\n",
       "    <tr style=\"text-align: right;\">\n",
       "      <th></th>\n",
       "      <th>matching</th>\n",
       "      <th>rates</th>\n",
       "      <th>prices</th>\n",
       "    </tr>\n",
       "  </thead>\n",
       "  <tbody>\n",
       "    <tr>\n",
       "      <th>5</th>\n",
       "      <td>bat</td>\n",
       "      <td>BAT</td>\n",
       "      <td>BATUSDT</td>\n",
       "    </tr>\n",
       "    <tr>\n",
       "      <th>6</th>\n",
       "      <td>link</td>\n",
       "      <td>LINK</td>\n",
       "      <td>LINKUSDT</td>\n",
       "    </tr>\n",
       "    <tr>\n",
       "      <th>7</th>\n",
       "      <td>knc</td>\n",
       "      <td>KNC</td>\n",
       "      <td>KNCUSDT</td>\n",
       "    </tr>\n",
       "  </tbody>\n",
       "</table>\n",
       "</div>"
      ],
      "text/plain": [
       "  matching rates    prices\n",
       "5      bat   BAT   BATUSDT\n",
       "6     link  LINK  LINKUSDT\n",
       "7      knc   KNC   KNCUSDT"
      ]
     },
     "execution_count": 13,
     "metadata": {},
     "output_type": "execute_result"
    }
   ],
   "source": [
    "symbols = symbols[symbols['matching'].isin(accpetable_tokens)]\n",
    "print(len(symbols))\n",
    "symbols.head(3)"
   ]
  },
  {
   "cell_type": "code",
   "execution_count": 14,
   "metadata": {},
   "outputs": [
    {
     "name": "stdout",
     "output_type": "stream",
     "text": [
      "515214\n"
     ]
    }
   ],
   "source": [
    "df_rates_filtered = df_rates[df_rates['Symbol'].isin(symbols['rates'].to_list())]\n",
    "df_rates_filtered.reset_index(inplace=True, drop=True)\n",
    "print(len(df_rates_filtered))"
   ]
  },
  {
   "cell_type": "code",
   "execution_count": 16,
   "metadata": {},
   "outputs": [
    {
     "name": "stdout",
     "output_type": "stream",
     "text": [
      "BATUSDT\n"
     ]
    }
   ],
   "source": [
    "def replace_symbol(symbol):\n",
    "     return symbols[symbols['rates'] == symbol]['prices'].values[0]\n",
    "print(replace_symbol('BAT'))"
   ]
  },
  {
   "cell_type": "code",
   "execution_count": 17,
   "metadata": {},
   "outputs": [
    {
     "name": "stderr",
     "output_type": "stream",
     "text": [
      "C:\\Users\\hgnik\\AppData\\Local\\Temp\\ipykernel_43048\\129440409.py:1: SettingWithCopyWarning: \n",
      "A value is trying to be set on a copy of a slice from a DataFrame.\n",
      "Try using .loc[row_indexer,col_indexer] = value instead\n",
      "\n",
      "See the caveats in the documentation: https://pandas.pydata.org/pandas-docs/stable/user_guide/indexing.html#returning-a-view-versus-a-copy\n",
      "  df_rates_filtered['Symbol'] = df_rates_filtered['Symbol'].apply(replace_symbol)\n"
     ]
    },
    {
     "data": {
      "text/plain": [
       "Symbol\n",
       "MKRUSDT      34297\n",
       "WBTCUSDT     34296\n",
       "UNIUSDT      34293\n",
       "ENJUSDT      34264\n",
       "LINKUSDT     34222\n",
       "SNXUSDT      34203\n",
       "MANAUSDT     34146\n",
       "ZRXUSDT      33796\n",
       "CRVUSDT      33688\n",
       "YFIUSDT      33631\n",
       "RENUSDT      33624\n",
       "BATUSDT      33158\n",
       "KNCUSDT      32964\n",
       "BALUSDT      32791\n",
       "ENSUSDT      23224\n",
       "1INCHUSDT    18617\n",
       "Name: count, dtype: int64"
      ]
     },
     "execution_count": 17,
     "metadata": {},
     "output_type": "execute_result"
    }
   ],
   "source": [
    "df_rates_filtered['Symbol'] = df_rates_filtered['Symbol'].apply(replace_symbol)\n",
    "df_rates_filtered['Symbol'].value_counts(dropna=False)"
   ]
  },
  {
   "cell_type": "code",
   "execution_count": 20,
   "metadata": {},
   "outputs": [
    {
     "name": "stdout",
     "output_type": "stream",
     "text": [
      "215011\n",
      "Unnamed: 0                0\n",
      "Symbol                    0\n",
      "Timestamp                 0\n",
      "liquidityRate_avg         0\n",
      "variableBorrowRate_avg    0\n",
      "utilizationRate_avg       0\n",
      "stableBorrowRate_avg      0\n",
      "dtype: int64\n"
     ]
    },
    {
     "name": "stderr",
     "output_type": "stream",
     "text": [
      "C:\\Users\\hgnik\\AppData\\Local\\Temp\\ipykernel_43048\\1387197028.py:1: SettingWithCopyWarning: \n",
      "A value is trying to be set on a copy of a slice from a DataFrame\n",
      "\n",
      "See the caveats in the documentation: https://pandas.pydata.org/pandas-docs/stable/user_guide/indexing.html#returning-a-view-versus-a-copy\n",
      "  df_rates_filtered.replace(0, -50, inplace=True)\n"
     ]
    }
   ],
   "source": [
    "df_rates_filtered.replace(0, -50, inplace=True)\n",
    "count_minus_50 = (df_rates_filtered == -50).sum().sum()\n",
    "print(count_minus_50)\n",
    "print(df_rates_filtered.isna().sum())"
   ]
  },
  {
   "cell_type": "code",
   "execution_count": 24,
   "metadata": {},
   "outputs": [
    {
     "data": {
      "text/plain": [
       "Index(['Unnamed: 0', 'Symbol', 'Timestamp', 'liquidityRate_avg',\n",
       "       'variableBorrowRate_avg', 'utilizationRate_avg',\n",
       "       'stableBorrowRate_avg'],\n",
       "      dtype='object')"
      ]
     },
     "execution_count": 24,
     "metadata": {},
     "output_type": "execute_result"
    }
   ],
   "source": [
    "df_rates_filtered.reset_index(inplace=True, drop=True)\n",
    "df_rates_filtered.columns"
   ]
  },
  {
   "cell_type": "code",
   "execution_count": 29,
   "metadata": {},
   "outputs": [
    {
     "data": {
      "text/plain": [
       "'2020-12-02 14:00:00'"
      ]
     },
     "execution_count": 29,
     "metadata": {},
     "output_type": "execute_result"
    }
   ],
   "source": [
    "df_rates_filtered.loc[0, 'Timestamp']"
   ]
  },
  {
   "cell_type": "code",
   "execution_count": 31,
   "metadata": {},
   "outputs": [
    {
     "name": "stderr",
     "output_type": "stream",
     "text": [
      "C:\\Users\\hgnik\\AppData\\Local\\Temp\\ipykernel_43048\\2526683159.py:2: SettingWithCopyWarning: \n",
      "A value is trying to be set on a copy of a slice from a DataFrame.\n",
      "Try using .loc[row_indexer,col_indexer] = value instead\n",
      "\n",
      "See the caveats in the documentation: https://pandas.pydata.org/pandas-docs/stable/user_guide/indexing.html#returning-a-view-versus-a-copy\n",
      "  df_rates_filtered['date'] = pd.to_datetime(df_rates_filtered['Timestamp'])\n",
      "C:\\Users\\hgnik\\AppData\\Local\\Temp\\ipykernel_43048\\2526683159.py:5: SettingWithCopyWarning: \n",
      "A value is trying to be set on a copy of a slice from a DataFrame.\n",
      "Try using .loc[row_indexer,col_indexer] = value instead\n",
      "\n",
      "See the caveats in the documentation: https://pandas.pydata.org/pandas-docs/stable/user_guide/indexing.html#returning-a-view-versus-a-copy\n",
      "  df_rates_filtered['date'] = df_rates_filtered['date'].dt.strftime('%Y-%m-%d %H:%M:%S')\n"
     ]
    },
    {
     "data": {
      "text/plain": [
       "str"
      ]
     },
     "execution_count": 31,
     "metadata": {},
     "output_type": "execute_result"
    }
   ],
   "source": [
    "# Convert the 'timestamp' column to datetime format, if it's not already\n",
    "df_rates_filtered['date'] = pd.to_datetime(df_rates_filtered['Timestamp'])\n",
    "\n",
    "# Format the datetime to MySQL's expected string format\n",
    "df_rates_filtered['date'] = df_rates_filtered['date'].dt.strftime('%Y-%m-%d %H:%M:%S')\n",
    "\n",
    "type(df_rates_filtered.loc[0,'date'])"
   ]
  },
  {
   "cell_type": "code",
   "execution_count": null,
   "metadata": {},
   "outputs": [],
   "source": []
  },
  {
   "cell_type": "code",
   "execution_count": null,
   "metadata": {},
   "outputs": [],
   "source": []
  },
  {
   "cell_type": "code",
   "execution_count": 34,
   "metadata": {},
   "outputs": [],
   "source": [
    "cursor = connection.cursor()\n",
    "unique_symbols = df_rates_filtered['Symbol'].unique()\n"
   ]
  },
  {
   "cell_type": "code",
   "execution_count": 37,
   "metadata": {},
   "outputs": [
    {
     "ename": "ProgrammingError",
     "evalue": "1064 (42000): You have an error in your SQL syntax; check the manual that corresponds to your MySQL server version for the right syntax to use near '%s, %s, %s, %s, %s, %s, %s, %s, %s, %s, %s, %s, %s, %s, %s, %s)' at line 1",
     "output_type": "error",
     "traceback": [
      "\u001b[1;31m---------------------------------------------------------------------------\u001b[0m",
      "\u001b[1;31mProgrammingError\u001b[0m                          Traceback (most recent call last)",
      "Cell \u001b[1;32mIn[37], line 6\u001b[0m\n\u001b[0;32m      3\u001b[0m existing_symbols_query \u001b[38;5;241m=\u001b[39m \u001b[38;5;124mf\u001b[39m\u001b[38;5;124m\"\u001b[39m\u001b[38;5;124mSELECT crypto_symbol FROM crypto_reference WHERE crypto_symbol IN (\u001b[39m\u001b[38;5;132;01m{\u001b[39;00mplaceholders\u001b[38;5;132;01m}\u001b[39;00m\u001b[38;5;124m)\u001b[39m\u001b[38;5;124m\"\u001b[39m\n\u001b[0;32m      5\u001b[0m \u001b[38;5;66;03m# Execute the query with unique_symbols as individual parameters\u001b[39;00m\n\u001b[1;32m----> 6\u001b[0m cursor\u001b[38;5;241m.\u001b[39mexecute(existing_symbols_query, unique_symbols)\n\u001b[0;32m      7\u001b[0m existing_symbols \u001b[38;5;241m=\u001b[39m {row[\u001b[38;5;241m0\u001b[39m] \u001b[38;5;28;01mfor\u001b[39;00m row \u001b[38;5;129;01min\u001b[39;00m cursor\u001b[38;5;241m.\u001b[39mfetchall()}\n",
      "File \u001b[1;32mc:\\Users\\hgnik\\anaconda3\\Lib\\site-packages\\mysql\\connector\\cursor.py:551\u001b[0m, in \u001b[0;36mMySQLCursor.execute\u001b[1;34m(self, operation, params, multi)\u001b[0m\n\u001b[0;32m    549\u001b[0m \u001b[38;5;28;01melse\u001b[39;00m:\n\u001b[0;32m    550\u001b[0m     \u001b[38;5;28;01mtry\u001b[39;00m:\n\u001b[1;32m--> 551\u001b[0m         \u001b[38;5;28mself\u001b[39m\u001b[38;5;241m.\u001b[39m_handle_result(\u001b[38;5;28mself\u001b[39m\u001b[38;5;241m.\u001b[39m_connection\u001b[38;5;241m.\u001b[39mcmd_query(stmt))\n\u001b[0;32m    552\u001b[0m     \u001b[38;5;28;01mexcept\u001b[39;00m errors\u001b[38;5;241m.\u001b[39mInterfaceError:\n\u001b[0;32m    553\u001b[0m         \u001b[38;5;28;01mif\u001b[39;00m \u001b[38;5;28mself\u001b[39m\u001b[38;5;241m.\u001b[39m_connection\u001b[38;5;241m.\u001b[39m_have_next_result:  \u001b[38;5;66;03m# pylint: disable=W0212\u001b[39;00m\n",
      "File \u001b[1;32mc:\\Users\\hgnik\\anaconda3\\Lib\\site-packages\\mysql\\connector\\connection.py:490\u001b[0m, in \u001b[0;36mMySQLConnection.cmd_query\u001b[1;34m(self, query, raw, buffered, raw_as_string)\u001b[0m\n\u001b[0;32m    488\u001b[0m \u001b[38;5;28;01mif\u001b[39;00m \u001b[38;5;129;01mnot\u001b[39;00m \u001b[38;5;28misinstance\u001b[39m(query, \u001b[38;5;28mbytes\u001b[39m):\n\u001b[0;32m    489\u001b[0m     query \u001b[38;5;241m=\u001b[39m query\u001b[38;5;241m.\u001b[39mencode(\u001b[38;5;124m'\u001b[39m\u001b[38;5;124mutf-8\u001b[39m\u001b[38;5;124m'\u001b[39m)\n\u001b[1;32m--> 490\u001b[0m result \u001b[38;5;241m=\u001b[39m \u001b[38;5;28mself\u001b[39m\u001b[38;5;241m.\u001b[39m_handle_result(\u001b[38;5;28mself\u001b[39m\u001b[38;5;241m.\u001b[39m_send_cmd(ServerCmd\u001b[38;5;241m.\u001b[39mQUERY, query))\n\u001b[0;32m    492\u001b[0m \u001b[38;5;28;01mif\u001b[39;00m \u001b[38;5;28mself\u001b[39m\u001b[38;5;241m.\u001b[39m_have_next_result:\n\u001b[0;32m    493\u001b[0m     \u001b[38;5;28;01mraise\u001b[39;00m errors\u001b[38;5;241m.\u001b[39mInterfaceError(\n\u001b[0;32m    494\u001b[0m         \u001b[38;5;124m'\u001b[39m\u001b[38;5;124mUse cmd_query_iter for statements with multiple queries.\u001b[39m\u001b[38;5;124m'\u001b[39m)\n",
      "File \u001b[1;32mc:\\Users\\hgnik\\anaconda3\\Lib\\site-packages\\mysql\\connector\\connection.py:395\u001b[0m, in \u001b[0;36mMySQLConnection._handle_result\u001b[1;34m(self, packet)\u001b[0m\n\u001b[0;32m    393\u001b[0m     \u001b[38;5;28;01mreturn\u001b[39;00m \u001b[38;5;28mself\u001b[39m\u001b[38;5;241m.\u001b[39m_handle_eof(packet)\n\u001b[0;32m    394\u001b[0m \u001b[38;5;28;01melif\u001b[39;00m packet[\u001b[38;5;241m4\u001b[39m] \u001b[38;5;241m==\u001b[39m \u001b[38;5;241m255\u001b[39m:\n\u001b[1;32m--> 395\u001b[0m     \u001b[38;5;28;01mraise\u001b[39;00m errors\u001b[38;5;241m.\u001b[39mget_exception(packet)\n\u001b[0;32m    397\u001b[0m \u001b[38;5;66;03m# We have a text result set\u001b[39;00m\n\u001b[0;32m    398\u001b[0m column_count \u001b[38;5;241m=\u001b[39m \u001b[38;5;28mself\u001b[39m\u001b[38;5;241m.\u001b[39m_protocol\u001b[38;5;241m.\u001b[39mparse_column_count(packet)\n",
      "\u001b[1;31mProgrammingError\u001b[0m: 1064 (42000): You have an error in your SQL syntax; check the manual that corresponds to your MySQL server version for the right syntax to use near '%s, %s, %s, %s, %s, %s, %s, %s, %s, %s, %s, %s, %s, %s, %s, %s)' at line 1"
     ]
    }
   ],
   "source": [
    "# Create placeholders for each symbol in unique_symbols\n",
    "placeholders = \", \".join([\"%s\"] * len(unique_symbols))\n",
    "existing_symbols_query = f\"SELECT crypto_symbol FROM crypto_reference WHERE crypto_symbol IN ({placeholders})\"\n",
    "\n",
    "# Execute the query with unique_symbols as individual parameters\n",
    "cursor.execute(existing_symbols_query, unique_symbols)\n",
    "existing_symbols = {row[0] for row in cursor.fetchall()}\n"
   ]
  },
  {
   "cell_type": "code",
   "execution_count": null,
   "metadata": {},
   "outputs": [],
   "source": []
  },
  {
   "cell_type": "code",
   "execution_count": null,
   "metadata": {},
   "outputs": [],
   "source": []
  },
  {
   "cell_type": "code",
   "execution_count": 38,
   "metadata": {},
   "outputs": [],
   "source": [
    "insert_statement = \"\"\"\n",
    "    INSERT IGNORE INTO crypto_lending_borrowing (crypto_symbol, date, lending_rate, borrowing_rate, utilization_rate, stable_borrow_rate)\n",
    "    VALUES (%s, %s, %s, %s, %s, %s)\n",
    "\"\"\"\n",
    "\n",
    "data = df_rates_filtered[['Symbol', 'date', 'liquidityRate_avg', 'variableBorrowRate_avg', 'utilizationRate_avg', 'stableBorrowRate_avg']].values.tolist()\n",
    "cursor.executemany(insert_statement, data)\n",
    "\n",
    "# Commit and close connection\n",
    "connection.commit()\n",
    "cursor.close()\n",
    "connection.close()"
   ]
  },
  {
   "cell_type": "code",
   "execution_count": 40,
   "metadata": {},
   "outputs": [
    {
     "name": "stdout",
     "output_type": "stream",
     "text": [
      "Connected to MySQL database, MySQL Server version:  8.0.39\n"
     ]
    },
    {
     "data": {
      "text/plain": [
       "[(1,\n",
       "  'BATUSDT',\n",
       "  datetime.datetime(2020, 12, 2, 14, 0),\n",
       "  Decimal('-50.000000'),\n",
       "  Decimal('-50.000000'),\n",
       "  Decimal('-50.000000'),\n",
       "  Decimal('0.030000')),\n",
       " (2,\n",
       "  'BATUSDT',\n",
       "  datetime.datetime(2020, 12, 2, 15, 0),\n",
       "  Decimal('-50.000000'),\n",
       "  Decimal('-50.000000'),\n",
       "  Decimal('-50.000000'),\n",
       "  Decimal('0.030000')),\n",
       " (3,\n",
       "  'BATUSDT',\n",
       "  datetime.datetime(2020, 12, 2, 16, 0),\n",
       "  Decimal('-50.000000'),\n",
       "  Decimal('-50.000000'),\n",
       "  Decimal('0.013598'),\n",
       "  Decimal('0.030000')),\n",
       " (4,\n",
       "  'BATUSDT',\n",
       "  datetime.datetime(2020, 12, 2, 17, 0),\n",
       "  Decimal('-50.000000'),\n",
       "  Decimal('-50.000000'),\n",
       "  Decimal('0.014834'),\n",
       "  Decimal('0.030000')),\n",
       " (5,\n",
       "  'BATUSDT',\n",
       "  datetime.datetime(2020, 12, 2, 18, 0),\n",
       "  Decimal('-50.000000'),\n",
       "  Decimal('-50.000000'),\n",
       "  Decimal('0.014834'),\n",
       "  Decimal('0.030000')),\n",
       " (6,\n",
       "  'BATUSDT',\n",
       "  datetime.datetime(2020, 12, 2, 19, 0),\n",
       "  Decimal('-50.000000'),\n",
       "  Decimal('-50.000000'),\n",
       "  Decimal('0.014834'),\n",
       "  Decimal('0.030000')),\n",
       " (7,\n",
       "  'BATUSDT',\n",
       "  datetime.datetime(2020, 12, 2, 20, 0),\n",
       "  Decimal('-50.000000'),\n",
       "  Decimal('-50.000000'),\n",
       "  Decimal('0.014834'),\n",
       "  Decimal('0.030000')),\n",
       " (8,\n",
       "  'BATUSDT',\n",
       "  datetime.datetime(2020, 12, 2, 21, 0),\n",
       "  Decimal('-50.000000'),\n",
       "  Decimal('-50.000000'),\n",
       "  Decimal('0.014834'),\n",
       "  Decimal('0.030000')),\n",
       " (9,\n",
       "  'BATUSDT',\n",
       "  datetime.datetime(2020, 12, 2, 22, 0),\n",
       "  Decimal('-50.000000'),\n",
       "  Decimal('-50.000000'),\n",
       "  Decimal('0.014834'),\n",
       "  Decimal('0.030000')),\n",
       " (10,\n",
       "  'BATUSDT',\n",
       "  datetime.datetime(2020, 12, 2, 23, 0),\n",
       "  Decimal('-50.000000'),\n",
       "  Decimal('-50.000000'),\n",
       "  Decimal('0.014834'),\n",
       "  Decimal('0.030000')),\n",
       " (11,\n",
       "  'BATUSDT',\n",
       "  datetime.datetime(2020, 12, 3, 0, 0),\n",
       "  Decimal('-50.000000'),\n",
       "  Decimal('-50.000000'),\n",
       "  Decimal('0.014834'),\n",
       "  Decimal('0.030000')),\n",
       " (12,\n",
       "  'BATUSDT',\n",
       "  datetime.datetime(2020, 12, 3, 1, 0),\n",
       "  Decimal('-50.000000'),\n",
       "  Decimal('-50.000000'),\n",
       "  Decimal('0.014834'),\n",
       "  Decimal('0.030000')),\n",
       " (13,\n",
       "  'BATUSDT',\n",
       "  datetime.datetime(2020, 12, 3, 2, 0),\n",
       "  Decimal('-50.000000'),\n",
       "  Decimal('-50.000000'),\n",
       "  Decimal('0.014834'),\n",
       "  Decimal('0.030000')),\n",
       " (14,\n",
       "  'BATUSDT',\n",
       "  datetime.datetime(2020, 12, 3, 3, 0),\n",
       "  Decimal('-50.000000'),\n",
       "  Decimal('-50.000000'),\n",
       "  Decimal('0.014834'),\n",
       "  Decimal('0.030000')),\n",
       " (15,\n",
       "  'BATUSDT',\n",
       "  datetime.datetime(2020, 12, 3, 4, 0),\n",
       "  Decimal('-50.000000'),\n",
       "  Decimal('-50.000000'),\n",
       "  Decimal('0.014834'),\n",
       "  Decimal('0.030000')),\n",
       " (16,\n",
       "  'BATUSDT',\n",
       "  datetime.datetime(2020, 12, 3, 5, 0),\n",
       "  Decimal('-50.000000'),\n",
       "  Decimal('-50.000000'),\n",
       "  Decimal('0.014834'),\n",
       "  Decimal('0.030000')),\n",
       " (17,\n",
       "  'BATUSDT',\n",
       "  datetime.datetime(2020, 12, 3, 6, 0),\n",
       "  Decimal('-50.000000'),\n",
       "  Decimal('-50.000000'),\n",
       "  Decimal('0.014834'),\n",
       "  Decimal('0.030000')),\n",
       " (18,\n",
       "  'BATUSDT',\n",
       "  datetime.datetime(2020, 12, 3, 7, 0),\n",
       "  Decimal('-50.000000'),\n",
       "  Decimal('-50.000000'),\n",
       "  Decimal('0.014834'),\n",
       "  Decimal('0.030000')),\n",
       " (19,\n",
       "  'BATUSDT',\n",
       "  datetime.datetime(2020, 12, 3, 8, 0),\n",
       "  Decimal('-50.000000'),\n",
       "  Decimal('-50.000000'),\n",
       "  Decimal('0.014834'),\n",
       "  Decimal('0.030000')),\n",
       " (20,\n",
       "  'BATUSDT',\n",
       "  datetime.datetime(2020, 12, 3, 9, 0),\n",
       "  Decimal('-50.000000'),\n",
       "  Decimal('-50.000000'),\n",
       "  Decimal('0.014834'),\n",
       "  Decimal('0.030000')),\n",
       " (21,\n",
       "  'BATUSDT',\n",
       "  datetime.datetime(2020, 12, 3, 10, 0),\n",
       "  Decimal('-50.000000'),\n",
       "  Decimal('-50.000000'),\n",
       "  Decimal('0.014834'),\n",
       "  Decimal('0.030000')),\n",
       " (22,\n",
       "  'BATUSDT',\n",
       "  datetime.datetime(2020, 12, 3, 11, 0),\n",
       "  Decimal('0.000344'),\n",
       "  Decimal('0.029157'),\n",
       "  Decimal('0.012362'),\n",
       "  Decimal('0.031099')),\n",
       " (23,\n",
       "  'BATUSDT',\n",
       "  datetime.datetime(2020, 12, 3, 12, 0),\n",
       "  Decimal('0.000179'),\n",
       "  Decimal('0.015617'),\n",
       "  Decimal('0.007912'),\n",
       "  Decimal('0.032033')),\n",
       " (24,\n",
       "  'BATUSDT',\n",
       "  datetime.datetime(2020, 12, 3, 13, 0),\n",
       "  Decimal('0.000008'),\n",
       "  Decimal('0.001246'),\n",
       "  Decimal('0.008011'),\n",
       "  Decimal('0.031780')),\n",
       " (25,\n",
       "  'BATUSDT',\n",
       "  datetime.datetime(2020, 12, 3, 14, 0),\n",
       "  Decimal('0.000008'),\n",
       "  Decimal('0.001246'),\n",
       "  Decimal('0.008011'),\n",
       "  Decimal('0.031780')),\n",
       " (26,\n",
       "  'BATUSDT',\n",
       "  datetime.datetime(2020, 12, 3, 15, 0),\n",
       "  Decimal('0.000008'),\n",
       "  Decimal('0.001246'),\n",
       "  Decimal('0.008011'),\n",
       "  Decimal('0.031780')),\n",
       " (27,\n",
       "  'BATUSDT',\n",
       "  datetime.datetime(2020, 12, 3, 16, 0),\n",
       "  Decimal('0.000001'),\n",
       "  Decimal('0.000212'),\n",
       "  Decimal('0.001363'),\n",
       "  Decimal('0.030303')),\n",
       " (28,\n",
       "  'BATUSDT',\n",
       "  datetime.datetime(2020, 12, 3, 17, 0),\n",
       "  Decimal('0.000000'),\n",
       "  Decimal('0.000005'),\n",
       "  Decimal('0.000033'),\n",
       "  Decimal('0.030007')),\n",
       " (29,\n",
       "  'BATUSDT',\n",
       "  datetime.datetime(2020, 12, 3, 18, 0),\n",
       "  Decimal('0.000000'),\n",
       "  Decimal('0.000005'),\n",
       "  Decimal('0.000033'),\n",
       "  Decimal('0.030007')),\n",
       " (30,\n",
       "  'BATUSDT',\n",
       "  datetime.datetime(2020, 12, 3, 19, 0),\n",
       "  Decimal('0.000000'),\n",
       "  Decimal('0.000005'),\n",
       "  Decimal('0.000033'),\n",
       "  Decimal('0.030007'))]"
      ]
     },
     "execution_count": 40,
     "metadata": {},
     "output_type": "execute_result"
    }
   ],
   "source": [
    "connection = connect_to_database()\n",
    "# Function to view data from a specific table\n",
    "def view_table_data(connection, table_name, limit=300):\n",
    "    cursor = connection.cursor()\n",
    "    query = f\"SELECT * FROM {table_name} LIMIT %s;\"\n",
    "    cursor.execute(query, (limit,))\n",
    "    data = cursor.fetchall()\n",
    "    return data\n",
    "\n",
    "view_table_data(connection,'crypto_lending_borrowing', limit=30)"
   ]
  },
  {
   "cell_type": "code",
   "execution_count": null,
   "metadata": {},
   "outputs": [],
   "source": []
  }
 ],
 "metadata": {
  "kernelspec": {
   "display_name": "base",
   "language": "python",
   "name": "python3"
  },
  "language_info": {
   "codemirror_mode": {
    "name": "ipython",
    "version": 3
   },
   "file_extension": ".py",
   "mimetype": "text/x-python",
   "name": "python",
   "nbconvert_exporter": "python",
   "pygments_lexer": "ipython3",
   "version": "3.11.5"
  }
 },
 "nbformat": 4,
 "nbformat_minor": 2
}
