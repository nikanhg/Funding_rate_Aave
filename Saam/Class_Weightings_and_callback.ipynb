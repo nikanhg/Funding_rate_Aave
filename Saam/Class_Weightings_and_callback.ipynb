{
 "cells": [
  {
   "cell_type": "code",
   "execution_count": null,
   "metadata": {},
   "outputs": [
    {
     "name": "stdout",
     "output_type": "stream",
     "text": [
      "The autoreload extension is already loaded. To reload it, use:\n",
      "  %reload_ext autoreload\n"
     ]
    }
   ],
   "source": [
    "%load_ext autoreload\n",
    "%autoreload 2\n",
    "import sys\n",
    "import numpy as np\n",
    "import pandas as pd\n",
    "from sklearn.preprocessing import MinMaxScaler\n",
    "from sklearn.decomposition import PCA\n",
    "from sentence_transformers import SentenceTransformer\n",
    "import mysql.connector\n",
    "from mysql.connector import Error\n",
    "import pandas as pd\n",
    "from mysql.connector import Error\n",
    "from sklearn.metrics import confusion_matrix, accuracy_score, precision_score, recall_score, f1_score, classification_report\n",
    "import seaborn as sns\n",
    "from tensorflow.keras.layers import Input, LSTM, Dense, Dropout, Masking, Reshape, Layer, Lambda, Concatenate, LayerNormalization, MultiHeadAttention\n",
    "from tensorflow.keras.models import Model\n",
    "from tensorflow.keras import backend as be\n",
    "import tensorflow as tf\n",
    "from tensorflow.keras.callbacks import ModelCheckpoint\n",
    "from tensorflow.keras.optimizers import Adadelta\n",
    "from keras.layers import BatchNormalization\n",
    "from keras.regularizers import l2\n",
    "import matplotlib.pyplot as plt\n",
    "import LSTM_preprocessing as pre\n",
    "import warnings\n",
    "warnings.filterwarnings('ignore')"
   ]
  },
  {
   "cell_type": "code",
   "execution_count": 20,
   "metadata": {},
   "outputs": [
    {
     "name": "stdout",
     "output_type": "stream",
     "text": [
      "Connected to MySQL database, MySQL Server version:  8.0.39\n",
      "MySQL connection is closed\n"
     ]
    },
    {
     "data": {
      "text/html": [
       "<div>\n",
       "<style scoped>\n",
       "    .dataframe tbody tr th:only-of-type {\n",
       "        vertical-align: middle;\n",
       "    }\n",
       "\n",
       "    .dataframe tbody tr th {\n",
       "        vertical-align: top;\n",
       "    }\n",
       "\n",
       "    .dataframe thead th {\n",
       "        text-align: right;\n",
       "    }\n",
       "</style>\n",
       "<table border=\"1\" class=\"dataframe\">\n",
       "  <thead>\n",
       "    <tr style=\"text-align: right;\">\n",
       "      <th></th>\n",
       "      <th>lending_rate</th>\n",
       "      <th>borrowing_rate</th>\n",
       "      <th>utilization_rate</th>\n",
       "      <th>stable_borrow_rate</th>\n",
       "      <th>crypto_symbol</th>\n",
       "      <th>date</th>\n",
       "      <th>high</th>\n",
       "      <th>low</th>\n",
       "      <th>close</th>\n",
       "      <th>adj_close</th>\n",
       "      <th>volume</th>\n",
       "      <th>market_cap</th>\n",
       "      <th>coin_supply</th>\n",
       "      <th>yield</th>\n",
       "    </tr>\n",
       "  </thead>\n",
       "  <tbody>\n",
       "    <tr>\n",
       "      <th>0</th>\n",
       "      <td>-50.000000</td>\n",
       "      <td>-50.000000</td>\n",
       "      <td>-50.000000</td>\n",
       "      <td>0.030000</td>\n",
       "      <td>BATUSDT</td>\n",
       "      <td>2020-12-02 14:00:00</td>\n",
       "      <td>0.24</td>\n",
       "      <td>0.24</td>\n",
       "      <td>0.24</td>\n",
       "      <td>0.24</td>\n",
       "      <td>1294545</td>\n",
       "      <td>None</td>\n",
       "      <td>None</td>\n",
       "      <td>0.008552840317602313182744400</td>\n",
       "    </tr>\n",
       "    <tr>\n",
       "      <th>1</th>\n",
       "      <td>-50.000000</td>\n",
       "      <td>-50.000000</td>\n",
       "      <td>-50.000000</td>\n",
       "      <td>0.030000</td>\n",
       "      <td>BATUSDT</td>\n",
       "      <td>2020-12-02 15:00:00</td>\n",
       "      <td>0.24</td>\n",
       "      <td>0.24</td>\n",
       "      <td>0.24</td>\n",
       "      <td>0.24</td>\n",
       "      <td>936344</td>\n",
       "      <td>None</td>\n",
       "      <td>None</td>\n",
       "      <td>0.008552840317602313182744400</td>\n",
       "    </tr>\n",
       "    <tr>\n",
       "      <th>2</th>\n",
       "      <td>-50.000000</td>\n",
       "      <td>-50.000000</td>\n",
       "      <td>0.013598</td>\n",
       "      <td>0.030000</td>\n",
       "      <td>BATUSDT</td>\n",
       "      <td>2020-12-02 16:00:00</td>\n",
       "      <td>0.24</td>\n",
       "      <td>0.24</td>\n",
       "      <td>0.24</td>\n",
       "      <td>0.24</td>\n",
       "      <td>724626</td>\n",
       "      <td>None</td>\n",
       "      <td>None</td>\n",
       "      <td>0.008552840317602313182744400</td>\n",
       "    </tr>\n",
       "  </tbody>\n",
       "</table>\n",
       "</div>"
      ],
      "text/plain": [
       "  lending_rate borrowing_rate utilization_rate stable_borrow_rate  \\\n",
       "0   -50.000000     -50.000000       -50.000000           0.030000   \n",
       "1   -50.000000     -50.000000       -50.000000           0.030000   \n",
       "2   -50.000000     -50.000000         0.013598           0.030000   \n",
       "\n",
       "  crypto_symbol                date  high   low close adj_close   volume  \\\n",
       "0       BATUSDT 2020-12-02 14:00:00  0.24  0.24  0.24      0.24  1294545   \n",
       "1       BATUSDT 2020-12-02 15:00:00  0.24  0.24  0.24      0.24   936344   \n",
       "2       BATUSDT 2020-12-02 16:00:00  0.24  0.24  0.24      0.24   724626   \n",
       "\n",
       "  market_cap coin_supply                          yield  \n",
       "0       None        None  0.008552840317602313182744400  \n",
       "1       None        None  0.008552840317602313182744400  \n",
       "2       None        None  0.008552840317602313182744400  "
      ]
     },
     "execution_count": 20,
     "metadata": {},
     "output_type": "execute_result"
    }
   ],
   "source": [
    "connection = pre.connect_to_database()\n",
    "if connection:\n",
    "    # Query merged data\n",
    "    merged_df = pre.query_merged_crypto_data(connection)\n",
    "    # converting US bond yield from hourly to yearly under continous compounding assumptions\n",
    "    merged_df['yield'] = np.exp(merged_df['yield']*365*24)-1\n",
    "\n",
    "    # Close the connection\n",
    "    pre.query_quit(connection)\n",
    "\n",
    "merged_df.head(3)"
   ]
  },
  {
   "cell_type": "markdown",
   "metadata": {},
   "source": [
    "### merging with market cap"
   ]
  },
  {
   "cell_type": "code",
   "execution_count": null,
   "metadata": {},
   "outputs": [
    {
     "data": {
      "text/html": [
       "<div>\n",
       "<style scoped>\n",
       "    .dataframe tbody tr th:only-of-type {\n",
       "        vertical-align: middle;\n",
       "    }\n",
       "\n",
       "    .dataframe tbody tr th {\n",
       "        vertical-align: top;\n",
       "    }\n",
       "\n",
       "    .dataframe thead th {\n",
       "        text-align: right;\n",
       "    }\n",
       "</style>\n",
       "<table border=\"1\" class=\"dataframe\">\n",
       "  <thead>\n",
       "    <tr style=\"text-align: right;\">\n",
       "      <th></th>\n",
       "      <th>Unnamed: 0</th>\n",
       "      <th>date</th>\n",
       "      <th>market_cap</th>\n",
       "      <th>crypto_symbol</th>\n",
       "    </tr>\n",
       "  </thead>\n",
       "  <tbody>\n",
       "    <tr>\n",
       "      <th>0</th>\n",
       "      <td>0</td>\n",
       "      <td>2020-12-21 00:00:00</td>\n",
       "      <td>87121414</td>\n",
       "      <td>1INCHUSDT</td>\n",
       "    </tr>\n",
       "    <tr>\n",
       "      <th>1</th>\n",
       "      <td>1</td>\n",
       "      <td>2020-12-21 01:00:00</td>\n",
       "      <td>87121414</td>\n",
       "      <td>1INCHUSDT</td>\n",
       "    </tr>\n",
       "    <tr>\n",
       "      <th>2</th>\n",
       "      <td>2</td>\n",
       "      <td>2020-12-21 02:00:00</td>\n",
       "      <td>87121414</td>\n",
       "      <td>1INCHUSDT</td>\n",
       "    </tr>\n",
       "  </tbody>\n",
       "</table>\n",
       "</div>"
      ],
      "text/plain": [
       "   Unnamed: 0                 date  market_cap crypto_symbol\n",
       "0           0  2020-12-21 00:00:00    87121414     1INCHUSDT\n",
       "1           1  2020-12-21 01:00:00    87121414     1INCHUSDT\n",
       "2           2  2020-12-21 02:00:00    87121414     1INCHUSDT"
      ]
     },
     "execution_count": 23,
     "metadata": {},
     "output_type": "execute_result"
    }
   ],
   "source": [
    "market_caps = pd.read_csv('market_cap_data.csv')\n",
    "market_caps = market_caps.rename(columns={\n",
    "    'timestamp': 'date',\n",
    "    'token': 'crypto_symbol',\n",
    "})\n",
    "market_caps.head(3)"
   ]
  },
  {
   "cell_type": "code",
   "execution_count": 24,
   "metadata": {},
   "outputs": [
    {
     "data": {
      "text/html": [
       "<div>\n",
       "<style scoped>\n",
       "    .dataframe tbody tr th:only-of-type {\n",
       "        vertical-align: middle;\n",
       "    }\n",
       "\n",
       "    .dataframe tbody tr th {\n",
       "        vertical-align: top;\n",
       "    }\n",
       "\n",
       "    .dataframe thead th {\n",
       "        text-align: right;\n",
       "    }\n",
       "</style>\n",
       "<table border=\"1\" class=\"dataframe\">\n",
       "  <thead>\n",
       "    <tr style=\"text-align: right;\">\n",
       "      <th></th>\n",
       "      <th>lending_rate</th>\n",
       "      <th>borrowing_rate</th>\n",
       "      <th>utilization_rate</th>\n",
       "      <th>stable_borrow_rate</th>\n",
       "      <th>crypto_symbol</th>\n",
       "      <th>date</th>\n",
       "      <th>high</th>\n",
       "      <th>low</th>\n",
       "      <th>close</th>\n",
       "      <th>adj_close</th>\n",
       "      <th>volume</th>\n",
       "      <th>coin_supply</th>\n",
       "      <th>yield</th>\n",
       "      <th>market_cap</th>\n",
       "    </tr>\n",
       "  </thead>\n",
       "  <tbody>\n",
       "    <tr>\n",
       "      <th>0</th>\n",
       "      <td>-50.000000</td>\n",
       "      <td>-50.000000</td>\n",
       "      <td>-50.000000</td>\n",
       "      <td>0.030000</td>\n",
       "      <td>BATUSDT</td>\n",
       "      <td>2020-12-02 14:00:00</td>\n",
       "      <td>0.24</td>\n",
       "      <td>0.24</td>\n",
       "      <td>0.24</td>\n",
       "      <td>0.24</td>\n",
       "      <td>1294545</td>\n",
       "      <td>None</td>\n",
       "      <td>0.008552840317602313182744400</td>\n",
       "      <td>317700843.0</td>\n",
       "    </tr>\n",
       "    <tr>\n",
       "      <th>1</th>\n",
       "      <td>-50.000000</td>\n",
       "      <td>-50.000000</td>\n",
       "      <td>-50.000000</td>\n",
       "      <td>0.030000</td>\n",
       "      <td>BATUSDT</td>\n",
       "      <td>2020-12-02 15:00:00</td>\n",
       "      <td>0.24</td>\n",
       "      <td>0.24</td>\n",
       "      <td>0.24</td>\n",
       "      <td>0.24</td>\n",
       "      <td>936344</td>\n",
       "      <td>None</td>\n",
       "      <td>0.008552840317602313182744400</td>\n",
       "      <td>317700843.0</td>\n",
       "    </tr>\n",
       "    <tr>\n",
       "      <th>2</th>\n",
       "      <td>-50.000000</td>\n",
       "      <td>-50.000000</td>\n",
       "      <td>0.013598</td>\n",
       "      <td>0.030000</td>\n",
       "      <td>BATUSDT</td>\n",
       "      <td>2020-12-02 16:00:00</td>\n",
       "      <td>0.24</td>\n",
       "      <td>0.24</td>\n",
       "      <td>0.24</td>\n",
       "      <td>0.24</td>\n",
       "      <td>724626</td>\n",
       "      <td>None</td>\n",
       "      <td>0.008552840317602313182744400</td>\n",
       "      <td>317700843.0</td>\n",
       "    </tr>\n",
       "  </tbody>\n",
       "</table>\n",
       "</div>"
      ],
      "text/plain": [
       "  lending_rate borrowing_rate utilization_rate stable_borrow_rate  \\\n",
       "0   -50.000000     -50.000000       -50.000000           0.030000   \n",
       "1   -50.000000     -50.000000       -50.000000           0.030000   \n",
       "2   -50.000000     -50.000000         0.013598           0.030000   \n",
       "\n",
       "  crypto_symbol                date  high   low close adj_close   volume  \\\n",
       "0       BATUSDT 2020-12-02 14:00:00  0.24  0.24  0.24      0.24  1294545   \n",
       "1       BATUSDT 2020-12-02 15:00:00  0.24  0.24  0.24      0.24   936344   \n",
       "2       BATUSDT 2020-12-02 16:00:00  0.24  0.24  0.24      0.24   724626   \n",
       "\n",
       "  coin_supply                          yield   market_cap  \n",
       "0        None  0.008552840317602313182744400  317700843.0  \n",
       "1        None  0.008552840317602313182744400  317700843.0  \n",
       "2        None  0.008552840317602313182744400  317700843.0  "
      ]
     },
     "execution_count": 24,
     "metadata": {},
     "output_type": "execute_result"
    }
   ],
   "source": [
    "# Convert 'date' columns to pandas datetime format\n",
    "merged_df['date'] = pd.to_datetime(merged_df['date'])\n",
    "market_caps['date'] = pd.to_datetime(market_caps['date'])\n",
    "\n",
    "# Perform the merge based on 'crypto_symbol' and 'date', keeping only rows in merged_df\n",
    "merged_df.drop('market_cap', axis = 1, inplace=True)\n",
    "merged_df = pd.merge(\n",
    "    merged_df,\n",
    "    market_caps[['date', 'market_cap', 'crypto_symbol']],\n",
    "    on=['date', 'crypto_symbol'],\n",
    "    how='left'\n",
    ")\n",
    "\n",
    "merged_df.head(3)"
   ]
  },
  {
   "cell_type": "code",
   "execution_count": 25,
   "metadata": {},
   "outputs": [],
   "source": [
    "# KNC has wrong data before 2021\n",
    "merged_df = merged_df[merged_df['market_cap'].notna()]\n",
    "merged_df.reset_index(inplace = True, drop=True)"
   ]
  },
  {
   "cell_type": "code",
   "execution_count": 26,
   "metadata": {},
   "outputs": [],
   "source": [
    "merged_df_emb = pre.create_llm_embeddings(merged_df, \"crypto_symbol\", n_components=15)\n",
    "merged_df_emb = pre.create_cyclical_encodings(merged_df_emb, \"date\")"
   ]
  },
  {
   "cell_type": "code",
   "execution_count": 27,
   "metadata": {},
   "outputs": [],
   "source": [
    "# data without NA rows if we needed \n",
    "filtered_df = merged_df_emb[(merged_df['borrowing_rate'] != -50)&(merged_df['lending_rate'] != -50)&(merged_df['utilization_rate'] != -50)]\n",
    "filtered_df['attention'] = filtered_df['volume'] * filtered_df['close']\n",
    "filtered_df.drop(columns=['stable_borrow_rate','adj_close','coin_supply'], inplace=True)\n",
    "filtered_df[['lending_rate','borrowing_rate','utilization_rate','close', 'volume']] = filtered_df[['lending_rate','borrowing_rate','utilization_rate','close', 'volume']].astype(float)\n",
    "filtered_df.reset_index(inplace=True, drop=True)"
   ]
  },
  {
   "cell_type": "code",
   "execution_count": 28,
   "metadata": {},
   "outputs": [],
   "source": [
    "# We scale  market cap, attention, yield together as they are comparable\n",
    "scaler = MinMaxScaler(feature_range=(0, 1))  # Default range is (0, 1)\n",
    "filtered_df['yield'] = scaler.fit_transform(filtered_df[['yield']])\n",
    "filtered_df['market_cap'] = scaler.fit_transform(filtered_df[['market_cap']])\n",
    "filtered_df['attention'] = scaler.fit_transform(filtered_df[['attention']])"
   ]
  },
  {
   "cell_type": "code",
   "execution_count": 29,
   "metadata": {},
   "outputs": [],
   "source": [
    "outlier_threshold = \"remove\"\n",
    "input_window = 48\n",
    "output_window = 48\n",
    "input_columns = ['lending_rate', 'borrowing_rate', 'utilization_rate',\n",
    "                 'close', 'volume', 'yield', 'market_cap',\n",
    "       'crypto_symbol_embedding_1', 'crypto_symbol_embedding_2',\n",
    "       'crypto_symbol_embedding_3', 'crypto_symbol_embedding_4',\n",
    "       'crypto_symbol_embedding_5', 'crypto_symbol_embedding_6',\n",
    "       'crypto_symbol_embedding_7', 'crypto_symbol_embedding_8',\n",
    "       'crypto_symbol_embedding_9', 'crypto_symbol_embedding_10',\n",
    "       'crypto_symbol_embedding_11', 'crypto_symbol_embedding_12',\n",
    "       'crypto_symbol_embedding_13', 'crypto_symbol_embedding_14',\n",
    "       'crypto_symbol_embedding_15', 'Month_Sine', 'Month_Cosine', 'Day_Sine',\n",
    "       'Day_Cosine', 'Hour_Sine', 'Hour_Cosine', 'DayofWeek_Sine',\n",
    "       'DayofWeek_Cosine']"
   ]
  },
  {
   "cell_type": "code",
   "execution_count": 30,
   "metadata": {},
   "outputs": [
    {
     "name": "stdout",
     "output_type": "stream",
     "text": [
      "BATUSDT\n",
      "LINKUSDT\n",
      "KNCUSDT\n",
      "MKRUSDT\n",
      "MANAUSDT\n",
      "ZRXUSDT\n",
      "SNXUSDT\n",
      "WBTCUSDT\n",
      "ENJUSDT\n",
      "RENUSDT\n",
      "YFIUSDT\n",
      "UNIUSDT\n",
      "CRVUSDT\n",
      "BALUSDT\n",
      "ENSUSDT\n",
      "1INCHUSDT\n"
     ]
    }
   ],
   "source": [
    "# Initialize empty lists to store aggregated inputs and targets\n",
    "X_train,X_valid,X_test = [], [], []\n",
    "Y_train,Y_valid,Y_test = [], [], []\n",
    "\n",
    "# looping through symbols\n",
    "symbols = filtered_df['crypto_symbol'].unique()\n",
    "for s in symbols:\n",
    "     try:\n",
    "          sim_df = filtered_df[filtered_df['crypto_symbol'] == s]\n",
    "          sim_df.reset_index(inplace=True, drop=True)\n",
    "          print(s)\n",
    "          # First Loop: Calculate intervals for each column without modifying the DataFrame\n",
    "          intervals = {}\n",
    "          for column in ['lending_rate', 'borrowing_rate', 'utilization_rate']:\n",
    "               lower, upper = pre.calculate_iqr_bounds(sim_df[column],outlier_threshold)\n",
    "               intervals[column] = {'lower_bound': lower, 'upper_bound': upper}\n",
    "\n",
    "          # getting the returns\n",
    "          reduced_df = sim_df.copy()\n",
    "          reduced_df['returns'] = pre.calculate_hourly_returns(reduced_df, 'date', 'close')\n",
    "          reduced_df = reduced_df[reduced_df['returns'].notna()]\n",
    "          reduced_df.reset_index(inplace=True, drop=True)\n",
    "\n",
    "          # Second Loop: Filter rows based on the pre-calculated intervals\n",
    "          for column in ['lending_rate', 'borrowing_rate', 'utilization_rate']:\n",
    "               lower_bound = intervals[column]['lower_bound']\n",
    "               upper_bound = intervals[column]['upper_bound']\n",
    "               # Apply filtering based on pre-calculated bounds\n",
    "               reduced_df = reduced_df[(reduced_df[column] > lower_bound) & (reduced_df[column] < upper_bound)]\n",
    "\n",
    "          reduced_df.reset_index(inplace=True, drop=True)\n",
    "\n",
    "          # MinMax scaling\n",
    "          scaler = MinMaxScaler(feature_range=(0, 1))  # Default range is (0, 1)\n",
    "\n",
    "          scaled_df = reduced_df.copy()\n",
    "          scaled_df['lending_rate'] = scaler.fit_transform(reduced_df[['lending_rate']])\n",
    "          scaled_df['borrowing_rate'] = scaler.fit_transform(reduced_df[['borrowing_rate']])\n",
    "          scaled_df['utilization_rate'] = scaler.fit_transform(reduced_df[['utilization_rate']])\n",
    "          scaled_df['close'] = scaler.fit_transform(reduced_df[['close']])\n",
    "          scaled_df['volume'] = scaler.fit_transform(reduced_df[['volume']])\n",
    "          scaled_df['returns'] = scaler.fit_transform(reduced_df[['returns']])\n",
    "\n",
    "          inputs_train, inputs_valid, inputs_test, targets_train, targets_valid, targets_test = pre.extract_valid_windows_v4(\n",
    "               scaled_df,\n",
    "               'date', \n",
    "               input_window, output_window, \n",
    "               input_columns, \n",
    "               ['lending_rate','borrowing_rate']\n",
    "               ,train_end_date=\"2023-09-01 00:00:00\", valid_end_date=\"2024-03-25 00:00:00\")\n",
    "\n",
    "          # Append results from the current DataFrame\n",
    "\n",
    "          X_train.append(inputs_train)\n",
    "          X_valid.append(inputs_valid)\n",
    "          X_test.append(inputs_test)\n",
    "          Y_train.append(targets_train)\n",
    "          Y_valid.append(targets_valid)\n",
    "          Y_test.append(targets_test)\n",
    "\n",
    "\n",
    "     except Exception as e:\n",
    "        # Handle any other exceptions\n",
    "        print(f\"Unexpected error in symbol {s}: {e}\")"
   ]
  },
  {
   "cell_type": "code",
   "execution_count": 31,
   "metadata": {},
   "outputs": [],
   "source": [
    "# Concatenate all inputs and targets into single arrays\n",
    "\n",
    "# Checking for empty blocks of data\n",
    "\n",
    "X_train = [arr for arr in X_train if len(arr) > 0]\n",
    "X_valid = [arr for arr in X_valid if len(arr) > 0]\n",
    "X_test = [arr for arr in X_test if len(arr) > 0]\n",
    "\n",
    "Y_train = [arr for arr in Y_train if len(arr) > 0]\n",
    "Y_valid = [arr for arr in Y_valid if len(arr) > 0]\n",
    "Y_test = [arr for arr in Y_test if len(arr) > 0]\n",
    "\n",
    "X_train  = np.concatenate(X_train, axis=0) if X_train else np.array([])\n",
    "X_valid = np.concatenate(X_valid, axis=0) if X_valid else np.array([])\n",
    "X_test = np.concatenate(X_test, axis=0) if X_test else np.array([])\n",
    "\n",
    "Y_train  = np.concatenate(Y_train, axis=0) if Y_train else np.array([])\n",
    "Y_valid = np.concatenate(Y_valid, axis=0) if Y_valid else np.array([])\n",
    "Y_test  = np.concatenate(Y_test, axis=0) if Y_test else np.array([])"
   ]
  },
  {
   "cell_type": "code",
   "execution_count": 32,
   "metadata": {},
   "outputs": [],
   "source": [
    "# Lending rate\n",
    "lending_rate_Y_train = Y_train[:, 0].reshape(Y_train.shape[0], 1) \n",
    "lending_rate_Y_valid = Y_valid[:, 0].reshape(Y_valid.shape[0], 1) \n",
    "lending_rate_Y_test = Y_test[:, 0].reshape(Y_test.shape[0], 1) \n",
    "# Borrowing rate\n",
    "borrow_rate_Y_train = Y_train[:, 1].reshape(Y_train.shape[0], 1) \n",
    "borrow_rate_Y_valid = Y_valid[:, 1].reshape(Y_valid.shape[0], 1) \n",
    "borrow_rate_Y_test = Y_test[:, 1].reshape(Y_test.shape[0], 1) "
   ]
  },
  {
   "cell_type": "markdown",
   "metadata": {},
   "source": [
    "### Function for getting balanced weights"
   ]
  },
  {
   "cell_type": "code",
   "execution_count": 33,
   "metadata": {},
   "outputs": [
    {
     "name": "stdout",
     "output_type": "stream",
     "text": [
      "{0: 0.9806359546884784, 1: 0.8250481598399391, 2: 1.1943158854715827}\n",
      "{0: 0.42067940451794583, 1: 0.8822890045426557, 2: 1.6970315909393985}\n",
      "{0: 0.45328180414783514, 1: 1.2146149691004369, 2: 1.332103226751728}\n"
     ]
    }
   ],
   "source": [
    "def balanced_weights(array):\n",
    "    unique_classes, counts = np.unique(array, return_counts=True)\n",
    "    row_n = sum(counts)\n",
    "    weights = [(y/row_n) for y in counts]\n",
    "    raw_weights = [1.0 / freq for freq in weights]\n",
    "    normalized_weights = [w / np.mean(raw_weights) for w in raw_weights]\n",
    "    # Convert to dictionary with class indices as keys\n",
    "    weights_dict = {i: weight for i, weight in enumerate(normalized_weights)}\n",
    "    return weights_dict\n",
    "\n",
    "weights = balanced_weights(borrow_rate_Y_train)\n",
    "weights_valid = balanced_weights(borrow_rate_Y_valid)\n",
    "weights_test = balanced_weights(borrow_rate_Y_test)\n",
    "\n",
    "print(weights)\n",
    "print(weights_valid)\n",
    "print(weights_test)"
   ]
  },
  {
   "cell_type": "markdown",
   "metadata": {},
   "source": [
    "### Simulation of Random Guessing based on Training Data Class Distribution\n",
    "\n",
    "- This is done via bootstrapping to get more accurate results (10000 simulations)"
   ]
  },
  {
   "cell_type": "code",
   "execution_count": 34,
   "metadata": {},
   "outputs": [
    {
     "name": "stdout",
     "output_type": "stream",
     "text": [
      "Mean F1 Score (Random Guessing): 0.3236\n",
      "95% Confidence Interval: [0.3236, 0.3237]\n"
     ]
    }
   ],
   "source": [
    "import numpy as np\n",
    "from sklearn.metrics import f1_score\n",
    "\n",
    "# Assume Y_test is your true sequential labels\n",
    "Y_test = borrow_rate_Y_test  # Example sequential data\n",
    "\n",
    "# Number of bootstrap iterations\n",
    "num_simulations = 10000\n",
    "\n",
    "# Get class distribution from Y_test\n",
    "unique, counts = np.unique(Y_test, return_counts=True)\n",
    "class_probs = counts / len(Y_test)\n",
    "\n",
    "# Function to simulate one random guessing sequence\n",
    "def random_guess_sequence(Y_test, class_probs=weights):\n",
    "    if class_probs is None:\n",
    "        # Uniform random guessing\n",
    "        predictions = np.random.choice([0, 1, 2], size=len(Y_test))\n",
    "    else:\n",
    "        # Distribution-based random guessing\n",
    "        predictions = np.random.choice([0, 1, 2], size=len(Y_test), p=class_probs)\n",
    "    return predictions\n",
    "\n",
    "# Simulate random guessing and compute Mean F1 scores\n",
    "f1_scores = []\n",
    "for _ in range(num_simulations):\n",
    "    random_preds = random_guess_sequence(Y_test, class_probs=[0.4146503627901599, 0.32689657830582297, 0.2584530589040172])  # Change `class_probs=None` for uniform\n",
    "    f1 = f1_score(Y_test, random_preds, average='macro')  # Macro F1 for equal weighting across classes\n",
    "    f1_scores.append(f1)\n",
    "\n",
    "# Calculate average and confidence interval of F1 scores\n",
    "mean_f1 = np.mean(f1_scores)\n",
    "std_f1 = np.std(f1_scores)\n",
    "conf_interval = (mean_f1 - 1.96 * std_f1 / np.sqrt(num_simulations),\n",
    "                 mean_f1 + 1.96 * std_f1 / np.sqrt(num_simulations))\n",
    "\n",
    "# Print results\n",
    "print(f\"Mean F1 Score (Random Guessing): {mean_f1:.4f}\")\n",
    "print(f\"95% Confidence Interval: [{conf_interval[0]:.4f}, {conf_interval[1]:.4f}]\")\n"
   ]
  },
  {
   "cell_type": "markdown",
   "metadata": {},
   "source": [
    "This lets us benchmark whether our model are beating EMH assumptions"
   ]
  },
  {
   "cell_type": "markdown",
   "metadata": {},
   "source": [
    "### Testing Callback function for Valdidation F1 Score vs Full Epochs"
   ]
  },
  {
   "cell_type": "code",
   "execution_count": 72,
   "metadata": {},
   "outputs": [],
   "source": [
    "import numpy as np\n",
    "import tensorflow as tf\n",
    "from tensorflow.keras.layers import Input, LSTM, Dense, Dropout, Masking, Reshape, Layer, Lambda, Concatenate, LayerNormalization, MultiHeadAttention, Add, Flatten\n",
    "from tensorflow.keras.models import Model\n",
    "from sklearn.model_selection import train_test_split\n",
    "import matplotlib.pyplot as plt\n",
    "import seaborn as sns\n",
    "from sklearn.metrics import confusion_matrix, accuracy_score, precision_score, recall_score, f1_score, classification_report\n",
    "from tensorflow.keras.optimizers import Adadelta\n",
    "from keras.layers import BatchNormalization\n",
    "from tensorflow.keras.initializers import HeNormal\n",
    "from tensorflow.keras.callbacks import Callback\n",
    "\n",
    "def Attention_model(X_train,X_valid,X_test,Y_train,Y_valid,Y_test,weights, epochs=30,\n",
    "                     batch_size=100, d1=0.1, d2 = 0.05, cell_size = 80, attention_heads=4):\n",
    "\n",
    "    tf.keras.backend.clear_session()\n",
    "    n_classes = 3\n",
    "\n",
    "    cell_size_1 = cell_size\n",
    "    cell_size_2 = cell_size_1//2\n",
    "\n",
    "    inputs = Input(shape=(X_train.shape[1], X_train.shape[2]))\n",
    "    \n",
    "    attention_layer_1 = MultiHeadAttention(\n",
    "    num_heads=attention_heads,\n",
    "    key_dim=cell_size)(\n",
    "    query=inputs,\n",
    "    key=inputs,\n",
    "    value=inputs)\n",
    "    residual_1 = Add()([inputs, attention_layer_1])  # Add residual connection\n",
    "    norm_1 = LayerNormalization()(residual_1)\n",
    "\n",
    "    attention_layer_2 = MultiHeadAttention(\n",
    "    num_heads=attention_heads,\n",
    "    key_dim=cell_size)(\n",
    "    query=norm_1,\n",
    "    key=norm_1,\n",
    "    value=norm_1)\n",
    "    residual_2 = Add()([norm_1, attention_layer_2])\n",
    "    norm_2 = LayerNormalization()(residual_2)\n",
    "    dropout_1 = Dropout(d1)(norm_2)\n",
    "\n",
    "    ffw = Dense(cell_size_2, activation=\"swish\", kernel_initializer=HeNormal())(dropout_1)\n",
    "    dropout_2 = Dropout(d2)(ffw)\n",
    "    flatten_ = Flatten()(dropout_2)\n",
    "    ffw_2 = Dense(cell_size_2,activation=\"swish\", kernel_initializer=HeNormal())(flatten_)\n",
    "\n",
    "    class_predictions = Dense(n_classes, activation='softmax',name=\"class\", kernel_initializer=HeNormal())(ffw_2)\n",
    "    Attention_base = Model(inputs=inputs, outputs=class_predictions)\n",
    "\n",
    "    # we will keep this as a standardized learning rate optimizer across all models\n",
    "    optimizer = Adadelta(\n",
    "    learning_rate=1.0,\n",
    "    rho=0.8,\n",
    "    epsilon=1e-7)      # Default , to prevent division by zero)\n",
    "\n",
    "    Attention_base.compile(\n",
    "        optimizer=optimizer,\n",
    "        loss='sparse_categorical_crossentropy',\n",
    "        metrics=['f1_score'])\n",
    "\n",
    "    Attention_base.summary()\n",
    "\n",
    "    model_checkpoint = ModelCheckpoint(\n",
    "    'best_model.keras',\n",
    "    monitor='val_f1_score',\n",
    "    mode='max',\n",
    "    save_best_only=True,\n",
    "    verbose=1)\n",
    "\n",
    "    history = Attention_base.fit(\n",
    "    x=X_train, y=Y_train,\n",
    "    validation_data=(X_valid, Y_valid),\n",
    "    epochs=epochs,\n",
    "    batch_size=batch_size,\n",
    "    class_weight=weights,\n",
    "    shuffle=False,\n",
    "    callbacks=[model_checkpoint])\n",
    "\n",
    "\n",
    "    fig, ax1 = plt.subplots()\n",
    "\n",
    "    # Plot losses on the primary y-axis\n",
    "    ax1.set_xlabel('Epoch')\n",
    "    ax1.set_ylabel('Loss', color='tab:red')\n",
    "    ax1.plot(history.history['loss'], label='Train Loss', color='red', linestyle='-')\n",
    "    ax1.plot(history.history['val_loss'], label='Validation Loss', color='red', linestyle='--')\n",
    "    ax1.tick_params(axis='y', labelcolor='tab:red')\n",
    "\n",
    "    # Create a second y-axis for accuracy\n",
    "    ax2 = ax1.twinx()\n",
    "    ax2.set_ylabel('F1', color='tab:blue')\n",
    "    ax2.plot(history.history['f1_score'], label='Train F1', color='blue', linestyle='-')\n",
    "    ax2.plot(history.history['val_f1_score'], label='Validation F1', color='blue', linestyle='--')\n",
    "    ax2.tick_params(axis='y', labelcolor='tab:blue')\n",
    "\n",
    "    # Combine legends from both axes\n",
    "    fig.legend(loc='upper center', bbox_to_anchor=(0.5, 1.15), ncol=2)  # Legend outside the plot\n",
    "\n",
    "    plt.title('Model F1 and Loss')\n",
    "    plt.tight_layout()  # Adjust layout to avoid clipping\n",
    "    plt.show()\n",
    "\n",
    "    y_pred = Attention_base.predict(X_test)\n",
    "    y_pred = np.argmax(y_pred, axis=-1)\n",
    "\n",
    "    return Y_test, y_pred"
   ]
  },
  {
   "cell_type": "code",
   "execution_count": 73,
   "metadata": {},
   "outputs": [
    {
     "data": {
      "text/html": [
       "<pre style=\"white-space:pre;overflow-x:auto;line-height:normal;font-family:Menlo,'DejaVu Sans Mono',consolas,'Courier New',monospace\"><span style=\"font-weight: bold\">Model: \"functional\"</span>\n",
       "</pre>\n"
      ],
      "text/plain": [
       "\u001b[1mModel: \"functional\"\u001b[0m\n"
      ]
     },
     "metadata": {},
     "output_type": "display_data"
    },
    {
     "data": {
      "text/html": [
       "<pre style=\"white-space:pre;overflow-x:auto;line-height:normal;font-family:Menlo,'DejaVu Sans Mono',consolas,'Courier New',monospace\">┏━━━━━━━━━━━━━━━━━━━━━┳━━━━━━━━━━━━━━━━━━━┳━━━━━━━━━━━━┳━━━━━━━━━━━━━━━━━━━┓\n",
       "┃<span style=\"font-weight: bold\"> Layer (type)        </span>┃<span style=\"font-weight: bold\"> Output Shape      </span>┃<span style=\"font-weight: bold\">    Param # </span>┃<span style=\"font-weight: bold\"> Connected to      </span>┃\n",
       "┡━━━━━━━━━━━━━━━━━━━━━╇━━━━━━━━━━━━━━━━━━━╇━━━━━━━━━━━━╇━━━━━━━━━━━━━━━━━━━┩\n",
       "│ input_layer         │ (<span style=\"color: #00d7ff; text-decoration-color: #00d7ff\">None</span>, <span style=\"color: #00af00; text-decoration-color: #00af00\">48</span>, <span style=\"color: #00af00; text-decoration-color: #00af00\">30</span>)    │          <span style=\"color: #00af00; text-decoration-color: #00af00\">0</span> │ -                 │\n",
       "│ (<span style=\"color: #0087ff; text-decoration-color: #0087ff\">InputLayer</span>)        │                   │            │                   │\n",
       "├─────────────────────┼───────────────────┼────────────┼───────────────────┤\n",
       "│ multi_head_attenti… │ (<span style=\"color: #00d7ff; text-decoration-color: #00d7ff\">None</span>, <span style=\"color: #00af00; text-decoration-color: #00af00\">48</span>, <span style=\"color: #00af00; text-decoration-color: #00af00\">30</span>)    │     <span style=\"color: #00af00; text-decoration-color: #00af00\">39,390</span> │ input_layer[<span style=\"color: #00af00; text-decoration-color: #00af00\">0</span>][<span style=\"color: #00af00; text-decoration-color: #00af00\">0</span>… │\n",
       "│ (<span style=\"color: #0087ff; text-decoration-color: #0087ff\">MultiHeadAttentio…</span> │                   │            │ input_layer[<span style=\"color: #00af00; text-decoration-color: #00af00\">0</span>][<span style=\"color: #00af00; text-decoration-color: #00af00\">0</span>… │\n",
       "│                     │                   │            │ input_layer[<span style=\"color: #00af00; text-decoration-color: #00af00\">0</span>][<span style=\"color: #00af00; text-decoration-color: #00af00\">0</span>] │\n",
       "├─────────────────────┼───────────────────┼────────────┼───────────────────┤\n",
       "│ add (<span style=\"color: #0087ff; text-decoration-color: #0087ff\">Add</span>)           │ (<span style=\"color: #00d7ff; text-decoration-color: #00d7ff\">None</span>, <span style=\"color: #00af00; text-decoration-color: #00af00\">48</span>, <span style=\"color: #00af00; text-decoration-color: #00af00\">30</span>)    │          <span style=\"color: #00af00; text-decoration-color: #00af00\">0</span> │ input_layer[<span style=\"color: #00af00; text-decoration-color: #00af00\">0</span>][<span style=\"color: #00af00; text-decoration-color: #00af00\">0</span>… │\n",
       "│                     │                   │            │ multi_head_atten… │\n",
       "├─────────────────────┼───────────────────┼────────────┼───────────────────┤\n",
       "│ layer_normalization │ (<span style=\"color: #00d7ff; text-decoration-color: #00d7ff\">None</span>, <span style=\"color: #00af00; text-decoration-color: #00af00\">48</span>, <span style=\"color: #00af00; text-decoration-color: #00af00\">30</span>)    │         <span style=\"color: #00af00; text-decoration-color: #00af00\">60</span> │ add[<span style=\"color: #00af00; text-decoration-color: #00af00\">0</span>][<span style=\"color: #00af00; text-decoration-color: #00af00\">0</span>]         │\n",
       "│ (<span style=\"color: #0087ff; text-decoration-color: #0087ff\">LayerNormalizatio…</span> │                   │            │                   │\n",
       "├─────────────────────┼───────────────────┼────────────┼───────────────────┤\n",
       "│ multi_head_attenti… │ (<span style=\"color: #00d7ff; text-decoration-color: #00d7ff\">None</span>, <span style=\"color: #00af00; text-decoration-color: #00af00\">48</span>, <span style=\"color: #00af00; text-decoration-color: #00af00\">30</span>)    │     <span style=\"color: #00af00; text-decoration-color: #00af00\">39,390</span> │ layer_normalizat… │\n",
       "│ (<span style=\"color: #0087ff; text-decoration-color: #0087ff\">MultiHeadAttentio…</span> │                   │            │ layer_normalizat… │\n",
       "│                     │                   │            │ layer_normalizat… │\n",
       "├─────────────────────┼───────────────────┼────────────┼───────────────────┤\n",
       "│ add_1 (<span style=\"color: #0087ff; text-decoration-color: #0087ff\">Add</span>)         │ (<span style=\"color: #00d7ff; text-decoration-color: #00d7ff\">None</span>, <span style=\"color: #00af00; text-decoration-color: #00af00\">48</span>, <span style=\"color: #00af00; text-decoration-color: #00af00\">30</span>)    │          <span style=\"color: #00af00; text-decoration-color: #00af00\">0</span> │ layer_normalizat… │\n",
       "│                     │                   │            │ multi_head_atten… │\n",
       "├─────────────────────┼───────────────────┼────────────┼───────────────────┤\n",
       "│ layer_normalizatio… │ (<span style=\"color: #00d7ff; text-decoration-color: #00d7ff\">None</span>, <span style=\"color: #00af00; text-decoration-color: #00af00\">48</span>, <span style=\"color: #00af00; text-decoration-color: #00af00\">30</span>)    │         <span style=\"color: #00af00; text-decoration-color: #00af00\">60</span> │ add_1[<span style=\"color: #00af00; text-decoration-color: #00af00\">0</span>][<span style=\"color: #00af00; text-decoration-color: #00af00\">0</span>]       │\n",
       "│ (<span style=\"color: #0087ff; text-decoration-color: #0087ff\">LayerNormalizatio…</span> │                   │            │                   │\n",
       "├─────────────────────┼───────────────────┼────────────┼───────────────────┤\n",
       "│ dropout_2 (<span style=\"color: #0087ff; text-decoration-color: #0087ff\">Dropout</span>) │ (<span style=\"color: #00d7ff; text-decoration-color: #00d7ff\">None</span>, <span style=\"color: #00af00; text-decoration-color: #00af00\">48</span>, <span style=\"color: #00af00; text-decoration-color: #00af00\">30</span>)    │          <span style=\"color: #00af00; text-decoration-color: #00af00\">0</span> │ layer_normalizat… │\n",
       "├─────────────────────┼───────────────────┼────────────┼───────────────────┤\n",
       "│ dense (<span style=\"color: #0087ff; text-decoration-color: #0087ff\">Dense</span>)       │ (<span style=\"color: #00d7ff; text-decoration-color: #00d7ff\">None</span>, <span style=\"color: #00af00; text-decoration-color: #00af00\">48</span>, <span style=\"color: #00af00; text-decoration-color: #00af00\">40</span>)    │      <span style=\"color: #00af00; text-decoration-color: #00af00\">1,240</span> │ dropout_2[<span style=\"color: #00af00; text-decoration-color: #00af00\">0</span>][<span style=\"color: #00af00; text-decoration-color: #00af00\">0</span>]   │\n",
       "├─────────────────────┼───────────────────┼────────────┼───────────────────┤\n",
       "│ dropout_3 (<span style=\"color: #0087ff; text-decoration-color: #0087ff\">Dropout</span>) │ (<span style=\"color: #00d7ff; text-decoration-color: #00d7ff\">None</span>, <span style=\"color: #00af00; text-decoration-color: #00af00\">48</span>, <span style=\"color: #00af00; text-decoration-color: #00af00\">40</span>)    │          <span style=\"color: #00af00; text-decoration-color: #00af00\">0</span> │ dense[<span style=\"color: #00af00; text-decoration-color: #00af00\">0</span>][<span style=\"color: #00af00; text-decoration-color: #00af00\">0</span>]       │\n",
       "├─────────────────────┼───────────────────┼────────────┼───────────────────┤\n",
       "│ flatten (<span style=\"color: #0087ff; text-decoration-color: #0087ff\">Flatten</span>)   │ (<span style=\"color: #00d7ff; text-decoration-color: #00d7ff\">None</span>, <span style=\"color: #00af00; text-decoration-color: #00af00\">1920</span>)      │          <span style=\"color: #00af00; text-decoration-color: #00af00\">0</span> │ dropout_3[<span style=\"color: #00af00; text-decoration-color: #00af00\">0</span>][<span style=\"color: #00af00; text-decoration-color: #00af00\">0</span>]   │\n",
       "├─────────────────────┼───────────────────┼────────────┼───────────────────┤\n",
       "│ dense_1 (<span style=\"color: #0087ff; text-decoration-color: #0087ff\">Dense</span>)     │ (<span style=\"color: #00d7ff; text-decoration-color: #00d7ff\">None</span>, <span style=\"color: #00af00; text-decoration-color: #00af00\">40</span>)        │     <span style=\"color: #00af00; text-decoration-color: #00af00\">76,840</span> │ flatten[<span style=\"color: #00af00; text-decoration-color: #00af00\">0</span>][<span style=\"color: #00af00; text-decoration-color: #00af00\">0</span>]     │\n",
       "├─────────────────────┼───────────────────┼────────────┼───────────────────┤\n",
       "│ class (<span style=\"color: #0087ff; text-decoration-color: #0087ff\">Dense</span>)       │ (<span style=\"color: #00d7ff; text-decoration-color: #00d7ff\">None</span>, <span style=\"color: #00af00; text-decoration-color: #00af00\">3</span>)         │        <span style=\"color: #00af00; text-decoration-color: #00af00\">123</span> │ dense_1[<span style=\"color: #00af00; text-decoration-color: #00af00\">0</span>][<span style=\"color: #00af00; text-decoration-color: #00af00\">0</span>]     │\n",
       "└─────────────────────┴───────────────────┴────────────┴───────────────────┘\n",
       "</pre>\n"
      ],
      "text/plain": [
       "┏━━━━━━━━━━━━━━━━━━━━━┳━━━━━━━━━━━━━━━━━━━┳━━━━━━━━━━━━┳━━━━━━━━━━━━━━━━━━━┓\n",
       "┃\u001b[1m \u001b[0m\u001b[1mLayer (type)       \u001b[0m\u001b[1m \u001b[0m┃\u001b[1m \u001b[0m\u001b[1mOutput Shape     \u001b[0m\u001b[1m \u001b[0m┃\u001b[1m \u001b[0m\u001b[1m   Param #\u001b[0m\u001b[1m \u001b[0m┃\u001b[1m \u001b[0m\u001b[1mConnected to     \u001b[0m\u001b[1m \u001b[0m┃\n",
       "┡━━━━━━━━━━━━━━━━━━━━━╇━━━━━━━━━━━━━━━━━━━╇━━━━━━━━━━━━╇━━━━━━━━━━━━━━━━━━━┩\n",
       "│ input_layer         │ (\u001b[38;5;45mNone\u001b[0m, \u001b[38;5;34m48\u001b[0m, \u001b[38;5;34m30\u001b[0m)    │          \u001b[38;5;34m0\u001b[0m │ -                 │\n",
       "│ (\u001b[38;5;33mInputLayer\u001b[0m)        │                   │            │                   │\n",
       "├─────────────────────┼───────────────────┼────────────┼───────────────────┤\n",
       "│ multi_head_attenti… │ (\u001b[38;5;45mNone\u001b[0m, \u001b[38;5;34m48\u001b[0m, \u001b[38;5;34m30\u001b[0m)    │     \u001b[38;5;34m39,390\u001b[0m │ input_layer[\u001b[38;5;34m0\u001b[0m][\u001b[38;5;34m0\u001b[0m… │\n",
       "│ (\u001b[38;5;33mMultiHeadAttentio…\u001b[0m │                   │            │ input_layer[\u001b[38;5;34m0\u001b[0m][\u001b[38;5;34m0\u001b[0m… │\n",
       "│                     │                   │            │ input_layer[\u001b[38;5;34m0\u001b[0m][\u001b[38;5;34m0\u001b[0m] │\n",
       "├─────────────────────┼───────────────────┼────────────┼───────────────────┤\n",
       "│ add (\u001b[38;5;33mAdd\u001b[0m)           │ (\u001b[38;5;45mNone\u001b[0m, \u001b[38;5;34m48\u001b[0m, \u001b[38;5;34m30\u001b[0m)    │          \u001b[38;5;34m0\u001b[0m │ input_layer[\u001b[38;5;34m0\u001b[0m][\u001b[38;5;34m0\u001b[0m… │\n",
       "│                     │                   │            │ multi_head_atten… │\n",
       "├─────────────────────┼───────────────────┼────────────┼───────────────────┤\n",
       "│ layer_normalization │ (\u001b[38;5;45mNone\u001b[0m, \u001b[38;5;34m48\u001b[0m, \u001b[38;5;34m30\u001b[0m)    │         \u001b[38;5;34m60\u001b[0m │ add[\u001b[38;5;34m0\u001b[0m][\u001b[38;5;34m0\u001b[0m]         │\n",
       "│ (\u001b[38;5;33mLayerNormalizatio…\u001b[0m │                   │            │                   │\n",
       "├─────────────────────┼───────────────────┼────────────┼───────────────────┤\n",
       "│ multi_head_attenti… │ (\u001b[38;5;45mNone\u001b[0m, \u001b[38;5;34m48\u001b[0m, \u001b[38;5;34m30\u001b[0m)    │     \u001b[38;5;34m39,390\u001b[0m │ layer_normalizat… │\n",
       "│ (\u001b[38;5;33mMultiHeadAttentio…\u001b[0m │                   │            │ layer_normalizat… │\n",
       "│                     │                   │            │ layer_normalizat… │\n",
       "├─────────────────────┼───────────────────┼────────────┼───────────────────┤\n",
       "│ add_1 (\u001b[38;5;33mAdd\u001b[0m)         │ (\u001b[38;5;45mNone\u001b[0m, \u001b[38;5;34m48\u001b[0m, \u001b[38;5;34m30\u001b[0m)    │          \u001b[38;5;34m0\u001b[0m │ layer_normalizat… │\n",
       "│                     │                   │            │ multi_head_atten… │\n",
       "├─────────────────────┼───────────────────┼────────────┼───────────────────┤\n",
       "│ layer_normalizatio… │ (\u001b[38;5;45mNone\u001b[0m, \u001b[38;5;34m48\u001b[0m, \u001b[38;5;34m30\u001b[0m)    │         \u001b[38;5;34m60\u001b[0m │ add_1[\u001b[38;5;34m0\u001b[0m][\u001b[38;5;34m0\u001b[0m]       │\n",
       "│ (\u001b[38;5;33mLayerNormalizatio…\u001b[0m │                   │            │                   │\n",
       "├─────────────────────┼───────────────────┼────────────┼───────────────────┤\n",
       "│ dropout_2 (\u001b[38;5;33mDropout\u001b[0m) │ (\u001b[38;5;45mNone\u001b[0m, \u001b[38;5;34m48\u001b[0m, \u001b[38;5;34m30\u001b[0m)    │          \u001b[38;5;34m0\u001b[0m │ layer_normalizat… │\n",
       "├─────────────────────┼───────────────────┼────────────┼───────────────────┤\n",
       "│ dense (\u001b[38;5;33mDense\u001b[0m)       │ (\u001b[38;5;45mNone\u001b[0m, \u001b[38;5;34m48\u001b[0m, \u001b[38;5;34m40\u001b[0m)    │      \u001b[38;5;34m1,240\u001b[0m │ dropout_2[\u001b[38;5;34m0\u001b[0m][\u001b[38;5;34m0\u001b[0m]   │\n",
       "├─────────────────────┼───────────────────┼────────────┼───────────────────┤\n",
       "│ dropout_3 (\u001b[38;5;33mDropout\u001b[0m) │ (\u001b[38;5;45mNone\u001b[0m, \u001b[38;5;34m48\u001b[0m, \u001b[38;5;34m40\u001b[0m)    │          \u001b[38;5;34m0\u001b[0m │ dense[\u001b[38;5;34m0\u001b[0m][\u001b[38;5;34m0\u001b[0m]       │\n",
       "├─────────────────────┼───────────────────┼────────────┼───────────────────┤\n",
       "│ flatten (\u001b[38;5;33mFlatten\u001b[0m)   │ (\u001b[38;5;45mNone\u001b[0m, \u001b[38;5;34m1920\u001b[0m)      │          \u001b[38;5;34m0\u001b[0m │ dropout_3[\u001b[38;5;34m0\u001b[0m][\u001b[38;5;34m0\u001b[0m]   │\n",
       "├─────────────────────┼───────────────────┼────────────┼───────────────────┤\n",
       "│ dense_1 (\u001b[38;5;33mDense\u001b[0m)     │ (\u001b[38;5;45mNone\u001b[0m, \u001b[38;5;34m40\u001b[0m)        │     \u001b[38;5;34m76,840\u001b[0m │ flatten[\u001b[38;5;34m0\u001b[0m][\u001b[38;5;34m0\u001b[0m]     │\n",
       "├─────────────────────┼───────────────────┼────────────┼───────────────────┤\n",
       "│ class (\u001b[38;5;33mDense\u001b[0m)       │ (\u001b[38;5;45mNone\u001b[0m, \u001b[38;5;34m3\u001b[0m)         │        \u001b[38;5;34m123\u001b[0m │ dense_1[\u001b[38;5;34m0\u001b[0m][\u001b[38;5;34m0\u001b[0m]     │\n",
       "└─────────────────────┴───────────────────┴────────────┴───────────────────┘\n"
      ]
     },
     "metadata": {},
     "output_type": "display_data"
    },
    {
     "data": {
      "text/html": [
       "<pre style=\"white-space:pre;overflow-x:auto;line-height:normal;font-family:Menlo,'DejaVu Sans Mono',consolas,'Courier New',monospace\"><span style=\"font-weight: bold\"> Total params: </span><span style=\"color: #00af00; text-decoration-color: #00af00\">157,103</span> (613.68 KB)\n",
       "</pre>\n"
      ],
      "text/plain": [
       "\u001b[1m Total params: \u001b[0m\u001b[38;5;34m157,103\u001b[0m (613.68 KB)\n"
      ]
     },
     "metadata": {},
     "output_type": "display_data"
    },
    {
     "data": {
      "text/html": [
       "<pre style=\"white-space:pre;overflow-x:auto;line-height:normal;font-family:Menlo,'DejaVu Sans Mono',consolas,'Courier New',monospace\"><span style=\"font-weight: bold\"> Trainable params: </span><span style=\"color: #00af00; text-decoration-color: #00af00\">157,103</span> (613.68 KB)\n",
       "</pre>\n"
      ],
      "text/plain": [
       "\u001b[1m Trainable params: \u001b[0m\u001b[38;5;34m157,103\u001b[0m (613.68 KB)\n"
      ]
     },
     "metadata": {},
     "output_type": "display_data"
    },
    {
     "data": {
      "text/html": [
       "<pre style=\"white-space:pre;overflow-x:auto;line-height:normal;font-family:Menlo,'DejaVu Sans Mono',consolas,'Courier New',monospace\"><span style=\"font-weight: bold\"> Non-trainable params: </span><span style=\"color: #00af00; text-decoration-color: #00af00\">0</span> (0.00 B)\n",
       "</pre>\n"
      ],
      "text/plain": [
       "\u001b[1m Non-trainable params: \u001b[0m\u001b[38;5;34m0\u001b[0m (0.00 B)\n"
      ]
     },
     "metadata": {},
     "output_type": "display_data"
    },
    {
     "name": "stdout",
     "output_type": "stream",
     "text": [
      "Epoch 1/30\n",
      "\u001b[1m838/838\u001b[0m \u001b[32m━━━━━━━━━━━━━━━━━━━━\u001b[0m\u001b[37m\u001b[0m \u001b[1m95s\u001b[0m 107ms/step - f1_score: 0.4906 - loss: 0.9066 - val_f1_score: 0.2424 - val_loss: 0.9702\n",
      "Epoch 2/30\n",
      "\u001b[1m838/838\u001b[0m \u001b[32m━━━━━━━━━━━━━━━━━━━━\u001b[0m\u001b[37m\u001b[0m \u001b[1m89s\u001b[0m 106ms/step - f1_score: 0.4806 - loss: 0.8494 - val_f1_score: 0.2696 - val_loss: 0.9518\n",
      "Epoch 3/30\n",
      "\u001b[1m838/838\u001b[0m \u001b[32m━━━━━━━━━━━━━━━━━━━━\u001b[0m\u001b[37m\u001b[0m \u001b[1m84s\u001b[0m 101ms/step - f1_score: 0.4731 - loss: 0.8332 - val_f1_score: 0.3075 - val_loss: 0.9281\n",
      "Epoch 4/30\n",
      "\u001b[1m838/838\u001b[0m \u001b[32m━━━━━━━━━━━━━━━━━━━━\u001b[0m\u001b[37m\u001b[0m \u001b[1m88s\u001b[0m 105ms/step - f1_score: 0.4784 - loss: 0.8313 - val_f1_score: 0.3048 - val_loss: 0.9587\n",
      "Epoch 5/30\n",
      "\u001b[1m838/838\u001b[0m \u001b[32m━━━━━━━━━━━━━━━━━━━━\u001b[0m\u001b[37m\u001b[0m \u001b[1m82s\u001b[0m 98ms/step - f1_score: 0.4743 - loss: 0.8188 - val_f1_score: 0.3404 - val_loss: 0.8898\n",
      "Epoch 6/30\n",
      "\u001b[1m838/838\u001b[0m \u001b[32m━━━━━━━━━━━━━━━━━━━━\u001b[0m\u001b[37m\u001b[0m \u001b[1m82s\u001b[0m 97ms/step - f1_score: 0.4794 - loss: 0.8173 - val_f1_score: 0.3084 - val_loss: 0.9140\n",
      "Epoch 7/30\n",
      "\u001b[1m838/838\u001b[0m \u001b[32m━━━━━━━━━━━━━━━━━━━━\u001b[0m\u001b[37m\u001b[0m \u001b[1m86s\u001b[0m 103ms/step - f1_score: 0.4725 - loss: 0.8159 - val_f1_score: 0.3121 - val_loss: 0.9111\n",
      "Epoch 8/30\n",
      "\u001b[1m838/838\u001b[0m \u001b[32m━━━━━━━━━━━━━━━━━━━━\u001b[0m\u001b[37m\u001b[0m \u001b[1m88s\u001b[0m 105ms/step - f1_score: 0.4712 - loss: 0.8185 - val_f1_score: 0.3125 - val_loss: 0.9446\n",
      "Epoch 9/30\n",
      "\u001b[1m838/838\u001b[0m \u001b[32m━━━━━━━━━━━━━━━━━━━━\u001b[0m\u001b[37m\u001b[0m \u001b[1m83s\u001b[0m 99ms/step - f1_score: 0.4712 - loss: 0.8222 - val_f1_score: 0.3245 - val_loss: 0.9427\n",
      "Epoch 10/30\n",
      "\u001b[1m838/838\u001b[0m \u001b[32m━━━━━━━━━━━━━━━━━━━━\u001b[0m\u001b[37m\u001b[0m \u001b[1m83s\u001b[0m 99ms/step - f1_score: 0.4745 - loss: 0.8195 - val_f1_score: 0.3280 - val_loss: 0.9442\n",
      "Epoch 11/30\n",
      "\u001b[1m838/838\u001b[0m \u001b[32m━━━━━━━━━━━━━━━━━━━━\u001b[0m\u001b[37m\u001b[0m \u001b[1m83s\u001b[0m 99ms/step - f1_score: 0.4689 - loss: 0.8181 - val_f1_score: 0.3567 - val_loss: 0.9565\n",
      "Epoch 12/30\n",
      "\u001b[1m838/838\u001b[0m \u001b[32m━━━━━━━━━━━━━━━━━━━━\u001b[0m\u001b[37m\u001b[0m \u001b[1m82s\u001b[0m 98ms/step - f1_score: 0.4576 - loss: 0.8123 - val_f1_score: 0.3694 - val_loss: 0.9638\n",
      "Epoch 13/30\n",
      "\u001b[1m838/838\u001b[0m \u001b[32m━━━━━━━━━━━━━━━━━━━━\u001b[0m\u001b[37m\u001b[0m \u001b[1m83s\u001b[0m 99ms/step - f1_score: 0.4619 - loss: 0.8049 - val_f1_score: 0.3892 - val_loss: 1.0020\n",
      "Epoch 14/30\n",
      "\u001b[1m838/838\u001b[0m \u001b[32m━━━━━━━━━━━━━━━━━━━━\u001b[0m\u001b[37m\u001b[0m \u001b[1m81s\u001b[0m 97ms/step - f1_score: 0.4636 - loss: 0.8016 - val_f1_score: 0.4161 - val_loss: 1.0499\n",
      "Epoch 15/30\n",
      "\u001b[1m838/838\u001b[0m \u001b[32m━━━━━━━━━━━━━━━━━━━━\u001b[0m\u001b[37m\u001b[0m \u001b[1m81s\u001b[0m 97ms/step - f1_score: 0.4619 - loss: 0.7993 - val_f1_score: 0.4223 - val_loss: 1.1843\n",
      "Epoch 16/30\n",
      "\u001b[1m838/838\u001b[0m \u001b[32m━━━━━━━━━━━━━━━━━━━━\u001b[0m\u001b[37m\u001b[0m \u001b[1m83s\u001b[0m 99ms/step - f1_score: 0.4649 - loss: 0.8002 - val_f1_score: 0.4112 - val_loss: 1.0882\n",
      "Epoch 17/30\n",
      "\u001b[1m838/838\u001b[0m \u001b[32m━━━━━━━━━━━━━━━━━━━━\u001b[0m\u001b[37m\u001b[0m \u001b[1m84s\u001b[0m 100ms/step - f1_score: 0.4661 - loss: 0.7963 - val_f1_score: 0.4085 - val_loss: 1.0406\n",
      "Epoch 18/30\n",
      "\u001b[1m838/838\u001b[0m \u001b[32m━━━━━━━━━━━━━━━━━━━━\u001b[0m\u001b[37m\u001b[0m \u001b[1m88s\u001b[0m 105ms/step - f1_score: 0.4695 - loss: 0.7939 - val_f1_score: 0.3957 - val_loss: 0.9565\n",
      "Epoch 19/30\n",
      "\u001b[1m838/838\u001b[0m \u001b[32m━━━━━━━━━━━━━━━━━━━━\u001b[0m\u001b[37m\u001b[0m \u001b[1m83s\u001b[0m 99ms/step - f1_score: 0.4702 - loss: 0.8004 - val_f1_score: 0.4012 - val_loss: 0.9801\n",
      "Epoch 20/30\n",
      "\u001b[1m838/838\u001b[0m \u001b[32m━━━━━━━━━━━━━━━━━━━━\u001b[0m\u001b[37m\u001b[0m \u001b[1m83s\u001b[0m 99ms/step - f1_score: 0.4734 - loss: 0.7977 - val_f1_score: 0.4016 - val_loss: 0.9845\n",
      "Epoch 21/30\n",
      "\u001b[1m838/838\u001b[0m \u001b[32m━━━━━━━━━━━━━━━━━━━━\u001b[0m\u001b[37m\u001b[0m \u001b[1m88s\u001b[0m 105ms/step - f1_score: 0.4736 - loss: 0.8064 - val_f1_score: 0.3975 - val_loss: 0.9693\n",
      "Epoch 22/30\n",
      "\u001b[1m838/838\u001b[0m \u001b[32m━━━━━━━━━━━━━━━━━━━━\u001b[0m\u001b[37m\u001b[0m \u001b[1m87s\u001b[0m 104ms/step - f1_score: 0.4797 - loss: 0.7996 - val_f1_score: 0.4027 - val_loss: 1.0437\n",
      "Epoch 23/30\n",
      "\u001b[1m838/838\u001b[0m \u001b[32m━━━━━━━━━━━━━━━━━━━━\u001b[0m\u001b[37m\u001b[0m \u001b[1m88s\u001b[0m 106ms/step - f1_score: 0.4747 - loss: 0.7979 - val_f1_score: 0.3907 - val_loss: 1.0127\n",
      "Epoch 24/30\n",
      "\u001b[1m838/838\u001b[0m \u001b[32m━━━━━━━━━━━━━━━━━━━━\u001b[0m\u001b[37m\u001b[0m \u001b[1m86s\u001b[0m 103ms/step - f1_score: 0.4775 - loss: 0.7923 - val_f1_score: 0.3926 - val_loss: 1.0131\n",
      "Epoch 25/30\n",
      "\u001b[1m838/838\u001b[0m \u001b[32m━━━━━━━━━━━━━━━━━━━━\u001b[0m\u001b[37m\u001b[0m \u001b[1m87s\u001b[0m 104ms/step - f1_score: 0.4769 - loss: 0.7945 - val_f1_score: 0.3844 - val_loss: 1.0308\n",
      "Epoch 26/30\n",
      "\u001b[1m838/838\u001b[0m \u001b[32m━━━━━━━━━━━━━━━━━━━━\u001b[0m\u001b[37m\u001b[0m \u001b[1m85s\u001b[0m 101ms/step - f1_score: 0.4770 - loss: 0.7941 - val_f1_score: 0.3906 - val_loss: 1.0056\n",
      "Epoch 27/30\n",
      "\u001b[1m838/838\u001b[0m \u001b[32m━━━━━━━━━━━━━━━━━━━━\u001b[0m\u001b[37m\u001b[0m \u001b[1m82s\u001b[0m 98ms/step - f1_score: 0.4795 - loss: 0.7958 - val_f1_score: 0.3946 - val_loss: 1.1276\n",
      "Epoch 28/30\n",
      "\u001b[1m838/838\u001b[0m \u001b[32m━━━━━━━━━━━━━━━━━━━━\u001b[0m\u001b[37m\u001b[0m \u001b[1m82s\u001b[0m 98ms/step - f1_score: 0.4778 - loss: 0.7957 - val_f1_score: 0.4053 - val_loss: 1.1174\n",
      "Epoch 29/30\n",
      "\u001b[1m838/838\u001b[0m \u001b[32m━━━━━━━━━━━━━━━━━━━━\u001b[0m\u001b[37m\u001b[0m \u001b[1m82s\u001b[0m 98ms/step - f1_score: 0.4803 - loss: 0.7902 - val_f1_score: 0.4000 - val_loss: 1.0803\n",
      "Epoch 30/30\n",
      "\u001b[1m838/838\u001b[0m \u001b[32m━━━━━━━━━━━━━━━━━━━━\u001b[0m\u001b[37m\u001b[0m \u001b[1m83s\u001b[0m 100ms/step - f1_score: 0.4788 - loss: 0.7863 - val_f1_score: 0.3940 - val_loss: 1.1301\n"
     ]
    },
    {
     "data": {
      "image/png": "[encoded data removed]",
      "text/plain": [
       "<Figure size 640x480 with 2 Axes>"
      ]
     },
     "metadata": {},
     "output_type": "display_data"
    },
    {
     "name": "stdout",
     "output_type": "stream",
     "text": [
      "\u001b[1m1343/1343\u001b[0m \u001b[32m━━━━━━━━━━━━━━━━━━━━\u001b[0m\u001b[37m\u001b[0m \u001b[1m9s\u001b[0m 7ms/step\n"
     ]
    }
   ],
   "source": [
    "Y_test, y_pred = Attention_model(X_train,X_valid,X_test,borrow_rate_Y_train,borrow_rate_Y_valid,borrow_rate_Y_test,weights)"
   ]
  },
  {
   "cell_type": "code",
   "execution_count": 74,
   "metadata": {},
   "outputs": [
    {
     "name": "stdout",
     "output_type": "stream",
     "text": [
      "\u001b[1m1343/1343\u001b[0m \u001b[32m━━━━━━━━━━━━━━━━━━━━\u001b[0m\u001b[37m\u001b[0m \u001b[1m9s\u001b[0m 7ms/step\n"
     ]
    }
   ],
   "source": [
    "best_model = tf.keras.models.load_model('best_model.keras')\n",
    "\n",
    "y_pred_best = best_model.predict(X_test)\n",
    "y_pred_best = np.argmax(y_pred_best, axis=-1)"
   ]
  },
  {
   "cell_type": "code",
   "execution_count": 75,
   "metadata": {},
   "outputs": [
    {
     "data": {
      "image/png": "[encoded data removed]",
      "text/plain": [
       "<Figure size 800x600 with 2 Axes>"
      ]
     },
     "metadata": {},
     "output_type": "display_data"
    },
    {
     "name": "stdout",
     "output_type": "stream",
     "text": [
      "Classification Metrics:\n",
      "Accuracy: 0.58\n",
      "Precision: 0.46\n",
      "Recall: 0.42\n",
      "F1 Score: 0.41\n",
      "\n",
      "Detailed Classification Report:\n",
      "              precision    recall  f1-score   support\n",
      "\n",
      "           0       0.65      0.85      0.73     25065\n",
      "           1       0.37      0.30      0.33      9354\n",
      "           2       0.35      0.11      0.16      8529\n",
      "\n",
      "    accuracy                           0.58     42948\n",
      "   macro avg       0.46      0.42      0.41     42948\n",
      "weighted avg       0.53      0.58      0.53     42948\n",
      "\n",
      "(0.5805625407469498, 0.4558122813130509, 0.41797818272653653, 0.4097828548725477)\n"
     ]
    }
   ],
   "source": [
    "print(pre.classification_metrics(borrow_rate_Y_test, y_pred_best, printed = True))"
   ]
  },
  {
   "cell_type": "code",
   "execution_count": 76,
   "metadata": {},
   "outputs": [
    {
     "data": {
      "image/png": "[encoded data removed]",
      "text/plain": [
       "<Figure size 800x600 with 2 Axes>"
      ]
     },
     "metadata": {},
     "output_type": "display_data"
    },
    {
     "name": "stdout",
     "output_type": "stream",
     "text": [
      "Classification Metrics:\n",
      "Accuracy: 0.58\n",
      "Precision: 0.46\n",
      "Recall: 0.42\n",
      "F1 Score: 0.41\n",
      "\n",
      "Detailed Classification Report:\n",
      "              precision    recall  f1-score   support\n",
      "\n",
      "           0       0.65      0.85      0.73     25065\n",
      "           1       0.37      0.30      0.33      9354\n",
      "           2       0.35      0.11      0.16      8529\n",
      "\n",
      "    accuracy                           0.58     42948\n",
      "   macro avg       0.46      0.42      0.41     42948\n",
      "weighted avg       0.53      0.58      0.53     42948\n",
      "\n",
      "(0.5805625407469498, 0.4558122813130509, 0.41797818272653653, 0.4097828548725477)\n"
     ]
    }
   ],
   "source": [
    "print(pre.classification_metrics(borrow_rate_Y_test, y_pred, printed = True))"
   ]
  },
  {
   "cell_type": "markdown",
   "metadata": {},
   "source": [
    "Callback doesn't seem to work for F1 score, we will compare models by running them for 20, 50 and 100 epochs"
   ]
  }
 ],
 "metadata": {
  "kernelspec": {
   "display_name": "base",
   "language": "python",
   "name": "python3"
  },
  "language_info": {
   "codemirror_mode": {
    "name": "ipython",
    "version": 3
   },
   "file_extension": ".py",
   "mimetype": "text/x-python",
   "name": "python",
   "nbconvert_exporter": "python",
   "pygments_lexer": "ipython3",
   "version": "3.11.7"
  }
 },
 "nbformat": 4,
 "nbformat_minor": 2
}
