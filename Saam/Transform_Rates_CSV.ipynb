{
 "cells": [
  {
   "cell_type": "markdown",
   "metadata": {},
   "source": [
    "### Transforming US treasury yields to hourly for matching with other data"
   ]
  },
  {
   "cell_type": "code",
   "execution_count": 13,
   "metadata": {},
   "outputs": [
    {
     "data": {
      "text/html": [
       "<div>\n",
       "<style scoped>\n",
       "    .dataframe tbody tr th:only-of-type {\n",
       "        vertical-align: middle;\n",
       "    }\n",
       "\n",
       "    .dataframe tbody tr th {\n",
       "        vertical-align: top;\n",
       "    }\n",
       "\n",
       "    .dataframe thead th {\n",
       "        text-align: right;\n",
       "    }\n",
       "</style>\n",
       "<table border=\"1\" class=\"dataframe\">\n",
       "  <thead>\n",
       "    <tr style=\"text-align: right;\">\n",
       "      <th></th>\n",
       "      <th>date</th>\n",
       "      <th>realtime_start</th>\n",
       "      <th>realtime_end</th>\n",
       "      <th>value</th>\n",
       "    </tr>\n",
       "  </thead>\n",
       "  <tbody>\n",
       "    <tr>\n",
       "      <th>0</th>\n",
       "      <td>2001-07-31</td>\n",
       "      <td>2024-10-28</td>\n",
       "      <td>2024-10-28</td>\n",
       "      <td>3.67</td>\n",
       "    </tr>\n",
       "    <tr>\n",
       "      <th>1</th>\n",
       "      <td>2001-08-01</td>\n",
       "      <td>2024-10-28</td>\n",
       "      <td>2024-10-28</td>\n",
       "      <td>3.65</td>\n",
       "    </tr>\n",
       "    <tr>\n",
       "      <th>2</th>\n",
       "      <td>2001-08-02</td>\n",
       "      <td>2024-10-28</td>\n",
       "      <td>2024-10-28</td>\n",
       "      <td>3.65</td>\n",
       "    </tr>\n",
       "    <tr>\n",
       "      <th>3</th>\n",
       "      <td>2001-08-03</td>\n",
       "      <td>2024-10-28</td>\n",
       "      <td>2024-10-28</td>\n",
       "      <td>3.63</td>\n",
       "    </tr>\n",
       "    <tr>\n",
       "      <th>4</th>\n",
       "      <td>2001-08-06</td>\n",
       "      <td>2024-10-28</td>\n",
       "      <td>2024-10-28</td>\n",
       "      <td>3.62</td>\n",
       "    </tr>\n",
       "  </tbody>\n",
       "</table>\n",
       "</div>"
      ],
      "text/plain": [
       "         date realtime_start realtime_end value\n",
       "0  2001-07-31     2024-10-28   2024-10-28  3.67\n",
       "1  2001-08-01     2024-10-28   2024-10-28  3.65\n",
       "2  2001-08-02     2024-10-28   2024-10-28  3.65\n",
       "3  2001-08-03     2024-10-28   2024-10-28  3.63\n",
       "4  2001-08-06     2024-10-28   2024-10-28  3.62"
      ]
     },
     "execution_count": 13,
     "metadata": {},
     "output_type": "execute_result"
    }
   ],
   "source": [
    "import pandas as pd\n",
    "import numpy as np\n",
    "import os\n",
    "\n",
    "path_directory = os.getcwd()\n",
    "\n",
    "file_path = f\"{path_directory}\\\\US_yield.csv\"\n",
    "\n",
    "df = pd.read_csv(file_path, sep=\",\")\n",
    "\n",
    "df.head()\n"
   ]
  },
  {
   "cell_type": "code",
   "execution_count": 2,
   "metadata": {},
   "outputs": [
    {
     "name": "stdout",
     "output_type": "stream",
     "text": [
      "            date realtime_start realtime_end value\n",
      "4811  2020-01-08     2024-10-28   2024-10-28  1.50\n",
      "4812  2020-01-09     2024-10-28   2024-10-28  1.53\n",
      "4813  2020-01-10     2024-10-28   2024-10-28  1.52\n",
      "4814  2020-01-13     2024-10-28   2024-10-28  1.54\n",
      "4815  2020-01-14     2024-10-28   2024-10-28  1.53\n"
     ]
    }
   ],
   "source": [
    "df_2020 = df[df[\"date\"]>= \"2020-01-08\"].copy()\n",
    "\n",
    "del df\n",
    "\n",
    "print(df_2020.head())"
   ]
  },
  {
   "cell_type": "code",
   "execution_count": 3,
   "metadata": {},
   "outputs": [
    {
     "name": "stdout",
     "output_type": "stream",
     "text": [
      "            date value\n",
      "4811  2020-01-08  1.50\n",
      "4812  2020-01-09  1.53\n",
      "4813  2020-01-10  1.52\n",
      "4814  2020-01-13  1.54\n",
      "4815  2020-01-14  1.53\n"
     ]
    }
   ],
   "source": [
    "df_2020.drop(columns=[\"realtime_start\", \"realtime_end\"], inplace=True)\n",
    "\n",
    "print(df_2020.head())"
   ]
  },
  {
   "cell_type": "code",
   "execution_count": 4,
   "metadata": {},
   "outputs": [
    {
     "name": "stdout",
     "output_type": "stream",
     "text": [
      "<class 'pandas.core.frame.DataFrame'>\n",
      "Index: 1252 entries, 4811 to 6062\n",
      "Data columns (total 2 columns):\n",
      " #   Column  Non-Null Count  Dtype \n",
      "---  ------  --------------  ----- \n",
      " 0   date    1252 non-null   object\n",
      " 1   value   1252 non-null   object\n",
      "dtypes: object(2)\n",
      "memory usage: 29.3+ KB\n"
     ]
    }
   ],
   "source": [
    "df_2020.info()"
   ]
  },
  {
   "cell_type": "code",
   "execution_count": 5,
   "metadata": {},
   "outputs": [
    {
     "name": "stdout",
     "output_type": "stream",
     "text": [
      "<class 'pandas.core.frame.DataFrame'>\n",
      "Index: 1252 entries, 4811 to 6062\n",
      "Data columns (total 2 columns):\n",
      " #   Column  Non-Null Count  Dtype         \n",
      "---  ------  --------------  -----         \n",
      " 0   date    1252 non-null   datetime64[ns]\n",
      " 1   value   1202 non-null   float64       \n",
      "dtypes: datetime64[ns](1), float64(1)\n",
      "memory usage: 29.3 KB\n",
      "None\n"
     ]
    }
   ],
   "source": [
    "df_2020[\"date\"] = pd.to_datetime(df_2020[\"date\"])\n",
    "df_2020[\"value\"] = pd.to_numeric(df_2020['value'], errors='coerce')\n",
    "\n",
    "print(df_2020.info())"
   ]
  },
  {
   "cell_type": "code",
   "execution_count": 6,
   "metadata": {},
   "outputs": [
    {
     "name": "stdout",
     "output_type": "stream",
     "text": [
      "           date  value\n",
      "4811 2020-01-08   1.50\n",
      "4812 2020-01-09   1.53\n",
      "4813 2020-01-10   1.52\n",
      "4814 2020-01-13   1.54\n",
      "4815 2020-01-14   1.53\n"
     ]
    }
   ],
   "source": [
    "print(df_2020.head())"
   ]
  },
  {
   "cell_type": "code",
   "execution_count": 7,
   "metadata": {},
   "outputs": [
    {
     "name": "stdout",
     "output_type": "stream",
     "text": [
      "Number of NaN values: 50\n"
     ]
    }
   ],
   "source": [
    "nan_count = df_2020['value'].isna().sum()\n",
    "print(f\"Number of NaN values: {nan_count}\")"
   ]
  },
  {
   "cell_type": "code",
   "execution_count": 8,
   "metadata": {},
   "outputs": [
    {
     "name": "stdout",
     "output_type": "stream",
     "text": [
      "Rows with NaN values:\n",
      "           date  value\n",
      "4819 2020-01-20    NaN\n",
      "4839 2020-02-17    NaN\n",
      "4878 2020-04-10    NaN\n",
      "4909 2020-05-25    NaN\n",
      "4938 2020-07-03    NaN\n",
      "4984 2020-09-07    NaN\n",
      "5009 2020-10-12    NaN\n",
      "5031 2020-11-11    NaN\n",
      "5042 2020-11-26    NaN\n",
      "5063 2020-12-25    NaN\n",
      "5068 2021-01-01    NaN\n",
      "5079 2021-01-18    NaN\n",
      "5099 2021-02-15    NaN\n",
      "5174 2021-05-31    NaN\n",
      "5199 2021-07-05    NaN\n",
      "5244 2021-09-06    NaN\n",
      "5269 2021-10-11    NaN\n",
      "5292 2021-11-11    NaN\n",
      "5302 2021-11-25    NaN\n",
      "5323 2021-12-24    NaN\n",
      "5339 2022-01-17    NaN\n",
      "5364 2022-02-21    NaN\n",
      "5403 2022-04-15    NaN\n",
      "5434 2022-05-30    NaN\n",
      "5449 2022-06-20    NaN\n",
      "5459 2022-07-04    NaN\n",
      "5504 2022-09-05    NaN\n",
      "5529 2022-10-10    NaN\n",
      "5553 2022-11-11    NaN\n",
      "5562 2022-11-24    NaN\n",
      "5584 2022-12-26    NaN\n",
      "5589 2023-01-02    NaN\n",
      "5599 2023-01-16    NaN\n",
      "5624 2023-02-20    NaN\n",
      "5694 2023-05-29    NaN\n",
      "5709 2023-06-19    NaN\n",
      "5720 2023-07-04    NaN\n",
      "5764 2023-09-04    NaN\n",
      "5789 2023-10-09    NaN\n",
      "5822 2023-11-23    NaN\n",
      "5844 2023-12-25    NaN\n",
      "5849 2024-01-01    NaN\n",
      "5859 2024-01-15    NaN\n",
      "5884 2024-02-19    NaN\n",
      "5913 2024-03-29    NaN\n",
      "5954 2024-05-27    NaN\n",
      "5971 2024-06-19    NaN\n",
      "5982 2024-07-04    NaN\n",
      "6024 2024-09-02    NaN\n",
      "6054 2024-10-14    NaN\n"
     ]
    }
   ],
   "source": [
    "print(\"Rows with NaN values:\")\n",
    "print(df_2020[df_2020['value'].isna()])"
   ]
  },
  {
   "cell_type": "code",
   "execution_count": 9,
   "metadata": {},
   "outputs": [
    {
     "name": "stdout",
     "output_type": "stream",
     "text": [
      "0\n"
     ]
    }
   ],
   "source": [
    "df_2020['value'] = df_2020['value'].interpolate(method='linear')\n",
    "\n",
    "# Verify if there are still any NaNs left (just to check)\n",
    "print(df_2020['value'].isna().sum())"
   ]
  },
  {
   "cell_type": "code",
   "execution_count": 10,
   "metadata": {},
   "outputs": [
    {
     "name": "stdout",
     "output_type": "stream",
     "text": [
      "           date     value\n",
      "0    2020-01-08  1.500000\n",
      "1    2020-01-09  1.530000\n",
      "2    2020-01-10  1.520000\n",
      "3    2020-01-11  1.526667\n",
      "4    2020-01-12  1.533333\n",
      "...         ...       ...\n",
      "1747 2024-10-20  4.920000\n",
      "1748 2024-10-21  4.920000\n",
      "1749 2024-10-22  4.890000\n",
      "1750 2024-10-23  4.880000\n",
      "1751 2024-10-24  4.870000\n",
      "\n",
      "[1752 rows x 2 columns]\n"
     ]
    }
   ],
   "source": [
    "full_date_range = pd.date_range(start=df_2020['date'].min(), end=df_2020['date'].max())\n",
    "\n",
    "# Reindex the DataFrame to include all dates\n",
    "df_2020 = df_2020.set_index('date').reindex(full_date_range)\n",
    "\n",
    "# Interpolate values\n",
    "df_2020['value'] = df_2020['value'].interpolate(method='linear')\n",
    "\n",
    "# Reset the index to make 'date' a column again\n",
    "df_2020 = df_2020.reset_index()\n",
    "df_2020.rename(columns={'index': 'date'}, inplace=True)\n",
    "\n",
    "# Display the final DataFrame\n",
    "print(df_2020)"
   ]
  },
  {
   "cell_type": "code",
   "execution_count": 11,
   "metadata": {},
   "outputs": [
    {
     "name": "stdout",
     "output_type": "stream",
     "text": [
      "                 datetime  value\n",
      "0     2020-01-08 00:00:00   1.50\n",
      "1     2020-01-08 01:00:00   1.50\n",
      "2     2020-01-08 02:00:00   1.50\n",
      "3     2020-01-08 03:00:00   1.50\n",
      "4     2020-01-08 04:00:00   1.50\n",
      "...                   ...    ...\n",
      "42043 2024-10-24 19:00:00   4.87\n",
      "42044 2024-10-24 20:00:00   4.87\n",
      "42045 2024-10-24 21:00:00   4.87\n",
      "42046 2024-10-24 22:00:00   4.87\n",
      "42047 2024-10-24 23:00:00   4.87\n",
      "\n",
      "[42048 rows x 2 columns]\n"
     ]
    }
   ],
   "source": [
    "hourly_data = []\n",
    "\n",
    "# Expand each date to 24 hours\n",
    "for index, row in df_2020.iterrows():\n",
    "    for hour in range(24):  # 0 to 23\n",
    "        hourly_data.append({\n",
    "            'datetime': row['date'] + pd.Timedelta(hours=hour),\n",
    "            'value': row['value']\n",
    "        })\n",
    "\n",
    "# Create a new DataFrame\n",
    "df_hourly = pd.DataFrame(hourly_data)\n",
    "\n",
    "# Display the new DataFrame\n",
    "print(df_hourly)"
   ]
  },
  {
   "cell_type": "code",
   "execution_count": 12,
   "metadata": {},
   "outputs": [],
   "source": [
    "file_path_1 = f\"{path_directory}\\\\US_yield_hourly.csv\"\n",
    "\n",
    "df_2020.to_csv(file_path_1, sep=\",\")"
   ]
  }
 ],
 "metadata": {
  "kernelspec": {
   "display_name": "base",
   "language": "python",
   "name": "python3"
  },
  "language_info": {
   "codemirror_mode": {
    "name": "ipython",
    "version": 3
   },
   "file_extension": ".py",
   "mimetype": "text/x-python",
   "name": "python",
   "nbconvert_exporter": "python",
   "pygments_lexer": "ipython3",
   "version": "3.11.7"
  }
 },
 "nbformat": 4,
 "nbformat_minor": 2
}
