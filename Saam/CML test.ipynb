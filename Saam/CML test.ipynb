{
 "cells": [
  {
   "cell_type": "markdown",
   "metadata": {},
   "source": [
    "### CML"
   ]
  },
  {
   "cell_type": "code",
   "execution_count": 1,
   "metadata": {},
   "outputs": [
    {
     "name": "stdout",
     "output_type": "stream",
     "text": [
      "c:\\Users\\sghia\\OneDrive\\Documents\\Company_Corp_Project\\Funding_rate_Aave\\Saam\n"
     ]
    }
   ],
   "source": [
    "import pandas as pd\n",
    "import numpy as np\n",
    "import os\n",
    "\n",
    "current_path = os.getcwd()\n",
    "\n",
    "US_treasury_rate_path = f\"{current_path}//US_yield_hourly.csv\"\n",
    "\n",
    "print(current_path)"
   ]
  },
  {
   "cell_type": "code",
   "execution_count": 2,
   "metadata": {},
   "outputs": [
    {
     "name": "stdout",
     "output_type": "stream",
     "text": [
      "c:\\Users\\sghia\\OneDrive\\Documents\\Company_Corp_Project\\Funding_rate_Aave\\Nasim\\rates_data.csv\n"
     ]
    }
   ],
   "source": [
    "rates_path = f\"{current_path[:-4]}Nasim\\\\rates_data.csv\"\n",
    "\n",
    "print(rates_path)"
   ]
  },
  {
   "cell_type": "code",
   "execution_count": 3,
   "metadata": {},
   "outputs": [
    {
     "name": "stdout",
     "output_type": "stream",
     "text": [
      "   Unnamed: 0             datetime     value\n",
      "0           0  2020-01-08 00:00:00  0.000021\n",
      "1           1  2020-01-08 01:00:00  0.000021\n",
      "2           2  2020-01-08 02:00:00  0.000021\n",
      "3           3  2020-01-08 03:00:00  0.000021\n",
      "4           4  2020-01-08 04:00:00  0.000021\n",
      "  Symbol            Timestamp  liquidityRate_avg  variableBorrowRate_avg  \\\n",
      "0    DAI  2021-06-26 12:00:00           0.030049                0.044036   \n",
      "1    DAI  2021-06-26 18:00:00           0.022864                0.033511   \n",
      "2    DAI  2021-06-27 00:00:00           0.026457                0.038576   \n",
      "3    DAI  2021-06-27 06:00:00           0.023205                0.033815   \n",
      "4    DAI  2021-06-27 12:00:00           0.026452                0.038146   \n",
      "\n",
      "   utilizationRate_avg  stableBorrowRate_avg  \n",
      "0             0.741302              0.118596  \n",
      "1             0.740801              0.118584  \n",
      "2             0.743568              0.118653  \n",
      "3             0.745587              0.118703  \n",
      "4             0.747147              0.118741  \n"
     ]
    }
   ],
   "source": [
    "df_treasury_rates = pd.read_csv(US_treasury_rate_path, sep =\",\")\n",
    "\n",
    "df_borrowing_rates = pd.read_csv(rates_path, sep =\",\")\n",
    "\n",
    "\n",
    "print(df_treasury_rates.head())\n",
    "\n",
    "print(df_borrowing_rates.head())"
   ]
  },
  {
   "cell_type": "code",
   "execution_count": 4,
   "metadata": {},
   "outputs": [
    {
     "data": {
      "text/html": [
       "<div>\n",
       "<style scoped>\n",
       "    .dataframe tbody tr th:only-of-type {\n",
       "        vertical-align: middle;\n",
       "    }\n",
       "\n",
       "    .dataframe tbody tr th {\n",
       "        vertical-align: top;\n",
       "    }\n",
       "\n",
       "    .dataframe thead th {\n",
       "        text-align: right;\n",
       "    }\n",
       "</style>\n",
       "<table border=\"1\" class=\"dataframe\">\n",
       "  <thead>\n",
       "    <tr style=\"text-align: right;\">\n",
       "      <th></th>\n",
       "      <th>Symbol</th>\n",
       "      <th>Timestamp</th>\n",
       "      <th>liquidityRate_avg</th>\n",
       "      <th>variableBorrowRate_avg</th>\n",
       "      <th>utilizationRate_avg</th>\n",
       "      <th>stableBorrowRate_avg</th>\n",
       "    </tr>\n",
       "  </thead>\n",
       "  <tbody>\n",
       "    <tr>\n",
       "      <th>0</th>\n",
       "      <td>DAI</td>\n",
       "      <td>2021-06-26 12:00:00</td>\n",
       "      <td>0.000003</td>\n",
       "      <td>0.000005</td>\n",
       "      <td>0.741302</td>\n",
       "      <td>0.000014</td>\n",
       "    </tr>\n",
       "    <tr>\n",
       "      <th>1</th>\n",
       "      <td>DAI</td>\n",
       "      <td>2021-06-26 18:00:00</td>\n",
       "      <td>0.000003</td>\n",
       "      <td>0.000004</td>\n",
       "      <td>0.740801</td>\n",
       "      <td>0.000014</td>\n",
       "    </tr>\n",
       "    <tr>\n",
       "      <th>2</th>\n",
       "      <td>DAI</td>\n",
       "      <td>2021-06-27 00:00:00</td>\n",
       "      <td>0.000003</td>\n",
       "      <td>0.000004</td>\n",
       "      <td>0.743568</td>\n",
       "      <td>0.000014</td>\n",
       "    </tr>\n",
       "    <tr>\n",
       "      <th>3</th>\n",
       "      <td>DAI</td>\n",
       "      <td>2021-06-27 06:00:00</td>\n",
       "      <td>0.000003</td>\n",
       "      <td>0.000004</td>\n",
       "      <td>0.745587</td>\n",
       "      <td>0.000014</td>\n",
       "    </tr>\n",
       "    <tr>\n",
       "      <th>4</th>\n",
       "      <td>DAI</td>\n",
       "      <td>2021-06-27 12:00:00</td>\n",
       "      <td>0.000003</td>\n",
       "      <td>0.000004</td>\n",
       "      <td>0.747147</td>\n",
       "      <td>0.000014</td>\n",
       "    </tr>\n",
       "  </tbody>\n",
       "</table>\n",
       "</div>"
      ],
      "text/plain": [
       "  Symbol            Timestamp  liquidityRate_avg  variableBorrowRate_avg  \\\n",
       "0    DAI  2021-06-26 12:00:00           0.000003                0.000005   \n",
       "1    DAI  2021-06-26 18:00:00           0.000003                0.000004   \n",
       "2    DAI  2021-06-27 00:00:00           0.000003                0.000004   \n",
       "3    DAI  2021-06-27 06:00:00           0.000003                0.000004   \n",
       "4    DAI  2021-06-27 12:00:00           0.000003                0.000004   \n",
       "\n",
       "   utilizationRate_avg  stableBorrowRate_avg  \n",
       "0             0.741302              0.000014  \n",
       "1             0.740801              0.000014  \n",
       "2             0.743568              0.000014  \n",
       "3             0.745587              0.000014  \n",
       "4             0.747147              0.000014  "
      ]
     },
     "execution_count": 4,
     "metadata": {},
     "output_type": "execute_result"
    }
   ],
   "source": [
    "hours_per_year = 24*365\n",
    "df_borrowing_rates[\"variableBorrowRate_avg\"] = np.exp(df_borrowing_rates[\"variableBorrowRate_avg\"]/hours_per_year)-1\n",
    "df_borrowing_rates[\"liquidityRate_avg\"] = np.exp(df_borrowing_rates[\"liquidityRate_avg\"]/hours_per_year)-1\n",
    "df_borrowing_rates[\"stableBorrowRate_avg\"] = np.exp(df_borrowing_rates[\"stableBorrowRate_avg\"]/hours_per_year)-1\n",
    "\n",
    "\n",
    "df_borrowing_rates.head()"
   ]
  },
  {
   "cell_type": "code",
   "execution_count": 5,
   "metadata": {},
   "outputs": [
    {
     "name": "stdout",
     "output_type": "stream",
     "text": [
      "['DAI' 'TUSD' 'USDC' 'USDT' 'SUSD' 'BAT' 'LINK' 'KNC' 'MKR' 'MANA' 'ZRX'\n",
      " 'SNX' 'WBTC' 'BUSD' 'ENJ' 'REN' 'YFI' 'AAVE' 'UNI' 'AUSDT' 'AWBTC'\n",
      " 'AWETH' 'AYFI' 'AZRX' 'AUNI' 'AAAVE' 'ABAT' 'ABUSD' 'ADAI' 'AENJ' 'AKNC'\n",
      " 'ALINK' 'AMANA' 'AMKR' 'AREN' 'ASNX' 'ASUSD' 'ATUSD' 'AUSDC' 'ACRV'\n",
      " 'AGUSD' 'ABAL' 'AXSUSHI' 'ARENFIL' 'ARAI' 'AAMPL' 'AUSDP' 'ADPI' 'AFRAX'\n",
      " 'AFEI' 'ASTETH' 'AENS' 'AUST' 'ACVX' 'A1INCH' 'ALUSD' 'AAMMWETH'\n",
      " 'AAMMDAI' 'AAMMUSDC' 'AAMMUSDT' 'AAMMWBTC' 'WETH' 'LUSD' 'CRV' 'BAL'\n",
      " 'ENS' '1INCH' 'FRAX']\n"
     ]
    }
   ],
   "source": [
    "print(df_borrowing_rates[\"Symbol\"].unique())"
   ]
  },
  {
   "cell_type": "code",
   "execution_count": 6,
   "metadata": {},
   "outputs": [
    {
     "name": "stdout",
     "output_type": "stream",
     "text": [
      "68\n"
     ]
    }
   ],
   "source": [
    "print(df_borrowing_rates[\"Symbol\"].nunique())"
   ]
  },
  {
   "cell_type": "code",
   "execution_count": 7,
   "metadata": {},
   "outputs": [
    {
     "data": {
      "text/html": [
       "<div>\n",
       "<style scoped>\n",
       "    .dataframe tbody tr th:only-of-type {\n",
       "        vertical-align: middle;\n",
       "    }\n",
       "\n",
       "    .dataframe tbody tr th {\n",
       "        vertical-align: top;\n",
       "    }\n",
       "\n",
       "    .dataframe thead th {\n",
       "        text-align: right;\n",
       "    }\n",
       "</style>\n",
       "<table border=\"1\" class=\"dataframe\">\n",
       "  <thead>\n",
       "    <tr style=\"text-align: right;\">\n",
       "      <th></th>\n",
       "      <th>crypto_symbol</th>\n",
       "      <th>date</th>\n",
       "      <th>high</th>\n",
       "      <th>low</th>\n",
       "      <th>close</th>\n",
       "      <th>adj_close</th>\n",
       "      <th>volume</th>\n",
       "      <th>market_cap</th>\n",
       "      <th>coin_supply</th>\n",
       "      <th>id</th>\n",
       "      <th>open</th>\n",
       "    </tr>\n",
       "  </thead>\n",
       "  <tbody>\n",
       "    <tr>\n",
       "      <th>0</th>\n",
       "      <td>1INCHUSDT</td>\n",
       "      <td>2020-12-25 05:00:00</td>\n",
       "      <td>3.08850</td>\n",
       "      <td>0.20000</td>\n",
       "      <td>2.58260</td>\n",
       "      <td>2.58260</td>\n",
       "      <td>13125130</td>\n",
       "      <td>None</td>\n",
       "      <td>None</td>\n",
       "      <td>87981</td>\n",
       "      <td>0.20000</td>\n",
       "    </tr>\n",
       "    <tr>\n",
       "      <th>1</th>\n",
       "      <td>1INCHUSDT</td>\n",
       "      <td>2020-12-25 06:00:00</td>\n",
       "      <td>2.69000</td>\n",
       "      <td>2.22490</td>\n",
       "      <td>2.50590</td>\n",
       "      <td>2.50590</td>\n",
       "      <td>9270672</td>\n",
       "      <td>None</td>\n",
       "      <td>None</td>\n",
       "      <td>87982</td>\n",
       "      <td>2.58240</td>\n",
       "    </tr>\n",
       "    <tr>\n",
       "      <th>2</th>\n",
       "      <td>1INCHUSDT</td>\n",
       "      <td>2020-12-25 07:00:00</td>\n",
       "      <td>2.88700</td>\n",
       "      <td>2.36090</td>\n",
       "      <td>2.62370</td>\n",
       "      <td>2.62370</td>\n",
       "      <td>7923760</td>\n",
       "      <td>None</td>\n",
       "      <td>None</td>\n",
       "      <td>87983</td>\n",
       "      <td>2.51520</td>\n",
       "    </tr>\n",
       "    <tr>\n",
       "      <th>3</th>\n",
       "      <td>1INCHUSDT</td>\n",
       "      <td>2020-12-25 08:00:00</td>\n",
       "      <td>2.82470</td>\n",
       "      <td>2.46500</td>\n",
       "      <td>2.61340</td>\n",
       "      <td>2.61340</td>\n",
       "      <td>6625565</td>\n",
       "      <td>None</td>\n",
       "      <td>None</td>\n",
       "      <td>87984</td>\n",
       "      <td>2.63180</td>\n",
       "    </tr>\n",
       "    <tr>\n",
       "      <th>4</th>\n",
       "      <td>1INCHUSDT</td>\n",
       "      <td>2020-12-25 09:00:00</td>\n",
       "      <td>2.74980</td>\n",
       "      <td>2.56290</td>\n",
       "      <td>2.63650</td>\n",
       "      <td>2.63650</td>\n",
       "      <td>3739132</td>\n",
       "      <td>None</td>\n",
       "      <td>None</td>\n",
       "      <td>87985</td>\n",
       "      <td>2.61040</td>\n",
       "    </tr>\n",
       "  </tbody>\n",
       "</table>\n",
       "</div>"
      ],
      "text/plain": [
       "  crypto_symbol                date     high      low    close adj_close  \\\n",
       "0     1INCHUSDT 2020-12-25 05:00:00  3.08850  0.20000  2.58260   2.58260   \n",
       "1     1INCHUSDT 2020-12-25 06:00:00  2.69000  2.22490  2.50590   2.50590   \n",
       "2     1INCHUSDT 2020-12-25 07:00:00  2.88700  2.36090  2.62370   2.62370   \n",
       "3     1INCHUSDT 2020-12-25 08:00:00  2.82470  2.46500  2.61340   2.61340   \n",
       "4     1INCHUSDT 2020-12-25 09:00:00  2.74980  2.56290  2.63650   2.63650   \n",
       "\n",
       "     volume market_cap coin_supply     id     open  \n",
       "0  13125130       None        None  87981  0.20000  \n",
       "1   9270672       None        None  87982  2.58240  \n",
       "2   7923760       None        None  87983  2.51520  \n",
       "3   6625565       None        None  87984  2.63180  \n",
       "4   3739132       None        None  87985  2.61040  "
      ]
     },
     "execution_count": 7,
     "metadata": {},
     "output_type": "execute_result"
    }
   ],
   "source": [
    "import mysql.connector\n",
    "\n",
    "# Connect to the database\n",
    "connection = mysql.connector.connect(\n",
    "            host=\"crypto-matter.c5eq66ogk1mf.eu-central-1.rds.amazonaws.com\",\n",
    "            user=\"Saam\",\n",
    "            passwd=\"Stitcheson12!\",\n",
    "            database=\"Crypto\"\n",
    "        )\n",
    "\n",
    "cursor = connection.cursor()\n",
    "\n",
    "Query = \"\"\"SELECT*\n",
    "FROM crypto_price\n",
    "WHERE crypto_price.date >= '2020-01-08 00:00:00';\n",
    "\"\"\"\n",
    "\n",
    "cursor.execute(Query)\n",
    "\n",
    "data = cursor.fetchall()\n",
    "\n",
    "columns = [column[0] for column in cursor.description]\n",
    "\n",
    "df_price = pd.DataFrame(data, columns=columns)\n",
    "\n",
    "cursor.close()\n",
    "connection.close()\n",
    "\n",
    "df_price.head()"
   ]
  },
  {
   "cell_type": "code",
   "execution_count": 8,
   "metadata": {},
   "outputs": [
    {
     "name": "stdout",
     "output_type": "stream",
     "text": [
      "['1INCH' 'AAVE' 'ARB' 'BAL' 'BAT' 'BTC' 'BUSD' 'CAKE' 'CRV' 'DAI' 'ENJ'\n",
      " 'ENS' 'ETH' 'FDUSD' 'FXS' 'GHST' 'GNO' 'KNC' 'LDO' 'LEND' 'LINK' 'MANA'\n",
      " 'METIS' 'MKR' 'OP' 'REN' 'REP' 'RPL' 'SNX' 'STG' 'SUSD' 'SUSHI' 'TUSD'\n",
      " 'UNI' 'USDC' 'WBTC' 'YFI' 'ZRX']\n"
     ]
    }
   ],
   "source": [
    "df_price[\"crypto_symbol\"] = df_price[\"crypto_symbol\"].str.replace(\"USDT\", \"\", regex=False)\n",
    "\n",
    "print(df_price[\"crypto_symbol\"].unique())"
   ]
  },
  {
   "cell_type": "code",
   "execution_count": 9,
   "metadata": {},
   "outputs": [],
   "source": [
    "df_borrowing_rates[\"date\"] = df_borrowing_rates[\"Timestamp\"]\n",
    "df_borrowing_rates.drop(columns=[\"Timestamp\"], inplace=True)"
   ]
  },
  {
   "cell_type": "code",
   "execution_count": 10,
   "metadata": {},
   "outputs": [
    {
     "name": "stdout",
     "output_type": "stream",
     "text": [
      "['DAI' 'TUSD' 'USDC' 'USDT' 'SUSD' 'BAT' 'LINK' 'KNC' 'MKR' 'MANA' 'ZRX'\n",
      " 'SNX' 'WBTC' 'BUSD' 'ENJ' 'REN' 'YFI' 'AAVE' 'UNI' 'AUSDT' 'AWBTC'\n",
      " 'AWETH' 'AYFI' 'AZRX' 'AUNI' 'AAAVE' 'ABAT' 'ABUSD' 'ADAI' 'AENJ' 'AKNC'\n",
      " 'ALINK' 'AMANA' 'AMKR' 'AREN' 'ASNX' 'ASUSD' 'ATUSD' 'AUSDC' 'ACRV'\n",
      " 'AGUSD' 'ABAL' 'AXSUSHI' 'ARENFIL' 'ARAI' 'AAMPL' 'AUSDP' 'ADPI' 'AFRAX'\n",
      " 'AFEI' 'ASTETH' 'AENS' 'AUST' 'ACVX' 'A1INCH' 'ALUSD' 'AAMMWETH'\n",
      " 'AAMMDAI' 'AAMMUSDC' 'AAMMUSDT' 'AAMMWBTC' 'WETH' 'LUSD' 'CRV' 'BAL'\n",
      " 'ENS' '1INCH' 'FRAX']\n"
     ]
    }
   ],
   "source": [
    "print(df_borrowing_rates[\"Symbol\"].unique())"
   ]
  },
  {
   "cell_type": "code",
   "execution_count": 11,
   "metadata": {},
   "outputs": [],
   "source": [
    "df_treasury_rates[\"date\"] = df_treasury_rates[\"datetime\"]\n",
    "\n",
    "df_treasury_rates.drop(columns=[\"datetime\"], inplace=True)"
   ]
  },
  {
   "cell_type": "code",
   "execution_count": 12,
   "metadata": {},
   "outputs": [
    {
     "data": {
      "text/html": [
       "<div>\n",
       "<style scoped>\n",
       "    .dataframe tbody tr th:only-of-type {\n",
       "        vertical-align: middle;\n",
       "    }\n",
       "\n",
       "    .dataframe tbody tr th {\n",
       "        vertical-align: top;\n",
       "    }\n",
       "\n",
       "    .dataframe thead th {\n",
       "        text-align: right;\n",
       "    }\n",
       "</style>\n",
       "<table border=\"1\" class=\"dataframe\">\n",
       "  <thead>\n",
       "    <tr style=\"text-align: right;\">\n",
       "      <th></th>\n",
       "      <th>Symbol</th>\n",
       "      <th>liquidityRate_avg</th>\n",
       "      <th>variableBorrowRate_avg</th>\n",
       "      <th>utilizationRate_avg</th>\n",
       "      <th>stableBorrowRate_avg</th>\n",
       "      <th>date</th>\n",
       "      <th>Unnamed: 0</th>\n",
       "      <th>value</th>\n",
       "    </tr>\n",
       "  </thead>\n",
       "  <tbody>\n",
       "    <tr>\n",
       "      <th>0</th>\n",
       "      <td>DAI</td>\n",
       "      <td>0.000003</td>\n",
       "      <td>0.000005</td>\n",
       "      <td>0.741302</td>\n",
       "      <td>0.000014</td>\n",
       "      <td>2021-06-26 12:00:00</td>\n",
       "      <td>12852.0</td>\n",
       "      <td>6.481484e-07</td>\n",
       "    </tr>\n",
       "    <tr>\n",
       "      <th>1</th>\n",
       "      <td>DAI</td>\n",
       "      <td>0.000003</td>\n",
       "      <td>0.000004</td>\n",
       "      <td>0.740801</td>\n",
       "      <td>0.000014</td>\n",
       "      <td>2021-06-26 18:00:00</td>\n",
       "      <td>12858.0</td>\n",
       "      <td>6.481484e-07</td>\n",
       "    </tr>\n",
       "    <tr>\n",
       "      <th>2</th>\n",
       "      <td>DAI</td>\n",
       "      <td>0.000003</td>\n",
       "      <td>0.000004</td>\n",
       "      <td>0.743568</td>\n",
       "      <td>0.000014</td>\n",
       "      <td>2021-06-27 00:00:00</td>\n",
       "      <td>12864.0</td>\n",
       "      <td>6.018520e-07</td>\n",
       "    </tr>\n",
       "    <tr>\n",
       "      <th>3</th>\n",
       "      <td>DAI</td>\n",
       "      <td>0.000003</td>\n",
       "      <td>0.000004</td>\n",
       "      <td>0.745587</td>\n",
       "      <td>0.000014</td>\n",
       "      <td>2021-06-27 06:00:00</td>\n",
       "      <td>12870.0</td>\n",
       "      <td>6.018520e-07</td>\n",
       "    </tr>\n",
       "    <tr>\n",
       "      <th>4</th>\n",
       "      <td>DAI</td>\n",
       "      <td>0.000003</td>\n",
       "      <td>0.000004</td>\n",
       "      <td>0.747147</td>\n",
       "      <td>0.000014</td>\n",
       "      <td>2021-06-27 12:00:00</td>\n",
       "      <td>12876.0</td>\n",
       "      <td>6.018520e-07</td>\n",
       "    </tr>\n",
       "  </tbody>\n",
       "</table>\n",
       "</div>"
      ],
      "text/plain": [
       "  Symbol  liquidityRate_avg  variableBorrowRate_avg  utilizationRate_avg  \\\n",
       "0    DAI           0.000003                0.000005             0.741302   \n",
       "1    DAI           0.000003                0.000004             0.740801   \n",
       "2    DAI           0.000003                0.000004             0.743568   \n",
       "3    DAI           0.000003                0.000004             0.745587   \n",
       "4    DAI           0.000003                0.000004             0.747147   \n",
       "\n",
       "   stableBorrowRate_avg                 date  Unnamed: 0         value  \n",
       "0              0.000014  2021-06-26 12:00:00     12852.0  6.481484e-07  \n",
       "1              0.000014  2021-06-26 18:00:00     12858.0  6.481484e-07  \n",
       "2              0.000014  2021-06-27 00:00:00     12864.0  6.018520e-07  \n",
       "3              0.000014  2021-06-27 06:00:00     12870.0  6.018520e-07  \n",
       "4              0.000014  2021-06-27 12:00:00     12876.0  6.018520e-07  "
      ]
     },
     "execution_count": 12,
     "metadata": {},
     "output_type": "execute_result"
    }
   ],
   "source": [
    "df_merged = pd.merge(df_borrowing_rates, df_treasury_rates, how='left', on='date')\n",
    "\n",
    "df_merged.head()"
   ]
  },
  {
   "cell_type": "code",
   "execution_count": 13,
   "metadata": {},
   "outputs": [],
   "source": [
    "df_price[\"Symbol\"] = df_price[\"crypto_symbol\"] \n",
    "df_price.drop(columns=[\"crypto_symbol\"], inplace=True)"
   ]
  },
  {
   "cell_type": "code",
   "execution_count": 14,
   "metadata": {},
   "outputs": [
    {
     "name": "stdout",
     "output_type": "stream",
     "text": [
      "<class 'pandas.core.frame.DataFrame'>\n",
      "RangeIndex: 1087649 entries, 0 to 1087648\n",
      "Data columns (total 11 columns):\n",
      " #   Column       Non-Null Count    Dtype         \n",
      "---  ------       --------------    -----         \n",
      " 0   date         1087649 non-null  datetime64[ns]\n",
      " 1   high         1087649 non-null  object        \n",
      " 2   low          1087649 non-null  object        \n",
      " 3   close        1087649 non-null  object        \n",
      " 4   adj_close    1087649 non-null  object        \n",
      " 5   volume       1087649 non-null  int64         \n",
      " 6   market_cap   0 non-null        object        \n",
      " 7   coin_supply  0 non-null        object        \n",
      " 8   id           1087649 non-null  int64         \n",
      " 9   open         1087649 non-null  object        \n",
      " 10  Symbol       1087649 non-null  object        \n",
      "dtypes: datetime64[ns](1), int64(2), object(8)\n",
      "memory usage: 91.3+ MB\n",
      "None\n"
     ]
    }
   ],
   "source": [
    "print(df_price.info())"
   ]
  },
  {
   "cell_type": "code",
   "execution_count": 15,
   "metadata": {},
   "outputs": [
    {
     "name": "stdout",
     "output_type": "stream",
     "text": [
      "<class 'pandas.core.frame.DataFrame'>\n",
      "RangeIndex: 304074 entries, 0 to 304073\n",
      "Data columns (total 8 columns):\n",
      " #   Column                  Non-Null Count   Dtype  \n",
      "---  ------                  --------------   -----  \n",
      " 0   Symbol                  304074 non-null  object \n",
      " 1   liquidityRate_avg       304074 non-null  float64\n",
      " 2   variableBorrowRate_avg  304074 non-null  float64\n",
      " 3   utilizationRate_avg     304074 non-null  float64\n",
      " 4   stableBorrowRate_avg    304074 non-null  float64\n",
      " 5   date                    304074 non-null  object \n",
      " 6   Unnamed: 0              274398 non-null  float64\n",
      " 7   value                   274398 non-null  float64\n",
      "dtypes: float64(6), object(2)\n",
      "memory usage: 18.6+ MB\n",
      "None\n"
     ]
    }
   ],
   "source": [
    "print(df_merged.info())\n",
    "\n",
    "df_merged[\"date\"] = pd.to_datetime(df_merged[\"date\"], errors=\"coerce\")"
   ]
  },
  {
   "cell_type": "code",
   "execution_count": 16,
   "metadata": {},
   "outputs": [
    {
     "name": "stdout",
     "output_type": "stream",
     "text": [
      "<class 'pandas.core.frame.DataFrame'>\n",
      "RangeIndex: 304074 entries, 0 to 304073\n",
      "Data columns (total 8 columns):\n",
      " #   Column                  Non-Null Count   Dtype         \n",
      "---  ------                  --------------   -----         \n",
      " 0   Symbol                  304074 non-null  object        \n",
      " 1   liquidityRate_avg       304074 non-null  float64       \n",
      " 2   variableBorrowRate_avg  304074 non-null  float64       \n",
      " 3   utilizationRate_avg     304074 non-null  float64       \n",
      " 4   stableBorrowRate_avg    304074 non-null  float64       \n",
      " 5   date                    274398 non-null  datetime64[ns]\n",
      " 6   Unnamed: 0              274398 non-null  float64       \n",
      " 7   value                   274398 non-null  float64       \n",
      "dtypes: datetime64[ns](1), float64(6), object(1)\n",
      "memory usage: 18.6+ MB\n",
      "None\n"
     ]
    }
   ],
   "source": [
    "print(df_merged.info())"
   ]
  },
  {
   "cell_type": "code",
   "execution_count": 17,
   "metadata": {},
   "outputs": [],
   "source": [
    "df_merged['Symbol'] = df_merged['Symbol'].str.strip()\n",
    "df_price['Symbol'] = df_price['Symbol'].str.strip()"
   ]
  },
  {
   "cell_type": "code",
   "execution_count": 18,
   "metadata": {},
   "outputs": [],
   "source": [
    "df_merged_1 = pd.merge(df_merged,df_price, how=\"left\", on=[\"date\",\"Symbol\"] )"
   ]
  },
  {
   "cell_type": "code",
   "execution_count": 19,
   "metadata": {},
   "outputs": [
    {
     "name": "stdout",
     "output_type": "stream",
     "text": [
      "  Symbol  liquidityRate_avg  variableBorrowRate_avg  utilizationRate_avg  \\\n",
      "0    DAI           0.000003                0.000005             0.741302   \n",
      "1    DAI           0.000003                0.000004             0.740801   \n",
      "2    DAI           0.000003                0.000004             0.743568   \n",
      "3    DAI           0.000003                0.000004             0.745587   \n",
      "4    DAI           0.000003                0.000004             0.747147   \n",
      "\n",
      "   stableBorrowRate_avg                date  Unnamed: 0         value high  \\\n",
      "0              0.000014 2021-06-26 12:00:00     12852.0  6.481484e-07  NaN   \n",
      "1              0.000014 2021-06-26 18:00:00     12858.0  6.481484e-07  NaN   \n",
      "2              0.000014 2021-06-27 00:00:00     12864.0  6.018520e-07  NaN   \n",
      "3              0.000014 2021-06-27 06:00:00     12870.0  6.018520e-07  NaN   \n",
      "4              0.000014 2021-06-27 12:00:00     12876.0  6.018520e-07  NaN   \n",
      "\n",
      "   low close adj_close  volume market_cap coin_supply  id open  \n",
      "0  NaN   NaN       NaN     NaN        NaN         NaN NaN  NaN  \n",
      "1  NaN   NaN       NaN     NaN        NaN         NaN NaN  NaN  \n",
      "2  NaN   NaN       NaN     NaN        NaN         NaN NaN  NaN  \n",
      "3  NaN   NaN       NaN     NaN        NaN         NaN NaN  NaN  \n",
      "4  NaN   NaN       NaN     NaN        NaN         NaN NaN  NaN  \n"
     ]
    }
   ],
   "source": [
    "print(df_merged_1.head())"
   ]
  },
  {
   "cell_type": "code",
   "execution_count": 20,
   "metadata": {},
   "outputs": [
    {
     "name": "stdout",
     "output_type": "stream",
     "text": [
      "       Symbol  liquidityRate_avg  variableBorrowRate_avg  utilizationRate_avg  \\\n",
      "4688     TUSD       3.747827e-09            9.201732e-09             0.347702   \n",
      "4689     TUSD       1.387579e-06            3.406420e-06             0.347942   \n",
      "4690     TUSD       7.394939e-07            1.814085e-06             0.348706   \n",
      "4691     TUSD       2.655150e-07            6.508745e-07             0.348727   \n",
      "4692     TUSD       1.774680e-06            4.350293e-06             0.348820   \n",
      "...       ...                ...                     ...                  ...   \n",
      "299584  1INCH       1.568401e-10            7.523262e-05             4.900089   \n",
      "299585  1INCH       1.568401e-10            7.523262e-05             4.900089   \n",
      "299586  1INCH       1.568401e-10            7.523262e-05             4.900089   \n",
      "299587  1INCH       1.568401e-10            7.523262e-05             4.900089   \n",
      "299588  1INCH       1.568401e-10            7.523262e-05             4.900089   \n",
      "\n",
      "        stableBorrowRate_avg                date  Unnamed: 0         value  \\\n",
      "4688                0.000012 2021-06-26 12:00:00     12852.0  6.481484e-07   \n",
      "4689                0.000012 2021-06-26 18:00:00     12858.0  6.481484e-07   \n",
      "4690                0.000012 2021-06-27 00:00:00     12864.0  6.018520e-07   \n",
      "4691                0.000012 2021-06-27 06:00:00     12870.0  6.018520e-07   \n",
      "4692                0.000012 2021-06-27 12:00:00     12876.0  6.018520e-07   \n",
      "...                      ...                 ...         ...           ...   \n",
      "299584              0.000000 2024-08-13 00:00:00     40296.0  7.611401e-05   \n",
      "299585              0.000000 2024-08-13 06:00:00     40302.0  7.611401e-05   \n",
      "299586              0.000000 2024-08-13 12:00:00     40308.0  7.611401e-05   \n",
      "299587              0.000000 2024-08-13 18:00:00     40314.0  7.611401e-05   \n",
      "299588              0.000000 2024-08-14 00:00:00     40320.0  7.625291e-05   \n",
      "\n",
      "           high      low    close adj_close    volume market_cap coin_supply  \\\n",
      "4688    1.00010  0.99990  0.99990   0.99990  220326.0       None        None   \n",
      "4689    1.00010  1.00000  1.00000   1.00000  108218.0       None        None   \n",
      "4690    1.00010  0.99990  0.99990   0.99990  351941.0       None        None   \n",
      "4691    0.99990  0.99980  0.99990   0.99990  148603.0       None        None   \n",
      "4692    0.99980  0.99970  0.99970   0.99970   58589.0       None        None   \n",
      "...         ...      ...      ...       ...       ...        ...         ...   \n",
      "299584  0.26260  0.25970  0.26050   0.26050  765583.0       None        None   \n",
      "299585  0.25780  0.25530  0.25740   0.25740   94478.0       None        None   \n",
      "299586  0.25490  0.25190  0.25460   0.25460  229769.0       None        None   \n",
      "299587  0.26370  0.26200  0.26250   0.26250   86960.0       None        None   \n",
      "299588  0.26820  0.26590  0.26640   0.26640  200809.0       None        None   \n",
      "\n",
      "               id     open  \n",
      "4688    1070627.0  1.00000  \n",
      "4689    1070633.0  1.00010  \n",
      "4690    1070639.0  1.00010  \n",
      "4691    1070645.0  0.99980  \n",
      "4692    1070651.0  0.99980  \n",
      "...           ...      ...  \n",
      "299584   119810.0  0.26060  \n",
      "299585   119816.0  0.25640  \n",
      "299586   119822.0  0.25260  \n",
      "299587   119828.0  0.26360  \n",
      "299588   119834.0  0.26720  \n",
      "\n",
      "[78393 rows x 17 columns]\n"
     ]
    }
   ],
   "source": [
    "df_merged_1_cleaned = df_merged_1.dropna(subset=['low']).copy()\n",
    "\n",
    "print(df_merged_1_cleaned)"
   ]
  },
  {
   "cell_type": "code",
   "execution_count": 21,
   "metadata": {},
   "outputs": [
    {
     "name": "stdout",
     "output_type": "stream",
     "text": [
      "<class 'pandas.core.frame.DataFrame'>\n",
      "Index: 78393 entries, 4688 to 299588\n",
      "Data columns (total 17 columns):\n",
      " #   Column                  Non-Null Count  Dtype         \n",
      "---  ------                  --------------  -----         \n",
      " 0   Symbol                  78393 non-null  object        \n",
      " 1   liquidityRate_avg       78393 non-null  float64       \n",
      " 2   variableBorrowRate_avg  78393 non-null  float64       \n",
      " 3   utilizationRate_avg     78393 non-null  float64       \n",
      " 4   stableBorrowRate_avg    78393 non-null  float64       \n",
      " 5   date                    78393 non-null  datetime64[ns]\n",
      " 6   Unnamed: 0              78393 non-null  float64       \n",
      " 7   value                   78393 non-null  float64       \n",
      " 8   high                    78393 non-null  object        \n",
      " 9   low                     78393 non-null  object        \n",
      " 10  close                   78393 non-null  object        \n",
      " 11  adj_close               78393 non-null  object        \n",
      " 12  volume                  78393 non-null  float64       \n",
      " 13  market_cap              0 non-null      object        \n",
      " 14  coin_supply             0 non-null      object        \n",
      " 15  id                      78393 non-null  float64       \n",
      " 16  open                    78393 non-null  object        \n",
      "dtypes: datetime64[ns](1), float64(8), object(8)\n",
      "memory usage: 10.8+ MB\n",
      "None\n"
     ]
    }
   ],
   "source": [
    "print(df_merged_1_cleaned.info())"
   ]
  },
  {
   "cell_type": "code",
   "execution_count": 22,
   "metadata": {},
   "outputs": [],
   "source": [
    "df_merged_1_cleaned.drop(columns=[\"Unnamed: 0\"], inplace=True)"
   ]
  },
  {
   "cell_type": "code",
   "execution_count": 23,
   "metadata": {},
   "outputs": [
    {
     "name": "stdout",
     "output_type": "stream",
     "text": [
      "['liquidityRate_avg', 'variableBorrowRate_avg', 'utilizationRate_avg', 'stableBorrowRate_avg', 'value', 'high', 'low', 'close', 'adj_close', 'volume', 'market_cap', 'coin_supply', 'id', 'open']\n"
     ]
    }
   ],
   "source": [
    "columns = df_merged_1_cleaned.columns.to_list()\n",
    "\n",
    "columns.remove(\"date\")\n",
    "columns.remove(\"Symbol\")\n",
    "\n",
    "print(columns)\n",
    "\n",
    "for col in columns:\n",
    "    df_merged_1_cleaned[col] = df_merged_1_cleaned[col].astype(float)"
   ]
  },
  {
   "cell_type": "code",
   "execution_count": 24,
   "metadata": {},
   "outputs": [],
   "source": [
    "df_merged_1_cleaned[\"borrow_cost\"] = (df_merged_1_cleaned[\"variableBorrowRate_avg\"]+1)*df_merged_1_cleaned[\"adj_close\"]"
   ]
  },
  {
   "cell_type": "code",
   "execution_count": 25,
   "metadata": {},
   "outputs": [],
   "source": [
    "file_path_test = f\"{current_path}\\\\test_data.xlsx\"\n",
    "\n",
    "df_merged_1_cleaned.to_excel(file_path_test)"
   ]
  },
  {
   "cell_type": "code",
   "execution_count": 26,
   "metadata": {},
   "outputs": [],
   "source": [
    "market_series = df_merged_1_cleaned.groupby(df_merged_1_cleaned[\"date\"])[\"borrow_cost\"].mean()\n"
   ]
  },
  {
   "cell_type": "code",
   "execution_count": 27,
   "metadata": {},
   "outputs": [
    {
     "data": {
      "text/html": [
       "<div>\n",
       "<style scoped>\n",
       "    .dataframe tbody tr th:only-of-type {\n",
       "        vertical-align: middle;\n",
       "    }\n",
       "\n",
       "    .dataframe tbody tr th {\n",
       "        vertical-align: top;\n",
       "    }\n",
       "\n",
       "    .dataframe thead th {\n",
       "        text-align: right;\n",
       "    }\n",
       "</style>\n",
       "<table border=\"1\" class=\"dataframe\">\n",
       "  <thead>\n",
       "    <tr style=\"text-align: right;\">\n",
       "      <th></th>\n",
       "      <th>Symbol</th>\n",
       "      <th>liquidityRate_avg</th>\n",
       "      <th>variableBorrowRate_avg</th>\n",
       "      <th>utilizationRate_avg</th>\n",
       "      <th>stableBorrowRate_avg</th>\n",
       "      <th>date</th>\n",
       "      <th>value</th>\n",
       "      <th>high</th>\n",
       "      <th>low</th>\n",
       "      <th>close</th>\n",
       "      <th>adj_close</th>\n",
       "      <th>volume</th>\n",
       "      <th>market_cap</th>\n",
       "      <th>coin_supply</th>\n",
       "      <th>id</th>\n",
       "      <th>open</th>\n",
       "      <th>borrow_cost</th>\n",
       "    </tr>\n",
       "  </thead>\n",
       "  <tbody>\n",
       "    <tr>\n",
       "      <th>4688</th>\n",
       "      <td>TUSD</td>\n",
       "      <td>3.747827e-09</td>\n",
       "      <td>9.201732e-09</td>\n",
       "      <td>0.347702</td>\n",
       "      <td>0.000012</td>\n",
       "      <td>2021-06-26 12:00:00</td>\n",
       "      <td>6.481484e-07</td>\n",
       "      <td>1.0001</td>\n",
       "      <td>0.9999</td>\n",
       "      <td>0.9999</td>\n",
       "      <td>0.9999</td>\n",
       "      <td>220326.0</td>\n",
       "      <td>NaN</td>\n",
       "      <td>NaN</td>\n",
       "      <td>1070627.0</td>\n",
       "      <td>1.0000</td>\n",
       "      <td>0.999900</td>\n",
       "    </tr>\n",
       "    <tr>\n",
       "      <th>4689</th>\n",
       "      <td>TUSD</td>\n",
       "      <td>1.387579e-06</td>\n",
       "      <td>3.406420e-06</td>\n",
       "      <td>0.347942</td>\n",
       "      <td>0.000012</td>\n",
       "      <td>2021-06-26 18:00:00</td>\n",
       "      <td>6.481484e-07</td>\n",
       "      <td>1.0001</td>\n",
       "      <td>1.0000</td>\n",
       "      <td>1.0000</td>\n",
       "      <td>1.0000</td>\n",
       "      <td>108218.0</td>\n",
       "      <td>NaN</td>\n",
       "      <td>NaN</td>\n",
       "      <td>1070633.0</td>\n",
       "      <td>1.0001</td>\n",
       "      <td>1.000003</td>\n",
       "    </tr>\n",
       "    <tr>\n",
       "      <th>4690</th>\n",
       "      <td>TUSD</td>\n",
       "      <td>7.394939e-07</td>\n",
       "      <td>1.814085e-06</td>\n",
       "      <td>0.348706</td>\n",
       "      <td>0.000012</td>\n",
       "      <td>2021-06-27 00:00:00</td>\n",
       "      <td>6.018520e-07</td>\n",
       "      <td>1.0001</td>\n",
       "      <td>0.9999</td>\n",
       "      <td>0.9999</td>\n",
       "      <td>0.9999</td>\n",
       "      <td>351941.0</td>\n",
       "      <td>NaN</td>\n",
       "      <td>NaN</td>\n",
       "      <td>1070639.0</td>\n",
       "      <td>1.0001</td>\n",
       "      <td>0.999902</td>\n",
       "    </tr>\n",
       "    <tr>\n",
       "      <th>4691</th>\n",
       "      <td>TUSD</td>\n",
       "      <td>2.655150e-07</td>\n",
       "      <td>6.508745e-07</td>\n",
       "      <td>0.348727</td>\n",
       "      <td>0.000012</td>\n",
       "      <td>2021-06-27 06:00:00</td>\n",
       "      <td>6.018520e-07</td>\n",
       "      <td>0.9999</td>\n",
       "      <td>0.9998</td>\n",
       "      <td>0.9999</td>\n",
       "      <td>0.9999</td>\n",
       "      <td>148603.0</td>\n",
       "      <td>NaN</td>\n",
       "      <td>NaN</td>\n",
       "      <td>1070645.0</td>\n",
       "      <td>0.9998</td>\n",
       "      <td>0.999901</td>\n",
       "    </tr>\n",
       "    <tr>\n",
       "      <th>4692</th>\n",
       "      <td>TUSD</td>\n",
       "      <td>1.774680e-06</td>\n",
       "      <td>4.350293e-06</td>\n",
       "      <td>0.348820</td>\n",
       "      <td>0.000012</td>\n",
       "      <td>2021-06-27 12:00:00</td>\n",
       "      <td>6.018520e-07</td>\n",
       "      <td>0.9998</td>\n",
       "      <td>0.9997</td>\n",
       "      <td>0.9997</td>\n",
       "      <td>0.9997</td>\n",
       "      <td>58589.0</td>\n",
       "      <td>NaN</td>\n",
       "      <td>NaN</td>\n",
       "      <td>1070651.0</td>\n",
       "      <td>0.9998</td>\n",
       "      <td>0.999704</td>\n",
       "    </tr>\n",
       "  </tbody>\n",
       "</table>\n",
       "</div>"
      ],
      "text/plain": [
       "     Symbol  liquidityRate_avg  variableBorrowRate_avg  utilizationRate_avg  \\\n",
       "4688   TUSD       3.747827e-09            9.201732e-09             0.347702   \n",
       "4689   TUSD       1.387579e-06            3.406420e-06             0.347942   \n",
       "4690   TUSD       7.394939e-07            1.814085e-06             0.348706   \n",
       "4691   TUSD       2.655150e-07            6.508745e-07             0.348727   \n",
       "4692   TUSD       1.774680e-06            4.350293e-06             0.348820   \n",
       "\n",
       "      stableBorrowRate_avg                date         value    high     low  \\\n",
       "4688              0.000012 2021-06-26 12:00:00  6.481484e-07  1.0001  0.9999   \n",
       "4689              0.000012 2021-06-26 18:00:00  6.481484e-07  1.0001  1.0000   \n",
       "4690              0.000012 2021-06-27 00:00:00  6.018520e-07  1.0001  0.9999   \n",
       "4691              0.000012 2021-06-27 06:00:00  6.018520e-07  0.9999  0.9998   \n",
       "4692              0.000012 2021-06-27 12:00:00  6.018520e-07  0.9998  0.9997   \n",
       "\n",
       "       close  adj_close    volume  market_cap  coin_supply         id    open  \\\n",
       "4688  0.9999     0.9999  220326.0         NaN          NaN  1070627.0  1.0000   \n",
       "4689  1.0000     1.0000  108218.0         NaN          NaN  1070633.0  1.0001   \n",
       "4690  0.9999     0.9999  351941.0         NaN          NaN  1070639.0  1.0001   \n",
       "4691  0.9999     0.9999  148603.0         NaN          NaN  1070645.0  0.9998   \n",
       "4692  0.9997     0.9997   58589.0         NaN          NaN  1070651.0  0.9998   \n",
       "\n",
       "      borrow_cost  \n",
       "4688     0.999900  \n",
       "4689     1.000003  \n",
       "4690     0.999902  \n",
       "4691     0.999901  \n",
       "4692     0.999704  "
      ]
     },
     "execution_count": 27,
     "metadata": {},
     "output_type": "execute_result"
    }
   ],
   "source": [
    "df_merged_1_cleaned.head()"
   ]
  },
  {
   "cell_type": "code",
   "execution_count": 28,
   "metadata": {},
   "outputs": [],
   "source": [
    "df_merged_1_cleaned['log_return'] = df_merged_1_cleaned.groupby('Symbol')['borrow_cost'].transform(lambda x: np.log(x / x.shift(1)))"
   ]
  },
  {
   "cell_type": "code",
   "execution_count": 29,
   "metadata": {},
   "outputs": [],
   "source": [
    "df_merged_1_cleaned = df_merged_1_cleaned.dropna(subset=['log_return'])"
   ]
  },
  {
   "cell_type": "code",
   "execution_count": 30,
   "metadata": {},
   "outputs": [
    {
     "name": "stdout",
     "output_type": "stream",
     "text": [
      "4689      0.000103\n",
      "4690     -0.000102\n",
      "4691     -0.000001\n",
      "4692     -0.000196\n",
      "4693      0.000298\n",
      "            ...   \n",
      "299584    0.007707\n",
      "299585   -0.011972\n",
      "299586   -0.010938\n",
      "299587    0.030557\n",
      "299588    0.014748\n",
      "Name: log_return, Length: 78372, dtype: float64\n"
     ]
    }
   ],
   "source": [
    "print(df_merged_1_cleaned[\"log_return\"])"
   ]
  },
  {
   "cell_type": "code",
   "execution_count": 31,
   "metadata": {},
   "outputs": [],
   "source": [
    "coins_expected_returns = df_merged_1_cleaned.groupby(df_merged_1_cleaned[\"Symbol\"])[\"log_return\"].mean()\n",
    "coins_risk = df_merged_1_cleaned.groupby(df_merged_1_cleaned[\"Symbol\"])[\"log_return\"].std()"
   ]
  },
  {
   "cell_type": "code",
   "execution_count": 32,
   "metadata": {},
   "outputs": [
    {
     "name": "stdout",
     "output_type": "stream",
     "text": [
      "Symbol\n",
      "1INCH   -3.455120e-04\n",
      "AAVE    -8.956574e-05\n",
      "BAL     -5.093130e-04\n",
      "BAT     -2.654437e-04\n",
      "BUSD     7.608712e-08\n",
      "CRV     -4.094491e-04\n",
      "ENJ     -4.566959e-04\n",
      "ENS      7.373151e-06\n",
      "KNC     -2.670313e-04\n",
      "LINK    -1.179528e-04\n",
      "MANA    -1.357130e-04\n",
      "MKR     -3.950150e-05\n",
      "REN     -5.065943e-04\n",
      "SNX     -3.556902e-04\n",
      "SUSD    -1.716744e-05\n",
      "TUSD    -5.527166e-08\n",
      "UNI     -2.426123e-04\n",
      "USDC    -2.300162e-08\n",
      "WBTC     3.570873e-04\n",
      "YFI     -4.147905e-04\n",
      "ZRX     -1.579411e-04\n",
      "Name: log_return, dtype: float64\n",
      "Symbol\n",
      "1INCH    0.024429\n",
      "AAVE     0.027669\n",
      "BAL      0.024240\n",
      "BAT      0.025719\n",
      "BUSD     0.000928\n",
      "CRV      0.031436\n",
      "ENJ      0.028977\n",
      "ENS      0.032204\n",
      "KNC      0.030263\n",
      "LINK     0.025397\n",
      "MANA     0.030248\n",
      "MKR      0.025738\n",
      "REN      0.033969\n",
      "SNX      0.031807\n",
      "SUSD     0.002158\n",
      "TUSD     0.001236\n",
      "UNI      0.026896\n",
      "USDC     0.001588\n",
      "WBTC     0.012672\n",
      "YFI      0.025000\n",
      "ZRX      0.031738\n",
      "Name: log_return, dtype: float64\n"
     ]
    }
   ],
   "source": [
    "print(coins_expected_returns)\n",
    "print(coins_risk)"
   ]
  },
  {
   "cell_type": "code",
   "execution_count": 33,
   "metadata": {},
   "outputs": [],
   "source": [
    "market_log_returns = np.log(market_series / market_series.shift(1))\n",
    "market_log_returns = market_log_returns.dropna()\n",
    "\n",
    "market_mean = market_log_returns.mean()\n",
    "market_risk = market_log_returns.std()"
   ]
  },
  {
   "cell_type": "code",
   "execution_count": 34,
   "metadata": {},
   "outputs": [
    {
     "name": "stdout",
     "output_type": "stream",
     "text": [
      "0.0006648246432589423\n",
      "0.03275027843111266\n"
     ]
    }
   ],
   "source": [
    "print(market_mean)\n",
    "print(market_risk)"
   ]
  },
  {
   "cell_type": "code",
   "execution_count": 35,
   "metadata": {},
   "outputs": [
    {
     "name": "stdout",
     "output_type": "stream",
     "text": [
      "Symbol\n",
      "1INCH   -0.017189\n",
      "AAVE    -0.005917\n",
      "BAL     -0.024081\n",
      "BAT     -0.013209\n",
      "BUSD    -0.081993\n",
      "CRV     -0.015374\n",
      "ENJ     -0.018316\n",
      "ENS     -0.002063\n",
      "KNC     -0.011267\n",
      "LINK    -0.007570\n",
      "MANA    -0.006931\n",
      "MKR     -0.004421\n",
      "REN     -0.017082\n",
      "SNX     -0.013504\n",
      "SUSD    -0.043220\n",
      "TUSD    -0.061667\n",
      "UNI     -0.011779\n",
      "USDC    -0.047946\n",
      "WBTC     0.022237\n",
      "YFI     -0.019565\n",
      "ZRX     -0.007303\n",
      "Name: log_return, dtype: float64\n"
     ]
    }
   ],
   "source": [
    "import matplotlib.pyplot as plt\n",
    "\n",
    "rf = df_merged_1_cleaned[\"value\"].iloc[-1]\n",
    "\n",
    "market_sharpe = (market_mean-rf)/market_risk + rf\n",
    "\n",
    "coins_sharpe = (coins_expected_returns-rf)/coins_risk + rf\n",
    "print(coins_sharpe)"
   ]
  },
  {
   "cell_type": "code",
   "execution_count": 36,
   "metadata": {},
   "outputs": [
    {
     "name": "stderr",
     "output_type": "stream",
     "text": [
      "C:\\Users\\sghia\\AppData\\Local\\Temp\\ipykernel_18988\\3384032709.py:29: FutureWarning: Series.__getitem__ treating keys as positions is deprecated. In a future version, integer keys will always be treated as labels (consistent with DataFrame behavior). To access a value by position, use `ser.iloc[pos]`\n",
      "  plt.annotate(coin, (coins_risk[i], coins_expected_returns[i]),\n"
     ]
    },
    {
     "data": {
      "image/png": "[encoded data removed]",
      "text/plain": [
       "<Figure size 1000x600 with 1 Axes>"
      ]
     },
     "metadata": {},
     "output_type": "display_data"
    }
   ],
   "source": [
    "import numpy as np\n",
    "import matplotlib.pyplot as plt\n",
    "\n",
    "# Assuming the following variables are defined:\n",
    "# market_mean = ...  # Expected return of the market\n",
    "# rf = df_merged_1_cleaned[\"value\"].iloc[-1]  # Risk-free rate\n",
    "# market_risk = ...  # Standard deviation of the market returns\n",
    "# coins_risk = ...  # Standard deviations (risks) of the coins\n",
    "# coins_expected_returns = ...  # Expected returns of the coins, with names as index\n",
    "\n",
    "# Calculate the market Sharpe ratio and the expected return on the CML\n",
    "x_values = np.linspace(0, 1, 2)  # Different risk levels\n",
    "market_sharpe = (market_mean - rf) / market_risk + rf\n",
    "\n",
    "# Calculate CML returns for the x_values (risk levels)\n",
    "cml_returns = rf + ((market_mean - rf) / market_risk) * x_values\n",
    "\n",
    "# Create the plot\n",
    "plt.figure(figsize=(10, 6))\n",
    "\n",
    "# Plot the Capital Market Line\n",
    "plt.plot(x_values, cml_returns, label='Capital Market Line (CML)', color='blue')\n",
    "\n",
    "# Plot the assets\n",
    "scatter = plt.scatter(coins_risk, coins_expected_returns, color='orange')\n",
    "\n",
    "# Annotate each point with the corresponding coin name\n",
    "for i, coin in enumerate(coins_expected_returns.index):\n",
    "    plt.annotate(coin, (coins_risk[i], coins_expected_returns[i]), \n",
    "                 textcoords=\"offset points\",  # How to position the text\n",
    "                 xytext=(0, 10),  # Distance from the point (x,y)\n",
    "                 ha='center')  # Horizontal alignment\n",
    "\n",
    "# Add labels and legend\n",
    "plt.title('Capital Market Line and Cryptocurrencies')\n",
    "plt.xlabel('Risk (Standard Deviation)')\n",
    "plt.ylabel('Expected Return')\n",
    "plt.axhline(y=rf, color='green', linestyle='--', label='Risk-Free Rate')\n",
    "plt.legend()\n",
    "plt.grid()\n",
    "plt.show()\n"
   ]
  }
 ],
 "metadata": {
  "kernelspec": {
   "display_name": "base",
   "language": "python",
   "name": "python3"
  },
  "language_info": {
   "codemirror_mode": {
    "name": "ipython",
    "version": 3
   },
   "file_extension": ".py",
   "mimetype": "text/x-python",
   "name": "python",
   "nbconvert_exporter": "python",
   "pygments_lexer": "ipython3",
   "version": "3.11.7"
  }
 },
 "nbformat": 4,
 "nbformat_minor": 2
}
