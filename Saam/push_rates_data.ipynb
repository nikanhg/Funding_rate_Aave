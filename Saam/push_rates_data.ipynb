{
 "cells": [
  {
   "cell_type": "code",
   "execution_count": null,
   "metadata": {},
   "outputs": [],
   "source": [
    "import mysql.connector\n",
    "\n",
    "connection = mysql.connector.connect(\n",
    "            host=\"crypto-matter.c5eq66ogk1mf.eu-central-1.rds.amazonaws.com\",\n",
    "            user=\"Nikan\",\n",
    "            passwd=\"your_password\",\n",
    "            database=\"Crypto\"\n",
    "        )\n",
    "\n",
    "cursor = connection.cursor()\n",
    "\n",
    "unique_symbols = rates_df[['Symbol']].drop_duplicates()['Symbol'].tolist()\n",
    "\n",
    "existing_symbols_query = \"SELECT crypto_symbol FROM crypto_reference WHERE crypto_symbol IN %s\"\n",
    "cursor.execute(existing_symbols_query, (tuple(unique_symbols),))\n",
    "existing_symbols = {row[0] for row in cursor.fetchall()}\n",
    "\n",
    "missing_symbols = [(symbol, symbol) for symbol in unique_symbols if symbol not in existing_symbols]\n",
    "\n",
    "if missing_symbols:\n",
    "    insert_reference_statement = \"INSERT IGNORE INTO crypto_reference (crypto_symbol, crypto_name) VALUES (%s, %s)\"\n",
    "    cursor.executemany(insert_reference_statement, missing_symbols)\n",
    "\n",
    "insert_statement = \"\"\"\n",
    "    INSERT IGNORE INTO crypto_lending_borrowing (crypto_symbol, date, lending_rate, borrowing_rate, utilization_rate, stable_borrow_rate)\n",
    "    VALUES (%s, %s, %s, %s, %s, %s)\n",
    "\"\"\"\n",
    "\n",
    "data = rates_df[['Symbol', 'date', 'liquidityRate_avg', 'variableBorrowRate_avg', 'utilizationRate_avg', 'stableBorrowRate_avg']].values.tolist()\n",
    "cursor.executemany(insert_statement, data)\n",
    "\n",
    "# Commit and close connection\n",
    "connection.commit()\n",
    "cursor.close()\n",
    "connection.close()"
   ]
  }
 ],
 "metadata": {
  "language_info": {
   "name": "python"
  }
 },
 "nbformat": 4,
 "nbformat_minor": 2
}
